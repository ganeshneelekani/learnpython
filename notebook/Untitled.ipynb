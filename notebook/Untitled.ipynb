{
 "cells": [
  {
   "cell_type": "markdown",
   "id": "e5095265",
   "metadata": {},
   "source": [
    "# conditional statement"
   ]
  },
  {
   "cell_type": "code",
   "execution_count": 8,
   "id": "1a480325",
   "metadata": {},
   "outputs": [
    {
     "name": "stdout",
     "output_type": "stream",
     "text": [
      "Enter the first number20\n",
      "Enter the second number56\n",
      "Value20\n",
      "My name is John, I'm 36\n"
     ]
    }
   ],
   "source": [
    "a=int(input(\"Enter the first number\"))\n",
    "b=int(input(\"Enter the second number\"))\n",
    "if a < b:\n",
    "    print(f\"Value{a}\")\n",
    "    print(\"My name is {fname}, I'm {age}\".format(fname = \"John\", age = 36))\n",
    "else:    \n",
    "    print(f\"Value{b}\")"
   ]
  },
  {
   "cell_type": "markdown",
   "id": "c66da866",
   "metadata": {},
   "source": [
    "# if...elseif...else"
   ]
  },
  {
   "cell_type": "code",
   "execution_count": 13,
   "id": "360134e4",
   "metadata": {},
   "outputs": [
    {
     "name": "stdout",
     "output_type": "stream",
     "text": [
      "Line 1\n"
     ]
    }
   ],
   "source": [
    "if 2<3 and 1<2:\n",
    "    print(\"Line 1\")\n",
    "elif 5<6:\n",
    "    print(\"Line 2\")\n",
    "else:\n",
    "    print(\"Line 3\")\n",
    " "
   ]
  },
  {
   "cell_type": "markdown",
   "id": "d2afbc6b",
   "metadata": {},
   "source": [
    "# Nested if... else statement\n"
   ]
  },
  {
   "cell_type": "code",
   "execution_count": 15,
   "id": "cc41148f",
   "metadata": {},
   "outputs": [
    {
     "name": "stdout",
     "output_type": "stream",
     "text": [
      "Line 1\n"
     ]
    }
   ],
   "source": [
    "if 1<2:\n",
    "    if 2<3:\n",
    "        print(\"Line 1\")\n",
    "    else:\n",
    "        print(\"Line 2\")\n",
    "else:\n",
    "    print(\"Line 3\")"
   ]
  },
  {
   "cell_type": "code",
   "execution_count": 39,
   "id": "cce70dd2",
   "metadata": {},
   "outputs": [
    {
     "name": "stdout",
     "output_type": "stream",
     "text": [
      "Hello! python\n",
      "Hlo yhn\n",
      "Hl tn\n",
      "nohtyp !olleH\n"
     ]
    }
   ],
   "source": []
  },
  {
   "cell_type": "code",
   "execution_count": null,
   "id": "296d7d25",
   "metadata": {},
   "outputs": [],
   "source": []
  }
 ],
 "metadata": {
  "kernelspec": {
   "display_name": "Python 3 (ipykernel)",
   "language": "python",
   "name": "python3"
  },
  "language_info": {
   "codemirror_mode": {
    "name": "ipython",
    "version": 3
   },
   "file_extension": ".py",
   "mimetype": "text/x-python",
   "name": "python",
   "nbconvert_exporter": "python",
   "pygments_lexer": "ipython3",
   "version": "3.11.3"
  }
 },
 "nbformat": 4,
 "nbformat_minor": 5
}
