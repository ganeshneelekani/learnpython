{
 "cells": [
  {
   "cell_type": "markdown",
   "id": "c356d63f",
   "metadata": {},
   "source": [
    "# Dictionary "
   ]
  },
  {
   "cell_type": "code",
   "execution_count": 1,
   "id": "b251a55a",
   "metadata": {},
   "outputs": [
    {
     "name": "stdout",
     "output_type": "stream",
     "text": [
      "{1: 100, 2: 200, 3: 300, 4: 400} <class 'dict'>\n"
     ]
    }
   ],
   "source": [
    "d={1:100,2:200,3:300,4:400}\n",
    "print(d, type(d))"
   ]
  },
  {
   "cell_type": "code",
   "execution_count": 5,
   "id": "e994827e",
   "metadata": {},
   "outputs": [
    {
     "name": "stdout",
     "output_type": "stream",
     "text": [
      "Person 1's name: John\n",
      "Person 2's city: Sometown\n"
     ]
    }
   ],
   "source": [
    "# Accessing a value from dictioonary\n",
    "# For any invalid key it raises key error\n",
    "nested_dict = {\n",
    "    'person1': {\n",
    "        'name': 'John',\n",
    "        'age': 30,\n",
    "        'address': {\n",
    "            'street': '123 Main St',\n",
    "            'city': 'Anytown',\n",
    "            'state': 'CA'\n",
    "        }\n",
    "    },\n",
    "    'person2': {\n",
    "        'name': 'Jane',\n",
    "        'age': 25,\n",
    "        'address': {\n",
    "            'street': '456 Oak St',\n",
    "            'city': 'Sometown',\n",
    "            'state': 'NY'\n",
    "        }\n",
    "    }\n",
    "}\n",
    "\n",
    "# Accessing nested dictionary values\n",
    "print(\"Person 1's name:\", nested_dict['person1']['name'])\n",
    "print(\"Person 2's city:\", nested_dict['person2']['address']['city'])\n",
    "# print(nested_dict['person3']) Gives error"
   ]
  },
  {
   "cell_type": "code",
   "execution_count": 8,
   "id": "35c98b2c",
   "metadata": {},
   "outputs": [
    {
     "name": "stdout",
     "output_type": "stream",
     "text": [
      "{1: 100, 2: 200, 3: 300, 4: 400}\n",
      "{1: 100, 2: 'Number', 3: 300, 4: 400}\n",
      "{1: 100, 2: 'Number', 3: 300, 4: 400, 5: 'Number'}\n"
     ]
    }
   ],
   "source": [
    "# Add a new key value pair or change particular key in dictionary\n",
    "d={1:100,2:200,3:300,4:400}\n",
    "print(d)\n",
    "\n",
    "d[2]='Number'\n",
    "print(d)\n",
    "\n",
    "d[5]='Number'\n",
    "print(d)\n",
    "\n",
    "\n"
   ]
  },
  {
   "cell_type": "code",
   "execution_count": 9,
   "id": "0330ff8b",
   "metadata": {},
   "outputs": [],
   "source": [
    "# Dictonary is mutable\n"
   ]
  },
  {
   "cell_type": "markdown",
   "id": "831252b4",
   "metadata": {},
   "source": [
    "# Operations on Dictionary"
   ]
  },
  {
   "cell_type": "code",
   "execution_count": 11,
   "id": "56ee1df3",
   "metadata": {},
   "outputs": [
    {
     "name": "stdout",
     "output_type": "stream",
     "text": [
      "['__class__', '__class_getitem__', '__contains__', '__delattr__', '__delitem__', '__dir__', '__doc__', '__eq__', '__format__', '__ge__', '__getattribute__', '__getitem__', '__getstate__', '__gt__', '__hash__', '__init__', '__init_subclass__', '__ior__', '__iter__', '__le__', '__len__', '__lt__', '__ne__', '__new__', '__or__', '__reduce__', '__reduce_ex__', '__repr__', '__reversed__', '__ror__', '__setattr__', '__setitem__', '__sizeof__', '__str__', '__subclasshook__', 'clear', 'copy', 'fromkeys', 'get', 'items', 'keys', 'pop', 'popitem', 'setdefault', 'update', 'values']\n"
     ]
    }
   ],
   "source": [
    "print(dir(dict))"
   ]
  },
  {
   "cell_type": "code",
   "execution_count": 12,
   "id": "bcc56f0f",
   "metadata": {},
   "outputs": [],
   "source": [
    "# 'clear', 'copy', 'fromkeys', 'get', 'items', 'keys', 'pop', 'popitem', 'setdefault', 'update', 'values'\n",
    "# Concatination, Repetaions, Indexing and Slicing are not possible with a dictionary"
   ]
  },
  {
   "cell_type": "markdown",
   "id": "d0dd7d6f",
   "metadata": {},
   "source": [
    "# How to create a dictionary"
   ]
  },
  {
   "cell_type": "markdown",
   "id": "296ba78c",
   "metadata": {},
   "source": [
    "# Case 1"
   ]
  },
  {
   "cell_type": "code",
   "execution_count": 13,
   "id": "fd599d5f",
   "metadata": {},
   "outputs": [
    {
     "name": "stdout",
     "output_type": "stream",
     "text": [
      "{1: 100, 2: 200, 3: 300, 4: 400}\n"
     ]
    }
   ],
   "source": [
    "# When we already know the element\n",
    "d={1:100,2:200,3:300,4:400}\n",
    "print(d)"
   ]
  },
  {
   "cell_type": "markdown",
   "id": "d9ab7f63",
   "metadata": {},
   "source": [
    "# Case 2"
   ]
  },
  {
   "cell_type": "code",
   "execution_count": 18,
   "id": "230270b3",
   "metadata": {},
   "outputs": [
    {
     "name": "stdout",
     "output_type": "stream",
     "text": [
      "{1: 2}\n",
      "{'Name': 'Bharath', 'Age': 24}\n"
     ]
    }
   ],
   "source": [
    "# By using dict()\n",
    "# dict(iterable)\n",
    "\n",
    "# The iterable that we pass inside the dict() must have atleast one or more itearble inside it\n",
    "# The inner iterable must have two elements,The  first element becomes the key and seconf element becomes the value\n",
    "d=dict([(1,2)])\n",
    "print(d)\n",
    "\n",
    "d=dict([('Name','Bharath'),('Age',24)])\n",
    "print(d)"
   ]
  },
  {
   "cell_type": "code",
   "execution_count": null,
   "id": "268be52b",
   "metadata": {},
   "outputs": [],
   "source": []
  },
  {
   "cell_type": "code",
   "execution_count": null,
   "id": "c669665c",
   "metadata": {},
   "outputs": [],
   "source": []
  }
 ],
 "metadata": {
  "kernelspec": {
   "display_name": "Python 3 (ipykernel)",
   "language": "python",
   "name": "python3"
  },
  "language_info": {
   "codemirror_mode": {
    "name": "ipython",
    "version": 3
   },
   "file_extension": ".py",
   "mimetype": "text/x-python",
   "name": "python",
   "nbconvert_exporter": "python",
   "pygments_lexer": "ipython3",
   "version": "3.11.3"
  }
 },
 "nbformat": 4,
 "nbformat_minor": 5
}
