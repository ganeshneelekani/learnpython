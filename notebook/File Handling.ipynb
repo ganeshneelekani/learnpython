{
 "cells": [
  {
   "cell_type": "code",
   "execution_count": 1,
   "id": "6724f3ef",
   "metadata": {},
   "outputs": [],
   "source": [
    "import sys\n",
    "sys.path.append(r'C:\\Users\\AI0702-GNeelekani\\PycharmProjects')"
   ]
  },
  {
   "cell_type": "code",
   "execution_count": 2,
   "id": "2cb4f95d",
   "metadata": {},
   "outputs": [
    {
     "data": {
      "text/plain": [
       "['C:\\\\Users\\\\AI0702-GNeelekani\\\\PycharmProjects\\\\learnPython\\\\notebook',\n",
       " 'C:\\\\Users\\\\AI0702-GNeelekani\\\\PycharmProjects\\\\learnPython\\\\notebook\\\\%SPARK_HOME%\\\\python',\n",
       " 'C:\\\\Users\\\\AI0702-GNeelekani\\\\PycharmProjects\\\\learnPython\\\\notebook\\\\$SPARK_HOME\\\\python\\\\lib\\\\py4j-0.10.9-src.zip',\n",
       " 'C:\\\\Users\\\\AI0702-GNeelekani\\\\PycharmProjects\\\\learnPython\\\\notebook\\\\%PYTHONPATH%',\n",
       " 'C:\\\\Users\\\\AI0702-GNeelekani\\\\anaconda3\\\\python311.zip',\n",
       " 'C:\\\\Users\\\\AI0702-GNeelekani\\\\anaconda3\\\\DLLs',\n",
       " 'C:\\\\Users\\\\AI0702-GNeelekani\\\\anaconda3\\\\Lib',\n",
       " 'C:\\\\Users\\\\AI0702-GNeelekani\\\\anaconda3',\n",
       " '',\n",
       " 'C:\\\\Users\\\\AI0702-GNeelekani\\\\anaconda3\\\\Lib\\\\site-packages',\n",
       " 'C:\\\\Users\\\\AI0702-GNeelekani\\\\anaconda3\\\\Lib\\\\site-packages\\\\win32',\n",
       " 'C:\\\\Users\\\\AI0702-GNeelekani\\\\anaconda3\\\\Lib\\\\site-packages\\\\win32\\\\lib',\n",
       " 'C:\\\\Users\\\\AI0702-GNeelekani\\\\anaconda3\\\\Lib\\\\site-packages\\\\Pythonwin',\n",
       " 'C:\\\\Users\\\\AI0702-GNeelekani\\\\PycharmProjects']"
      ]
     },
     "execution_count": 2,
     "metadata": {},
     "output_type": "execute_result"
    }
   ],
   "source": [
    "sys.path"
   ]
  },
  {
   "cell_type": "code",
   "execution_count": 3,
   "id": "53d8bef5",
   "metadata": {},
   "outputs": [],
   "source": [
    "import input_file as tt"
   ]
  },
  {
   "cell_type": "code",
   "execution_count": 4,
   "id": "e23cec96",
   "metadata": {},
   "outputs": [
    {
     "data": {
      "text/plain": [
       "16"
      ]
     },
     "execution_count": 4,
     "metadata": {},
     "output_type": "execute_result"
    }
   ],
   "source": [
    "tt.square(4)"
   ]
  },
  {
   "cell_type": "code",
   "execution_count": 7,
   "id": "422e0bad",
   "metadata": {},
   "outputs": [],
   "source": [
    "import input_file "
   ]
  },
  {
   "cell_type": "code",
   "execution_count": 8,
   "id": "22cd1f71",
   "metadata": {},
   "outputs": [
    {
     "data": {
      "text/plain": [
       "'C:\\\\Users\\\\AI0702-GNeelekani\\\\PycharmProjects\\\\learnPython\\\\notebook'"
      ]
     },
     "execution_count": 8,
     "metadata": {},
     "output_type": "execute_result"
    }
   ],
   "source": [
    "pwd"
   ]
  },
  {
   "cell_type": "code",
   "execution_count": 10,
   "id": "c7d7f4ba",
   "metadata": {},
   "outputs": [
    {
     "ename": "Exception",
     "evalue": "File `'input_file.py'` not found.",
     "output_type": "error",
     "traceback": [
      "\u001b[1;31m---------------------------------------------------------------------------\u001b[0m",
      "\u001b[1;31mOSError\u001b[0m                                   Traceback (most recent call last)",
      "File \u001b[1;32m~\\anaconda3\\Lib\\site-packages\\IPython\\core\\magics\\execution.py:701\u001b[0m, in \u001b[0;36mExecutionMagics.run\u001b[1;34m(self, parameter_s, runner, file_finder)\u001b[0m\n\u001b[0;32m    700\u001b[0m     fpath \u001b[38;5;241m=\u001b[39m arg_lst[\u001b[38;5;241m0\u001b[39m]\n\u001b[1;32m--> 701\u001b[0m     filename \u001b[38;5;241m=\u001b[39m file_finder(fpath)\n\u001b[0;32m    702\u001b[0m \u001b[38;5;28;01mexcept\u001b[39;00m \u001b[38;5;167;01mIndexError\u001b[39;00m \u001b[38;5;28;01mas\u001b[39;00m e:\n",
      "File \u001b[1;32m~\\anaconda3\\Lib\\site-packages\\IPython\\utils\\path.py:90\u001b[0m, in \u001b[0;36mget_py_filename\u001b[1;34m(name)\u001b[0m\n\u001b[0;32m     89\u001b[0m         \u001b[38;5;28;01mreturn\u001b[39;00m py_name\n\u001b[1;32m---> 90\u001b[0m \u001b[38;5;28;01mraise\u001b[39;00m \u001b[38;5;167;01mIOError\u001b[39;00m(\u001b[38;5;124m\"\u001b[39m\u001b[38;5;124mFile `\u001b[39m\u001b[38;5;132;01m%r\u001b[39;00m\u001b[38;5;124m` not found.\u001b[39m\u001b[38;5;124m\"\u001b[39m \u001b[38;5;241m%\u001b[39m name)\n",
      "\u001b[1;31mOSError\u001b[0m: File `'input_file.py'` not found.",
      "\nThe above exception was the direct cause of the following exception:\n",
      "\u001b[1;31mException\u001b[0m                                 Traceback (most recent call last)",
      "Cell \u001b[1;32mIn[10], line 1\u001b[0m\n\u001b[1;32m----> 1\u001b[0m get_ipython()\u001b[38;5;241m.\u001b[39mrun_line_magic(\u001b[38;5;124m'\u001b[39m\u001b[38;5;124mrun\u001b[39m\u001b[38;5;124m'\u001b[39m, \u001b[38;5;124m'\u001b[39m\u001b[38;5;124minput_file.py\u001b[39m\u001b[38;5;124m'\u001b[39m)\n",
      "File \u001b[1;32m~\\anaconda3\\Lib\\site-packages\\IPython\\core\\interactiveshell.py:2414\u001b[0m, in \u001b[0;36mInteractiveShell.run_line_magic\u001b[1;34m(self, magic_name, line, _stack_depth)\u001b[0m\n\u001b[0;32m   2412\u001b[0m     kwargs[\u001b[38;5;124m'\u001b[39m\u001b[38;5;124mlocal_ns\u001b[39m\u001b[38;5;124m'\u001b[39m] \u001b[38;5;241m=\u001b[39m \u001b[38;5;28mself\u001b[39m\u001b[38;5;241m.\u001b[39mget_local_scope(stack_depth)\n\u001b[0;32m   2413\u001b[0m \u001b[38;5;28;01mwith\u001b[39;00m \u001b[38;5;28mself\u001b[39m\u001b[38;5;241m.\u001b[39mbuiltin_trap:\n\u001b[1;32m-> 2414\u001b[0m     result \u001b[38;5;241m=\u001b[39m fn(\u001b[38;5;241m*\u001b[39margs, \u001b[38;5;241m*\u001b[39m\u001b[38;5;241m*\u001b[39mkwargs)\n\u001b[0;32m   2416\u001b[0m \u001b[38;5;66;03m# The code below prevents the output from being displayed\u001b[39;00m\n\u001b[0;32m   2417\u001b[0m \u001b[38;5;66;03m# when using magics with decodator @output_can_be_silenced\u001b[39;00m\n\u001b[0;32m   2418\u001b[0m \u001b[38;5;66;03m# when the last Python token in the expression is a ';'.\u001b[39;00m\n\u001b[0;32m   2419\u001b[0m \u001b[38;5;28;01mif\u001b[39;00m \u001b[38;5;28mgetattr\u001b[39m(fn, magic\u001b[38;5;241m.\u001b[39mMAGIC_OUTPUT_CAN_BE_SILENCED, \u001b[38;5;28;01mFalse\u001b[39;00m):\n",
      "File \u001b[1;32m~\\anaconda3\\Lib\\site-packages\\IPython\\core\\magics\\execution.py:712\u001b[0m, in \u001b[0;36mExecutionMagics.run\u001b[1;34m(self, parameter_s, runner, file_finder)\u001b[0m\n\u001b[0;32m    710\u001b[0m     \u001b[38;5;28;01mif\u001b[39;00m os\u001b[38;5;241m.\u001b[39mname \u001b[38;5;241m==\u001b[39m \u001b[38;5;124m'\u001b[39m\u001b[38;5;124mnt\u001b[39m\u001b[38;5;124m'\u001b[39m \u001b[38;5;129;01mand\u001b[39;00m re\u001b[38;5;241m.\u001b[39mmatch(\u001b[38;5;124mr\u001b[39m\u001b[38;5;124m\"\u001b[39m\u001b[38;5;124m^\u001b[39m\u001b[38;5;124m'\u001b[39m\u001b[38;5;124m.*\u001b[39m\u001b[38;5;124m'\u001b[39m\u001b[38;5;124m$\u001b[39m\u001b[38;5;124m\"\u001b[39m,fpath):\n\u001b[0;32m    711\u001b[0m         warn(\u001b[38;5;124m'\u001b[39m\u001b[38;5;124mFor Windows, use double quotes to wrap a filename: \u001b[39m\u001b[38;5;132;01m%r\u001b[39;00m\u001b[38;5;124mun \u001b[39m\u001b[38;5;124m\"\u001b[39m\u001b[38;5;124mmypath\u001b[39m\u001b[38;5;130;01m\\\\\u001b[39;00m\u001b[38;5;124mmyfile.py\u001b[39m\u001b[38;5;124m\"\u001b[39m\u001b[38;5;124m'\u001b[39m)\n\u001b[1;32m--> 712\u001b[0m     \u001b[38;5;28;01mraise\u001b[39;00m \u001b[38;5;167;01mException\u001b[39;00m(msg) \u001b[38;5;28;01mfrom\u001b[39;00m \u001b[38;5;21;01me\u001b[39;00m\n\u001b[0;32m    713\u001b[0m \u001b[38;5;28;01mexcept\u001b[39;00m \u001b[38;5;167;01mTypeError\u001b[39;00m:\n\u001b[0;32m    714\u001b[0m     \u001b[38;5;28;01mif\u001b[39;00m fpath \u001b[38;5;129;01min\u001b[39;00m sys\u001b[38;5;241m.\u001b[39mmeta_path:\n",
      "\u001b[1;31mException\u001b[0m: File `'input_file.py'` not found."
     ]
    }
   ],
   "source": [
    "# %run input_file.py - It should be same location"
   ]
  },
  {
   "cell_type": "markdown",
   "id": "6a7ec86f",
   "metadata": {},
   "source": [
    "# File handling\n"
   ]
  },
  {
   "cell_type": "markdown",
   "id": "39c6efb7",
   "metadata": {},
   "source": [
    "# Types of files in python"
   ]
  },
  {
   "cell_type": "markdown",
   "id": "53555091",
   "metadata": {},
   "source": [
    "- Text files\n",
    "- Binary files"
   ]
  },
  {
   "cell_type": "code",
   "execution_count": 1,
   "id": "a9313ea8",
   "metadata": {},
   "outputs": [],
   "source": [
    "# Text files - .txt, .py, .pdf, .csv etc\n",
    "# Binary files - Apart from text files every other file is a binary file\n",
    "# Examples - Images, Video File, Audio file, .dat, .bin etc"
   ]
  },
  {
   "cell_type": "markdown",
   "id": "296af34f",
   "metadata": {},
   "source": [
    "# Text files"
   ]
  },
  {
   "cell_type": "markdown",
   "id": "d9aedecc",
   "metadata": {},
   "source": [
    "- In Python we have to open a file first to perform any operation\n",
    "- Perform operation (read , write or update)\n",
    "- Close the file"
   ]
  },
  {
   "cell_type": "markdown",
   "id": "4b99f048",
   "metadata": {},
   "source": [
    "# Note"
   ]
  },
  {
   "cell_type": "markdown",
   "id": "affca3e1",
   "metadata": {},
   "source": [
    "- In Python a file has to be opened first then only we can perform any operation\n",
    "- After performing any operation  we can close , otherwise changes will not be seen"
   ]
  },
  {
   "cell_type": "markdown",
   "id": "47c9e7ec",
   "metadata": {},
   "source": [
    "# How to open a file?"
   ]
  },
  {
   "cell_type": "code",
   "execution_count": 3,
   "id": "0ae0173b",
   "metadata": {},
   "outputs": [],
   "source": [
    "# open() is used to open file\n",
    "\n",
    "# Syntax - file_object = open('File_name.extension','mode')"
   ]
  },
  {
   "cell_type": "markdown",
   "id": "1d28089c",
   "metadata": {},
   "source": [
    "# Close a file"
   ]
  },
  {
   "cell_type": "code",
   "execution_count": 6,
   "id": "e329264a",
   "metadata": {},
   "outputs": [],
   "source": [
    "# file_object.close()"
   ]
  },
  {
   "cell_type": "markdown",
   "id": "d34191dc",
   "metadata": {},
   "source": [
    "# Functions to perform operation on the file"
   ]
  },
  {
   "cell_type": "markdown",
   "id": "46bc1f34",
   "metadata": {},
   "source": [
    "- read()         - Reads the content of the file from the cursors position to the end of the file and returns a string.\n",
    "                   after the read of file cursor is placed at teh end of file\n",
    "- readline()     - Reads one line at a time and always reads from the cursor position\n",
    "- readlines()    - Reads the all the lines of teh file and returms a list  \n",
    "- seek()         - Used to shift the cursors position\n",
    "- tell()         - Returns cursors current position  \n",
    "- write()        - takes a string as an argument and it write it into a file\n",
    "- writelines()   -  It takes a list as an arrgumnet and write it into a file.\n",
    "\n",
    "-\n",
    "- All the above function can be accessed using the file object only"
   ]
  },
  {
   "cell_type": "markdown",
   "id": "6d8ae3e2",
   "metadata": {},
   "source": [
    "# Modes on text files"
   ]
  },
  {
   "cell_type": "markdown",
   "id": "11a400ab",
   "metadata": {},
   "source": [
    "- Modes decidewhat operationwe can perform on the file"
   ]
  },
  {
   "cell_type": "markdown",
   "id": "3ee09db2",
   "metadata": {},
   "source": [
    "- Read mode\n",
    "- Write mode\n",
    "- Append mode\n",
    "- write and read mode\n",
    "- Read and write mode\n",
    "- Read and append mode"
   ]
  },
  {
   "cell_type": "markdown",
   "id": "d32f7d54",
   "metadata": {},
   "source": [
    "# Read mode - 'r'"
   ]
  },
  {
   "cell_type": "markdown",
   "id": "ca66d9ca",
   "metadata": {},
   "source": [
    "- If the file already exusts then it opens the file in the read mode and place the cursor at the beginning of the file\n",
    "- If the file does not exist it raises file not found error\n",
    "- This is default mode"
   ]
  },
  {
   "cell_type": "code",
   "execution_count": 18,
   "id": "fdffbc45",
   "metadata": {},
   "outputs": [
    {
     "name": "stdout",
     "output_type": "stream",
     "text": [
      "0\n",
      "This is Python write\n",
      "20\n"
     ]
    },
    {
     "data": {
      "text/plain": [
       "True"
      ]
     },
     "execution_count": 18,
     "metadata": {},
     "output_type": "execute_result"
    }
   ],
   "source": [
    "f=open('file1.txt','r')\n",
    "print(f.tell())\n",
    "\n",
    "print(f.read())\n",
    "\n",
    "print(f.tell())\n",
    "\n",
    "f.close()\n",
    "f.closed"
   ]
  },
  {
   "cell_type": "code",
   "execution_count": 16,
   "id": "fb2428a2",
   "metadata": {},
   "outputs": [],
   "source": [
    "# f=open('file1-not exist.txt','r') - Gives error\n",
    "# print(f.tell())"
   ]
  },
  {
   "cell_type": "markdown",
   "id": "1ff92b04",
   "metadata": {},
   "source": [
    "# Write mode - 'r'"
   ]
  },
  {
   "cell_type": "markdown",
   "id": "18c3dfd8",
   "metadata": {},
   "source": [
    "- If the file already exusts then it opens the file in write mode\n",
    "- When we open a file in write mode the previolus of the file is washed off\n",
    "- If the file does not exists then it creates a file and open it in write mode"
   ]
  },
  {
   "cell_type": "code",
   "execution_count": 25,
   "id": "87aa6645",
   "metadata": {},
   "outputs": [
    {
     "name": "stdout",
     "output_type": "stream",
     "text": [
      "0\n"
     ]
    },
    {
     "data": {
      "text/plain": [
       "20"
      ]
     },
     "execution_count": 25,
     "metadata": {},
     "output_type": "execute_result"
    }
   ],
   "source": [
    "f=open('file1.txt','w')\n",
    "print(f.tell())\n",
    "\n",
    "f.write('This is Python write')\n"
   ]
  },
  {
   "cell_type": "code",
   "execution_count": 26,
   "id": "3f68305e",
   "metadata": {},
   "outputs": [
    {
     "name": "stdout",
     "output_type": "stream",
     "text": [
      "0\n",
      "This is Python write\n",
      "20\n"
     ]
    }
   ],
   "source": [
    "f=open('file1.txt','r')\n",
    "print(f.tell())\n",
    "print(f.read())\n",
    "\n",
    "print(f.tell())\n",
    "\n",
    "f.close()"
   ]
  },
  {
   "cell_type": "markdown",
   "id": "1b53fce3",
   "metadata": {},
   "source": [
    "# Append mode - 'a'"
   ]
  },
  {
   "cell_type": "markdown",
   "id": "03738ca0",
   "metadata": {},
   "source": [
    "- If the file already exists then it opens the file in append mode and place the cursor at the end of the file.\n",
    "- We are allowed to write into the file but we are noot allowed to read from the file\n",
    "- seek() is not applicable in thi mode. It always append at the end of the file"
   ]
  },
  {
   "cell_type": "code",
   "execution_count": 27,
   "id": "d9fdf76b",
   "metadata": {},
   "outputs": [
    {
     "name": "stdout",
     "output_type": "stream",
     "text": [
      "20\n"
     ]
    }
   ],
   "source": [
    "f=open('file1.txt','a')\n",
    "print(f.tell())"
   ]
  },
  {
   "cell_type": "code",
   "execution_count": 28,
   "id": "b1c7fae1",
   "metadata": {},
   "outputs": [
    {
     "data": {
      "text/plain": [
       "19"
      ]
     },
     "execution_count": 28,
     "metadata": {},
     "output_type": "execute_result"
    }
   ],
   "source": [
    "my_str = ' python append mode'\n",
    "len(my_str)"
   ]
  },
  {
   "cell_type": "code",
   "execution_count": 40,
   "id": "f8517bb2",
   "metadata": {},
   "outputs": [
    {
     "name": "stdout",
     "output_type": "stream",
     "text": [
      "0\n",
      "This is Python write python append mode python append mode python append mode\n",
      "77\n",
      "is Python write python append mode python append mode python append mode\n",
      "77\n"
     ]
    }
   ],
   "source": [
    "f=open('file1.txt','r')\n",
    "print(f.tell())\n",
    "print(f.read())\n",
    "print(f.tell())\n",
    "f.seek(5)\n",
    "print(f.read())\n",
    "print(f.tell())"
   ]
  },
  {
   "cell_type": "code",
   "execution_count": 39,
   "id": "2c8808f0",
   "metadata": {},
   "outputs": [
    {
     "name": "stdout",
     "output_type": "stream",
     "text": [
      "58\n",
      "This is Python write python append mode python append mode python append mode\n"
     ]
    }
   ],
   "source": [
    "f=open('file1.txt','a')\n",
    "print(f.tell())\n",
    "f.write(my_str)\n",
    "f.close()\n",
    "\n",
    "f=open('file1.txt','r')\n",
    "print(f.read())\n",
    "f.close()"
   ]
  },
  {
   "cell_type": "markdown",
   "id": "0bb67d76",
   "metadata": {},
   "source": [
    "# Write and Read mode - 'w+'"
   ]
  },
  {
   "cell_type": "markdown",
   "id": "88f82c8b",
   "metadata": {},
   "source": [
    "- If the file already exists tnem it open the file in wriet mode\n",
    "- In write mode the previous data of teh file will be lost.\n",
    "- We are allowed to write into the file as well as we are allowed to read from the file\n",
    "- If the files does not exits then it creates a file with the gives name and extension"
   ]
  },
  {
   "cell_type": "code",
   "execution_count": 43,
   "id": "866d1ade",
   "metadata": {},
   "outputs": [
    {
     "name": "stdout",
     "output_type": "stream",
     "text": [
      "Hello python\n"
     ]
    }
   ],
   "source": [
    "f=open('file2.txt','w+')\n",
    "f.write('Hello python') \n",
    "f.seek(0) # We should seek because write moves cursor to the end of the line\n",
    "print(f.read())\n",
    "f.close()"
   ]
  },
  {
   "cell_type": "markdown",
   "id": "3c074bad",
   "metadata": {},
   "source": [
    "# Read and Write mode - 'r+'"
   ]
  },
  {
   "cell_type": "markdown",
   "id": "433c476f",
   "metadata": {},
   "source": [
    "- If the file already exists then it opens the file in read mode and places the cursor at the beginning of the file\n",
    "- If the file does not exist then it raises file not found error\n",
    "- We are allowed to read from the file as well as we are allowed to write into the file\n",
    "- File cursor will be atthe beginning of the file\n",
    "- seek() is applicable here\n",
    "- It overwrites the data"
   ]
  },
  {
   "cell_type": "code",
   "execution_count": 48,
   "id": "87893fc6",
   "metadata": {},
   "outputs": [
    {
     "name": "stdout",
     "output_type": "stream",
     "text": [
      "0\n",
      "This is Python write python append mode python append mode python append mode I am trying Read and Write mode I am trying Read and Write mode\n",
      "173\n",
      "\n"
     ]
    }
   ],
   "source": [
    "f=open('file1.txt', 'r+')\n",
    "print(f.tell())\n",
    "print(f.read())\n",
    "f.write(' I am trying Read and Write mode')\n",
    "print(f.tell())\n",
    "f.seek(0)\n",
    "print(f.read())"
   ]
  },
  {
   "cell_type": "markdown",
   "id": "bcb4c845",
   "metadata": {},
   "source": [
    "#  Append and Read mode - 'a+'"
   ]
  },
  {
   "cell_type": "markdown",
   "id": "499899e4",
   "metadata": {},
   "source": [
    "- If the file already exists then it opens the file in the read mode and places the cursor at the end of the file\n",
    "- If the file does not extst then it creates teh file with the given name and extension\n",
    "- We are allowed to write into the file as well as we are allowed to read from the file\n",
    "- seek() is not applicable for writing possibek for reading\n",
    "- It always appends at the end irrespective of cursor position\n"
   ]
  },
  {
   "cell_type": "code",
   "execution_count": 49,
   "id": "27673b14",
   "metadata": {},
   "outputs": [
    {
     "name": "stdout",
     "output_type": "stream",
     "text": [
      "23\n"
     ]
    }
   ],
   "source": [
    "f=open('file3.txt','a+')\n",
    "print(f.tell())\n",
    "f.write('Tomorrow is monday')\n",
    "f.close()"
   ]
  },
  {
   "cell_type": "code",
   "execution_count": 52,
   "id": "8586e418",
   "metadata": {},
   "outputs": [
    {
     "name": "stdout",
     "output_type": "stream",
     "text": [
      "67\n",
      "Hi Python, \n",
      "How are youTomorrow is mondayHello BrotherHello BrotherHello Brother\n"
     ]
    }
   ],
   "source": [
    "f=open('file3.txt','a+')\n",
    "print(f.tell())\n",
    "f.write('Hello Brother')\n",
    "f.seek(0)\n",
    "print(f.read())\n",
    "f.close()"
   ]
  },
  {
   "cell_type": "markdown",
   "id": "406ea6cb",
   "metadata": {},
   "source": [
    "# Count the number of lines in file\n"
   ]
  },
  {
   "cell_type": "code",
   "execution_count": 54,
   "id": "2a00f794",
   "metadata": {},
   "outputs": [
    {
     "name": "stdout",
     "output_type": "stream",
     "text": [
      "['This is Python write python append mode python append mode python append mode']\n",
      "1\n"
     ]
    }
   ],
   "source": [
    "with open('file1.txt','r') as f:\n",
    "    data=f.readlines()\n",
    "\n",
    "print(data)    \n",
    "print(len(data))  "
   ]
  },
  {
   "cell_type": "markdown",
   "id": "61d35329",
   "metadata": {},
   "source": [
    "# Count the number of words in file"
   ]
  },
  {
   "cell_type": "code",
   "execution_count": 61,
   "id": "30afa31c",
   "metadata": {},
   "outputs": [
    {
     "name": "stdout",
     "output_type": "stream",
     "text": [
      "This is Python write python append mode python append mode python append mode\n",
      "This\n",
      "is\n",
      "Python\n",
      "write\n",
      "python\n",
      "append\n",
      "mode\n",
      "python\n",
      "append\n",
      "mode\n",
      "python\n",
      "append\n",
      "mode\n",
      "13\n"
     ]
    }
   ],
   "source": [
    "with open('file1.txt','r') as f:\n",
    "    data=f.read()\n",
    "    \n",
    "print(data) \n",
    "\n",
    "for i in data.split():\n",
    "    print(i)\n",
    "    \n",
    "print(len(data.split()))  "
   ]
  },
  {
   "cell_type": "markdown",
   "id": "144cac88",
   "metadata": {},
   "source": [
    "# Count the number of characters in file"
   ]
  },
  {
   "cell_type": "code",
   "execution_count": 59,
   "id": "c94c6cb3",
   "metadata": {},
   "outputs": [
    {
     "name": "stdout",
     "output_type": "stream",
     "text": [
      "['This', 'is', 'Python', 'write', 'python', 'append', 'mode', 'python', 'append', 'mode', 'python', 'append', 'mode']\n"
     ]
    }
   ],
   "source": [
    "with open('file1.txt','r') as f:\n",
    "    data=f.read().split()\n",
    "    \n",
    "print(data)    "
   ]
  },
  {
   "cell_type": "markdown",
   "id": "f8096e99",
   "metadata": {},
   "source": [
    "# Binary files"
   ]
  },
  {
   "cell_type": "markdown",
   "id": "85db62c0",
   "metadata": {},
   "source": [
    "- In Python Binary files are the files that keeps the data in bytes stream or bytes like stream\n",
    "- Any data that we want to store in a binary file has to be converted into bytes or bytes like types\n",
    "- Binary files - Image, Audio, Video, .dat, .bin etc\n",
    "- bytes - It is a datatype"
   ]
  },
  {
   "cell_type": "markdown",
   "id": "47a575db",
   "metadata": {},
   "source": [
    "# Modes on a Binary file"
   ]
  },
  {
   "cell_type": "markdown",
   "id": "c8c174fe",
   "metadata": {},
   "source": [
    "- Read mode - 'rb'\n",
    "- Write mode - 'wb'\n",
    "- Append mode - 'ab'\n",
    "- Write and Read mode - 'wb+'\n",
    "- Read and write mode - 'rb+'\n",
    "- Append and Read mode - 'ab+'"
   ]
  },
  {
   "cell_type": "code",
   "execution_count": 64,
   "id": "44a371e9",
   "metadata": {},
   "outputs": [
    {
     "ename": "AttributeError",
     "evalue": "'_io.BufferedRandom' object has no attribute 'writlines'",
     "output_type": "error",
     "traceback": [
      "\u001b[1;31m---------------------------------------------------------------------------\u001b[0m",
      "\u001b[1;31mAttributeError\u001b[0m                            Traceback (most recent call last)",
      "Cell \u001b[1;32mIn[64], line 6\u001b[0m\n\u001b[0;32m      3\u001b[0m lst \u001b[38;5;241m=\u001b[39m [\u001b[38;5;241m10\u001b[39m,\u001b[38;5;241m20\u001b[39m,\u001b[38;5;241m30\u001b[39m,\u001b[38;5;241m40\u001b[39m]\n\u001b[0;32m      5\u001b[0m \u001b[38;5;28;01mwith\u001b[39;00m \u001b[38;5;28mopen\u001b[39m(\u001b[38;5;124m'\u001b[39m\u001b[38;5;124mlst.dat\u001b[39m\u001b[38;5;124m'\u001b[39m,\u001b[38;5;124m'\u001b[39m\u001b[38;5;124mwb+\u001b[39m\u001b[38;5;124m'\u001b[39m) \u001b[38;5;28;01mas\u001b[39;00m f:\n\u001b[1;32m----> 6\u001b[0m     f\u001b[38;5;241m.\u001b[39mwritlines(lst)\n",
      "\u001b[1;31mAttributeError\u001b[0m: '_io.BufferedRandom' object has no attribute 'writlines'"
     ]
    }
   ],
   "source": [
    "# Store this following list in a binary file lst.dat\n",
    "\n",
    "lst = [10,20,30,40]\n",
    "\n",
    "with open('lst.dat','wb+') as f:\n",
    "    f.writlines(lst)"
   ]
  },
  {
   "cell_type": "markdown",
   "id": "526461af",
   "metadata": {},
   "source": [
    "# How to convert the data into bytes ?"
   ]
  },
  {
   "cell_type": "markdown",
   "id": "89344115",
   "metadata": {},
   "source": [
    "# bytes()"
   ]
  },
  {
   "cell_type": "markdown",
   "id": "1584d455",
   "metadata": {},
   "source": [
    "- It returns bytes object\n",
    "- It converts the int numbers from 0 to 256 into bytes object"
   ]
  },
  {
   "cell_type": "code",
   "execution_count": 65,
   "id": "611e674d",
   "metadata": {},
   "outputs": [
    {
     "name": "stdout",
     "output_type": "stream",
     "text": [
      "b'\\n\\x14\\x1e(' <class 'bytes'>\n"
     ]
    }
   ],
   "source": [
    "lst = [10,20,30,40]\n",
    "b=bytes(lst)\n",
    "print(b,type(b))"
   ]
  },
  {
   "cell_type": "code",
   "execution_count": 67,
   "id": "19c63f28",
   "metadata": {},
   "outputs": [
    {
     "name": "stdout",
     "output_type": "stream",
     "text": [
      "4\n",
      "[10, 20, 30, 40]\n"
     ]
    }
   ],
   "source": [
    "with open('lst.dat','wb+') as f:\n",
    "    f.write(b)\n",
    "    print(f.tell())\n",
    "    f.seek(0)\n",
    "    print(list(f.read()))"
   ]
  },
  {
   "cell_type": "markdown",
   "id": "16696996",
   "metadata": {},
   "source": [
    "# bytearray()"
   ]
  },
  {
   "cell_type": "markdown",
   "id": "3d13d541",
   "metadata": {},
   "source": [
    "- It returns a bytearray object\n",
    "- Bytearray object is the same as byte object\n",
    "- It can convert the int from 0 to 256 to bytearray"
   ]
  },
  {
   "cell_type": "code",
   "execution_count": 68,
   "id": "e122084a",
   "metadata": {},
   "outputs": [
    {
     "name": "stdout",
     "output_type": "stream",
     "text": [
      "bytearray(b'\\n\\x14\\x1e(') <class 'bytearray'>\n"
     ]
    }
   ],
   "source": [
    "lst = [10,20,30,40]\n",
    "b=bytearray(lst)\n",
    "print(b,type(b))"
   ]
  },
  {
   "cell_type": "code",
   "execution_count": 70,
   "id": "d55bcc99",
   "metadata": {},
   "outputs": [
    {
     "name": "stdout",
     "output_type": "stream",
     "text": [
      "4\n",
      "[10, 20, 30, 40]\n"
     ]
    }
   ],
   "source": [
    "with open('lst1.dat','wb+') as f:\n",
    "    f.write(b)\n",
    "    print(f.tell())\n",
    "    f.seek(0)\n",
    "    print(list(f.read()))"
   ]
  },
  {
   "cell_type": "markdown",
   "id": "97ab09ad",
   "metadata": {},
   "source": [
    "# Pickling and Unpickling"
   ]
  },
  {
   "cell_type": "markdown",
   "id": "f75aa5b1",
   "metadata": {},
   "source": [
    "- Using pickling we can convert almost any datatype into byte format\n",
    "- Using unpickling we can convert the bytes data into its actual form\n",
    "- To perform picklin and unpickling we can use pickle module in python"
   ]
  },
  {
   "cell_type": "code",
   "execution_count": 71,
   "id": "dc915ea5",
   "metadata": {},
   "outputs": [],
   "source": [
    "import pickle"
   ]
  },
  {
   "cell_type": "code",
   "execution_count": null,
   "id": "11ab382d",
   "metadata": {},
   "outputs": [],
   "source": [
    "#"
   ]
  }
 ],
 "metadata": {
  "kernelspec": {
   "display_name": "Python 3 (ipykernel)",
   "language": "python",
   "name": "python3"
  },
  "language_info": {
   "codemirror_mode": {
    "name": "ipython",
    "version": 3
   },
   "file_extension": ".py",
   "mimetype": "text/x-python",
   "name": "python",
   "nbconvert_exporter": "python",
   "pygments_lexer": "ipython3",
   "version": "3.11.3"
  }
 },
 "nbformat": 4,
 "nbformat_minor": 5
}
