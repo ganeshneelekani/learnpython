{
 "cells": [
  {
   "cell_type": "markdown",
   "id": "865bbda2",
   "metadata": {},
   "source": [
    "# Types of loop\n",
    "\n",
    "- ## for loop\n",
    "- ## while loop"
   ]
  },
  {
   "cell_type": "markdown",
   "id": "4bdc5bde",
   "metadata": {},
   "source": [
    "# for loop"
   ]
  },
  {
   "cell_type": "code",
   "execution_count": 17,
   "id": "35ed5e86",
   "metadata": {},
   "outputs": [
    {
     "name": "stdout",
     "output_type": "stream",
     "text": [
      "P\n",
      "y\n",
      "t\n",
      "h\n",
      "o\n",
      "n\n"
     ]
    }
   ],
   "source": [
    "for v in 'Python':\n",
    "    print(v)"
   ]
  },
  {
   "cell_type": "code",
   "execution_count": 21,
   "id": "148debf5",
   "metadata": {},
   "outputs": [
    {
     "name": "stdout",
     "output_type": "stream",
     "text": [
      "True\n",
      "Python\n",
      "50\n",
      "{1: 100, 2: 200}\n"
     ]
    }
   ],
   "source": [
    "# iterable - String, List, Tuple, Dictionary, Set, FrozenSet, Range\n",
    "\n",
    "lst = [True, 'Python', 50, {1:100, 2:200}]\n",
    "for x in lst:\n",
    "    print(x)"
   ]
  },
  {
   "cell_type": "code",
   "execution_count": 23,
   "id": "c00ed156",
   "metadata": {},
   "outputs": [
    {
     "name": "stdout",
     "output_type": "stream",
     "text": [
      "1\n",
      "2\n",
      "3\n",
      "4\n",
      "100\n",
      "200\n",
      "300\n",
      "400\n"
     ]
    }
   ],
   "source": [
    "dic = {1:100,2:200,3:300,4:400}\n",
    "\n",
    "for i in dic:\n",
    "    print(i)\n",
    "    \n",
    "for i in dic.values():\n",
    "    print(i)"
   ]
  },
  {
   "cell_type": "code",
   "execution_count": 24,
   "id": "49cced73",
   "metadata": {},
   "outputs": [
    {
     "name": "stdout",
     "output_type": "stream",
     "text": [
      "40\n",
      "10\n",
      "20\n",
      "Hello\n",
      "30\n"
     ]
    }
   ],
   "source": [
    "for i in frozenset([10,20,30,40,\"Hello\"]):\n",
    "    print(i)  "
   ]
  },
  {
   "cell_type": "code",
   "execution_count": 25,
   "id": "89d90cfe",
   "metadata": {},
   "outputs": [
    {
     "name": "stdout",
     "output_type": "stream",
     "text": [
      "0\n",
      "1\n",
      "2\n",
      "3\n",
      "4\n"
     ]
    }
   ],
   "source": [
    "for i in range(5):\n",
    "    print(i)"
   ]
  },
  {
   "cell_type": "code",
   "execution_count": 26,
   "id": "ac6e45d3",
   "metadata": {},
   "outputs": [
    {
     "name": "stdout",
     "output_type": "stream",
     "text": [
      "6\n"
     ]
    }
   ],
   "source": [
    "c=0\n",
    "for i in \"python\":\n",
    "    c+=1\n",
    "print(c)    "
   ]
  },
  {
   "cell_type": "code",
   "execution_count": 29,
   "id": "7d92ce58",
   "metadata": {},
   "outputs": [
    {
     "name": "stdout",
     "output_type": "stream",
     "text": [
      "n\n",
      "o\n",
      "h\n",
      "t\n",
      "y\n",
      "p\n"
     ]
    }
   ],
   "source": [
    "for i in \"python\"[::-1]:\n",
    "    print(i)\n"
   ]
  },
  {
   "cell_type": "code",
   "execution_count": null,
   "id": "c803c557",
   "metadata": {},
   "outputs": [],
   "source": []
  }
 ],
 "metadata": {
  "kernelspec": {
   "display_name": "Python 3 (ipykernel)",
   "language": "python",
   "name": "python3"
  },
  "language_info": {
   "codemirror_mode": {
    "name": "ipython",
    "version": 3
   },
   "file_extension": ".py",
   "mimetype": "text/x-python",
   "name": "python",
   "nbconvert_exporter": "python",
   "pygments_lexer": "ipython3",
   "version": "3.11.3"
  }
 },
 "nbformat": 4,
 "nbformat_minor": 5
}
