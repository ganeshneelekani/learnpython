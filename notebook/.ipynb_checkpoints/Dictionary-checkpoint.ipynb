{
 "cells": [
  {
   "cell_type": "markdown",
   "id": "c1affdfe",
   "metadata": {},
   "source": [
    "# Dictionary "
   ]
  },
  {
   "cell_type": "code",
   "execution_count": 1,
   "id": "5c8c7f87",
   "metadata": {},
   "outputs": [
    {
     "name": "stdout",
     "output_type": "stream",
     "text": [
      "{1: 100, 2: 200, 3: 300, 4: 400} <class 'dict'>\n"
     ]
    }
   ],
   "source": [
    "d={1:100,2:200,3:300,4:400}\n",
    "print(d, type(d))"
   ]
  },
  {
   "cell_type": "code",
   "execution_count": 5,
   "id": "e873f8a9",
   "metadata": {},
   "outputs": [
    {
     "name": "stdout",
     "output_type": "stream",
     "text": [
      "Person 1's name: John\n",
      "Person 2's city: Sometown\n"
     ]
    }
   ],
   "source": [
    "# Accessing a value from dictioonary\n",
    "# For any invalid key it raises key error\n",
    "nested_dict = {\n",
    "    'person1': {\n",
    "        'name': 'John',\n",
    "        'age': 30,\n",
    "        'address': {\n",
    "            'street': '123 Main St',\n",
    "            'city': 'Anytown',\n",
    "            'state': 'CA'\n",
    "        }\n",
    "    },\n",
    "    'person2': {\n",
    "        'name': 'Jane',\n",
    "        'age': 25,\n",
    "        'address': {\n",
    "            'street': '456 Oak St',\n",
    "            'city': 'Sometown',\n",
    "            'state': 'NY'\n",
    "        }\n",
    "    }\n",
    "}\n",
    "\n",
    "# Accessing nested dictionary values\n",
    "print(\"Person 1's name:\", nested_dict['person1']['name'])\n",
    "print(\"Person 2's city:\", nested_dict['person2']['address']['city'])\n",
    "# print(nested_dict['person3']) Gives error"
   ]
  },
  {
   "cell_type": "code",
   "execution_count": 8,
   "id": "200e082d",
   "metadata": {},
   "outputs": [
    {
     "name": "stdout",
     "output_type": "stream",
     "text": [
      "{1: 100, 2: 200, 3: 300, 4: 400}\n",
      "{1: 100, 2: 'Number', 3: 300, 4: 400}\n",
      "{1: 100, 2: 'Number', 3: 300, 4: 400, 5: 'Number'}\n"
     ]
    }
   ],
   "source": [
    "# Add a new key value pair or change particular key in dictionary\n",
    "d={1:100,2:200,3:300,4:400}\n",
    "print(d)\n",
    "\n",
    "d[2]='Number'\n",
    "print(d)\n",
    "\n",
    "d[5]='Number'\n",
    "print(d)\n",
    "\n",
    "\n"
   ]
  },
  {
   "cell_type": "code",
   "execution_count": 9,
   "id": "bda53694",
   "metadata": {},
   "outputs": [],
   "source": [
    "# Dictonary is mutable\n"
   ]
  },
  {
   "cell_type": "markdown",
   "id": "6c19d562",
   "metadata": {},
   "source": [
    "# Operations on Dictionary"
   ]
  },
  {
   "cell_type": "code",
   "execution_count": 11,
   "id": "6e6c0384",
   "metadata": {},
   "outputs": [
    {
     "name": "stdout",
     "output_type": "stream",
     "text": [
      "['__class__', '__class_getitem__', '__contains__', '__delattr__', '__delitem__', '__dir__', '__doc__', '__eq__', '__format__', '__ge__', '__getattribute__', '__getitem__', '__getstate__', '__gt__', '__hash__', '__init__', '__init_subclass__', '__ior__', '__iter__', '__le__', '__len__', '__lt__', '__ne__', '__new__', '__or__', '__reduce__', '__reduce_ex__', '__repr__', '__reversed__', '__ror__', '__setattr__', '__setitem__', '__sizeof__', '__str__', '__subclasshook__', 'clear', 'copy', 'fromkeys', 'get', 'items', 'keys', 'pop', 'popitem', 'setdefault', 'update', 'values']\n"
     ]
    }
   ],
   "source": [
    "print(dir(dict))"
   ]
  },
  {
   "cell_type": "code",
   "execution_count": 12,
   "id": "37bbdc9c",
   "metadata": {},
   "outputs": [],
   "source": [
    "# 'clear', 'copy', 'fromkeys', 'get', 'items', 'keys', 'pop', 'popitem', 'setdefault', 'update', 'values'\n",
    "# Concatination, Repetaions, Indexing and Slicing are not possible with a dictionary"
   ]
  },
  {
   "cell_type": "markdown",
   "id": "ddfb41c7",
   "metadata": {},
   "source": [
    "# How to create a dictionary"
   ]
  },
  {
   "cell_type": "markdown",
   "id": "44230678",
   "metadata": {},
   "source": [
    "# Case 1"
   ]
  },
  {
   "cell_type": "code",
   "execution_count": 13,
   "id": "15df4d52",
   "metadata": {},
   "outputs": [
    {
     "name": "stdout",
     "output_type": "stream",
     "text": [
      "{1: 100, 2: 200, 3: 300, 4: 400}\n"
     ]
    }
   ],
   "source": [
    "# When we already know the element\n",
    "d={1:100,2:200,3:300,4:400}\n",
    "print(d)"
   ]
  },
  {
   "cell_type": "markdown",
   "id": "946e26b6",
   "metadata": {},
   "source": [
    "# Case 2"
   ]
  },
  {
   "cell_type": "code",
   "execution_count": 19,
   "id": "02d5ab87",
   "metadata": {},
   "outputs": [
    {
     "name": "stdout",
     "output_type": "stream",
     "text": [
      "{1: 2}\n",
      "{'Name': 'Bharath', 'Age': 24}\n",
      "{'Game': 'Cricket', 'Venue': 'Colombo'}\n"
     ]
    }
   ],
   "source": [
    "# By using dict()\n",
    "# dict(iterable)\n",
    "\n",
    "# The iterable that we pass inside the dict() must have atleast one or more itearble inside it\n",
    "# The inner iterable must have two elements,The  first element becomes the key and seconf element becomes the value\n",
    "d=dict([(1,2)])\n",
    "print(d)\n",
    "\n",
    "d=dict([('Name','Bharath'),('Age',24)])\n",
    "print(d)\n",
    "\n",
    "d=dict((('Game','Cricket'),('Venue','Colombo')))\n",
    "print(d)"
   ]
  },
  {
   "cell_type": "markdown",
   "id": "a87feedd",
   "metadata": {},
   "source": [
    "## By using enumerate() inside the dict()"
   ]
  },
  {
   "cell_type": "markdown",
   "id": "75bf3cef",
   "metadata": {},
   "source": [
    "### enumerate()"
   ]
  },
  {
   "cell_type": "markdown",
   "id": "19cd8b98",
   "metadata": {},
   "source": [
    "- It takes an iterable as an argument \n",
    "- It maps the elements of that iterable to the values starting from 0 to len(iterable)-1\n",
    "- It returns an enumerate objects"
   ]
  },
  {
   "cell_type": "code",
   "execution_count": 1,
   "id": "45dca53c",
   "metadata": {},
   "outputs": [
    {
     "data": {
      "text/plain": [
       "<enumerate at 0x1bb89c2fa10>"
      ]
     },
     "execution_count": 1,
     "metadata": {},
     "output_type": "execute_result"
    }
   ],
   "source": [
    "enumerate('Data')"
   ]
  },
  {
   "cell_type": "code",
   "execution_count": 6,
   "id": "57295515",
   "metadata": {},
   "outputs": [
    {
     "name": "stdout",
     "output_type": "stream",
     "text": [
      "[(0, 'D'), (1, 'a'), (2, 't'), (3, 'a')]\n",
      "{(3, 'a'), (0, 'D'), (1, 'a'), (2, 't')}\n",
      "((0, 'D'), (1, 'a'), (2, 't'), (3, 'a'))\n",
      "{0: 'D', 1: 'a', 2: 't', 3: 'a'}\n"
     ]
    }
   ],
   "source": [
    "print(list(enumerate('Data')))\n",
    "print(set(enumerate('Data')))\n",
    "print(tuple(enumerate('Data')))\n",
    "print(dict(enumerate('Data')))"
   ]
  },
  {
   "cell_type": "code",
   "execution_count": 9,
   "id": "4d30d918",
   "metadata": {},
   "outputs": [
    {
     "name": "stdout",
     "output_type": "stream",
     "text": [
      "[True, None, 1000, 'Hello', (10+2j), (10, 20, 30, 40), [70, 80, 90, 100]]\n",
      "{0: True, 1: None, 2: 1000, 3: 'Hello', 4: (10+2j), 5: (10, 20, 30, 40), 6: [70, 80, 90, 100]}\n"
     ]
    }
   ],
   "source": [
    "# create a dictionary that has the index of the following list as the keys and element as the values\n",
    "\n",
    "lst = [True,None, 1000,'Hello', 10+2j,(10,20,30,40),[70,80,90,100]]\n",
    "\n",
    "print(lst)\n",
    "\n",
    "print(dict(enumerate(lst)))"
   ]
  },
  {
   "cell_type": "markdown",
   "id": "cc90c396",
   "metadata": {},
   "source": [
    "## By using zip() inside the dict()"
   ]
  },
  {
   "cell_type": "markdown",
   "id": "c4b6e3dc",
   "metadata": {},
   "source": [
    "### Zip()"
   ]
  },
  {
   "cell_type": "markdown",
   "id": "696ba788",
   "metadata": {},
   "source": [
    "- It takes multiple iterable as arguments\n",
    "- It maps the elements of the iterable one by one in sequence\n",
    "- It returns a zip object\n",
    "- To fetch the value from the zip object we can typecast it to list, tuple, dict etc"
   ]
  },
  {
   "cell_type": "code",
   "execution_count": 10,
   "id": "8c469a33",
   "metadata": {},
   "outputs": [
    {
     "name": "stdout",
     "output_type": "stream",
     "text": [
      "<zip object at 0x000001BB89C7F480> <class 'zip'>\n"
     ]
    }
   ],
   "source": [
    "z= zip('Data',[10,20,30,40])\n",
    "print(z,type(z))"
   ]
  },
  {
   "cell_type": "code",
   "execution_count": 11,
   "id": "cdc1263d",
   "metadata": {},
   "outputs": [
    {
     "name": "stdout",
     "output_type": "stream",
     "text": [
      "[('D', 10), ('a', 20), ('t', 30), ('a', 40)]\n"
     ]
    }
   ],
   "source": [
    "print(list(z))"
   ]
  },
  {
   "cell_type": "code",
   "execution_count": 16,
   "id": "327249ed",
   "metadata": {},
   "outputs": [
    {
     "name": "stdout",
     "output_type": "stream",
     "text": [
      "[('D', 10, 100), ('a', 20, 200), ('t', 30, 300), ('a', 40, 400)]\n"
     ]
    }
   ],
   "source": [
    "z= zip('Data',[10,20,30,40],[100,200,300,400])\n",
    "print(list(z))"
   ]
  },
  {
   "cell_type": "code",
   "execution_count": 23,
   "id": "86926681",
   "metadata": {},
   "outputs": [
    {
     "name": "stdout",
     "output_type": "stream",
     "text": [
      "{('D', 10), ('a', 20), ('a', 40), ('t', 30)}\n",
      "{'D': 10, 'a': 40, 't': 30}\n",
      "{'D': 10, 'a': 20, 't': 30}\n"
     ]
    }
   ],
   "source": [
    "z= zip('Data',[10,20,30,40])\n",
    "print(set(z))\n",
    "\n",
    "z= zip('Data',[10,20,30,40])\n",
    "print(dict(z))\n",
    "\n",
    "z= zip('Data',[10,20,30,40],[100,200,300,400])\n",
    "# print(dict(z)) - Gives error\n",
    "\n",
    "z = zip('Data',[10,20,30])\n",
    "print(dict(z))"
   ]
  },
  {
   "cell_type": "code",
   "execution_count": 24,
   "id": "29eb6a6c",
   "metadata": {},
   "outputs": [
    {
     "name": "stdout",
     "output_type": "stream",
     "text": [
      "{'a': 1, 'b': 2, 'c': 3, 'd': 4, 'e': 5}\n"
     ]
    }
   ],
   "source": [
    "emp_names =['a','b','c','d','e']\n",
    "emp_sal= [1,2,3,4,5]\n",
    "\n",
    "print(dict(zip(emp_names,emp_sal)))"
   ]
  },
  {
   "cell_type": "markdown",
   "id": "6911e1d9",
   "metadata": {},
   "source": [
    "# Case 3"
   ]
  },
  {
   "cell_type": "markdown",
   "id": "d6ae5535",
   "metadata": {},
   "source": [
    "- By taking the input from user"
   ]
  },
  {
   "cell_type": "code",
   "execution_count": 25,
   "id": "7d1b52bc",
   "metadata": {},
   "outputs": [
    {
     "name": "stdout",
     "output_type": "stream",
     "text": [
      "Enter the dictionary- {1:1,2:2}\n",
      "{1: 1, 2: 2} <class 'dict'>\n"
     ]
    }
   ],
   "source": [
    "d=eval(input('Enter the dictionary- '))\n",
    "print(d,type(d))"
   ]
  },
  {
   "cell_type": "code",
   "execution_count": 27,
   "id": "9331f15d",
   "metadata": {},
   "outputs": [
    {
     "name": "stdout",
     "output_type": "stream",
     "text": [
      "Enter the key -1\n",
      "Enter the values -1\n",
      "Enter the key -1\n",
      "Enter the values -1\n",
      "Enter the key -1\n",
      "Enter the values -1\n",
      "{1: 1}\n"
     ]
    }
   ],
   "source": [
    "keys= []\n",
    "values= []\n",
    "\n",
    "for i in range(3):\n",
    "    a=eval(input('Enter the key -'))\n",
    "    keys.append(a) # keys=keys+[a] or keys+=[a]\n",
    "    \n",
    "    b=eval(input('Enter the values -'))\n",
    "    values.append(b)\n",
    "    \n",
    "d=dict(zip(keys,values))\n",
    "print(d)\n",
    "    \n",
    "    "
   ]
  },
  {
   "cell_type": "code",
   "execution_count": null,
   "id": "01eb01ca",
   "metadata": {},
   "outputs": [],
   "source": []
  }
 ],
 "metadata": {
  "kernelspec": {
   "display_name": "Python 3 (ipykernel)",
   "language": "python",
   "name": "python3"
  },
  "language_info": {
   "codemirror_mode": {
    "name": "ipython",
    "version": 3
   },
   "file_extension": ".py",
   "mimetype": "text/x-python",
   "name": "python",
   "nbconvert_exporter": "python",
   "pygments_lexer": "ipython3",
   "version": "3.11.3"
  }
 },
 "nbformat": 4,
 "nbformat_minor": 5
}
