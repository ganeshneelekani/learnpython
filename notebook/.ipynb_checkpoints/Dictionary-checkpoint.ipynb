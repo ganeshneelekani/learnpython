{
 "cells": [
  {
   "cell_type": "markdown",
   "id": "c1affdfe",
   "metadata": {},
   "source": [
    "# Dictionary "
   ]
  },
  {
   "cell_type": "code",
   "execution_count": 1,
   "id": "5c8c7f87",
   "metadata": {},
   "outputs": [
    {
     "name": "stdout",
     "output_type": "stream",
     "text": [
      "{1: 100, 2: 200, 3: 300, 4: 400} <class 'dict'>\n"
     ]
    }
   ],
   "source": [
    "d={1:100,2:200,3:300,4:400}\n",
    "print(d, type(d))"
   ]
  },
  {
   "cell_type": "code",
   "execution_count": 5,
   "id": "e873f8a9",
   "metadata": {},
   "outputs": [
    {
     "name": "stdout",
     "output_type": "stream",
     "text": [
      "Person 1's name: John\n",
      "Person 2's city: Sometown\n"
     ]
    }
   ],
   "source": [
    "# Accessing a value from dictioonary\n",
    "# For any invalid key it raises key error\n",
    "nested_dict = {\n",
    "    'person1': {\n",
    "        'name': 'John',\n",
    "        'age': 30,\n",
    "        'address': {\n",
    "            'street': '123 Main St',\n",
    "            'city': 'Anytown',\n",
    "            'state': 'CA'\n",
    "        }\n",
    "    },\n",
    "    'person2': {\n",
    "        'name': 'Jane',\n",
    "        'age': 25,\n",
    "        'address': {\n",
    "            'street': '456 Oak St',\n",
    "            'city': 'Sometown',\n",
    "            'state': 'NY'\n",
    "        }\n",
    "    }\n",
    "}\n",
    "\n",
    "# Accessing nested dictionary values\n",
    "print(\"Person 1's name:\", nested_dict['person1']['name'])\n",
    "print(\"Person 2's city:\", nested_dict['person2']['address']['city'])\n",
    "# print(nested_dict['person3']) Gives error"
   ]
  },
  {
   "cell_type": "code",
   "execution_count": 8,
   "id": "200e082d",
   "metadata": {},
   "outputs": [
    {
     "name": "stdout",
     "output_type": "stream",
     "text": [
      "{1: 100, 2: 200, 3: 300, 4: 400}\n",
      "{1: 100, 2: 'Number', 3: 300, 4: 400}\n",
      "{1: 100, 2: 'Number', 3: 300, 4: 400, 5: 'Number'}\n"
     ]
    }
   ],
   "source": [
    "# Add a new key value pair or change particular key in dictionary\n",
    "d={1:100,2:200,3:300,4:400}\n",
    "print(d)\n",
    "\n",
    "d[2]='Number'\n",
    "print(d)\n",
    "\n",
    "d[5]='Number'\n",
    "print(d)\n",
    "\n",
    "\n"
   ]
  },
  {
   "cell_type": "code",
   "execution_count": 9,
   "id": "bda53694",
   "metadata": {},
   "outputs": [],
   "source": [
    "# Dictonary is mutable\n"
   ]
  },
  {
   "cell_type": "markdown",
   "id": "6c19d562",
   "metadata": {},
   "source": [
    "# Operations on Dictionary"
   ]
  },
  {
   "cell_type": "code",
   "execution_count": 11,
   "id": "6e6c0384",
   "metadata": {},
   "outputs": [
    {
     "name": "stdout",
     "output_type": "stream",
     "text": [
      "['__class__', '__class_getitem__', '__contains__', '__delattr__', '__delitem__', '__dir__', '__doc__', '__eq__', '__format__', '__ge__', '__getattribute__', '__getitem__', '__getstate__', '__gt__', '__hash__', '__init__', '__init_subclass__', '__ior__', '__iter__', '__le__', '__len__', '__lt__', '__ne__', '__new__', '__or__', '__reduce__', '__reduce_ex__', '__repr__', '__reversed__', '__ror__', '__setattr__', '__setitem__', '__sizeof__', '__str__', '__subclasshook__', 'clear', 'copy', 'fromkeys', 'get', 'items', 'keys', 'pop', 'popitem', 'setdefault', 'update', 'values']\n"
     ]
    }
   ],
   "source": [
    "print(dir(dict))"
   ]
  },
  {
   "cell_type": "code",
   "execution_count": 12,
   "id": "37bbdc9c",
   "metadata": {},
   "outputs": [],
   "source": [
    "# 'clear', 'copy', 'fromkeys', 'get', 'items', 'keys', 'pop', 'popitem', 'setdefault', 'update', 'values'\n",
    "# Concatination, Repetaions, Indexing and Slicing are not possible with a dictionary"
   ]
  },
  {
   "cell_type": "markdown",
   "id": "ddfb41c7",
   "metadata": {},
   "source": [
    "# How to create a dictionary"
   ]
  },
  {
   "cell_type": "markdown",
   "id": "44230678",
   "metadata": {},
   "source": [
    "# Case 1"
   ]
  },
  {
   "cell_type": "code",
   "execution_count": 13,
   "id": "15df4d52",
   "metadata": {},
   "outputs": [
    {
     "name": "stdout",
     "output_type": "stream",
     "text": [
      "{1: 100, 2: 200, 3: 300, 4: 400}\n"
     ]
    }
   ],
   "source": [
    "# When we already know the element\n",
    "d={1:100,2:200,3:300,4:400}\n",
    "print(d)"
   ]
  },
  {
   "cell_type": "markdown",
   "id": "946e26b6",
   "metadata": {},
   "source": [
    "# Case 2"
   ]
  },
  {
   "cell_type": "code",
   "execution_count": 19,
   "id": "02d5ab87",
   "metadata": {},
   "outputs": [
    {
     "name": "stdout",
     "output_type": "stream",
     "text": [
      "{1: 2}\n",
      "{'Name': 'Bharath', 'Age': 24}\n",
      "{'Game': 'Cricket', 'Venue': 'Colombo'}\n"
     ]
    }
   ],
   "source": [
    "# By using dict()\n",
    "# dict(iterable)\n",
    "\n",
    "# The iterable that we pass inside the dict() must have atleast one or more itearble inside it\n",
    "# The inner iterable must have two elements,The  first element becomes the key and seconf element becomes the value\n",
    "d=dict([(1,2)])\n",
    "print(d)\n",
    "\n",
    "d=dict([('Name','Bharath'),('Age',24)])\n",
    "print(d)\n",
    "\n",
    "d=dict((('Game','Cricket'),('Venue','Colombo')))\n",
    "print(d)"
   ]
  },
  {
   "cell_type": "markdown",
   "id": "78952370",
   "metadata": {},
   "source": [
    "## By using enumerate() inside the dict()"
   ]
  },
  {
   "cell_type": "markdown",
   "id": "7f81c483",
   "metadata": {},
   "source": [
    "### enumerate()"
   ]
  },
  {
   "cell_type": "markdown",
   "id": "c86ac222",
   "metadata": {},
   "source": [
    "- It takes an iterable as an argument \n",
    "- It maps the elements of that iterable to the values starting from 0 to len(iterable)-1\n",
    "- It returns an enumerate objects"
   ]
  },
  {
   "cell_type": "code",
   "execution_count": 1,
   "id": "97b355c4",
   "metadata": {},
   "outputs": [
    {
     "data": {
      "text/plain": [
       "<enumerate at 0x1bb89c2fa10>"
      ]
     },
     "execution_count": 1,
     "metadata": {},
     "output_type": "execute_result"
    }
   ],
   "source": [
    "enumerate('Data')"
   ]
  },
  {
   "cell_type": "code",
   "execution_count": 6,
   "id": "3e6de2f2",
   "metadata": {},
   "outputs": [
    {
     "name": "stdout",
     "output_type": "stream",
     "text": [
      "[(0, 'D'), (1, 'a'), (2, 't'), (3, 'a')]\n",
      "{(3, 'a'), (0, 'D'), (1, 'a'), (2, 't')}\n",
      "((0, 'D'), (1, 'a'), (2, 't'), (3, 'a'))\n",
      "{0: 'D', 1: 'a', 2: 't', 3: 'a'}\n"
     ]
    }
   ],
   "source": [
    "print(list(enumerate('Data')))\n",
    "print(set(enumerate('Data')))\n",
    "print(tuple(enumerate('Data')))\n",
    "print(dict(enumerate('Data')))"
   ]
  },
  {
   "cell_type": "code",
   "execution_count": 9,
   "id": "fbbb0032",
   "metadata": {},
   "outputs": [
    {
     "name": "stdout",
     "output_type": "stream",
     "text": [
      "[True, None, 1000, 'Hello', (10+2j), (10, 20, 30, 40), [70, 80, 90, 100]]\n",
      "{0: True, 1: None, 2: 1000, 3: 'Hello', 4: (10+2j), 5: (10, 20, 30, 40), 6: [70, 80, 90, 100]}\n"
     ]
    }
   ],
   "source": [
    "# create a dictionary that has the index of the following list as the keys and element as the values\n",
    "\n",
    "lst = [True,None, 1000,'Hello', 10+2j,(10,20,30,40),[70,80,90,100]]\n",
    "\n",
    "print(lst)\n",
    "\n",
    "print(dict(enumerate(lst)))"
   ]
  },
  {
   "cell_type": "markdown",
   "id": "efd782f3",
   "metadata": {},
   "source": [
    "## By using zip() inside the dict()"
   ]
  },
  {
   "cell_type": "markdown",
   "id": "7e3681a9",
   "metadata": {},
   "source": [
    "### Zip()"
   ]
  },
  {
   "cell_type": "markdown",
   "id": "8e1555ff",
   "metadata": {},
   "source": [
    "- It takes multiple iterable as arguments\n",
    "- It maps the elements of the iterable one by one in sequence\n",
    "- It returns a zip object\n",
    "- To fetch the value from the zip object we can typecast it to list, tuple, dict etc"
   ]
  },
  {
   "cell_type": "code",
   "execution_count": 10,
   "id": "0bd85e31",
   "metadata": {},
   "outputs": [
    {
     "name": "stdout",
     "output_type": "stream",
     "text": [
      "<zip object at 0x000001BB89C7F480> <class 'zip'>\n"
     ]
    }
   ],
   "source": [
    "z= zip('Data',[10,20,30,40])\n",
    "print(z,type(z))"
   ]
  },
  {
   "cell_type": "code",
   "execution_count": 11,
   "id": "07ab5b55",
   "metadata": {},
   "outputs": [
    {
     "name": "stdout",
     "output_type": "stream",
     "text": [
      "[('D', 10), ('a', 20), ('t', 30), ('a', 40)]\n"
     ]
    }
   ],
   "source": [
    "print(list(z))"
   ]
  },
  {
   "cell_type": "code",
   "execution_count": 16,
   "id": "08f7a0d7",
   "metadata": {},
   "outputs": [
    {
     "name": "stdout",
     "output_type": "stream",
     "text": [
      "[('D', 10, 100), ('a', 20, 200), ('t', 30, 300), ('a', 40, 400)]\n"
     ]
    }
   ],
   "source": [
    "z= zip('Data',[10,20,30,40],[100,200,300,400])\n",
    "print(list(z))"
   ]
  },
  {
   "cell_type": "code",
   "execution_count": 23,
   "id": "74566dc4",
   "metadata": {},
   "outputs": [
    {
     "name": "stdout",
     "output_type": "stream",
     "text": [
      "{('D', 10), ('a', 20), ('a', 40), ('t', 30)}\n",
      "{'D': 10, 'a': 40, 't': 30}\n",
      "{'D': 10, 'a': 20, 't': 30}\n"
     ]
    }
   ],
   "source": [
    "z= zip('Data',[10,20,30,40])\n",
    "print(set(z))\n",
    "\n",
    "z= zip('Data',[10,20,30,40])\n",
    "print(dict(z))\n",
    "\n",
    "z= zip('Data',[10,20,30,40],[100,200,300,400])\n",
    "# print(dict(z)) - Gives error\n",
    "\n",
    "z = zip('Data',[10,20,30])\n",
    "print(dict(z))"
   ]
  },
  {
   "cell_type": "code",
   "execution_count": 24,
   "id": "ca7b4425",
   "metadata": {},
   "outputs": [
    {
     "name": "stdout",
     "output_type": "stream",
     "text": [
      "{'a': 1, 'b': 2, 'c': 3, 'd': 4, 'e': 5}\n"
     ]
    }
   ],
   "source": [
    "emp_names =['a','b','c','d','e']\n",
    "emp_sal= [1,2,3,4,5]\n",
    "\n",
    "print(dict(zip(emp_names,emp_sal)))"
   ]
  },
  {
   "cell_type": "markdown",
   "id": "090fc607",
   "metadata": {},
   "source": [
    "# Case 3"
   ]
  },
  {
   "cell_type": "markdown",
   "id": "00936797",
   "metadata": {},
   "source": [
    "- By taking the input from user"
   ]
  },
  {
   "cell_type": "code",
   "execution_count": 25,
   "id": "0309df58",
   "metadata": {},
   "outputs": [
    {
     "name": "stdout",
     "output_type": "stream",
     "text": [
      "Enter the dictionary- {1:1,2:2}\n",
      "{1: 1, 2: 2} <class 'dict'>\n"
     ]
    }
   ],
   "source": [
    "d=eval(input('Enter the dictionary- '))\n",
    "print(d,type(d))"
   ]
  },
  {
   "cell_type": "code",
   "execution_count": 27,
   "id": "27999588",
   "metadata": {},
   "outputs": [
    {
     "name": "stdout",
     "output_type": "stream",
     "text": [
      "Enter the key -1\n",
      "Enter the values -1\n",
      "Enter the key -1\n",
      "Enter the values -1\n",
      "Enter the key -1\n",
      "Enter the values -1\n",
      "{1: 1}\n"
     ]
    }
   ],
   "source": [
    "keys= []\n",
    "values= []\n",
    "\n",
    "for i in range(3):\n",
    "    a=eval(input('Enter the key -'))\n",
    "    keys.append(a) # keys=keys+[a] or keys+=[a]\n",
    "    \n",
    "    b=eval(input('Enter the values -'))\n",
    "    values.append(b)\n",
    "    \n",
    "d=dict(zip(keys,values))\n",
    "print(d)\n",
    "    \n",
    "    "
   ]
  },
  {
   "cell_type": "code",
   "execution_count": 29,
   "id": "cb2425bc",
   "metadata": {},
   "outputs": [
    {
     "name": "stdout",
     "output_type": "stream",
     "text": [
      "[(1, 1), (1, 1), (1, 1)]\n"
     ]
    }
   ],
   "source": [
    "print(list(zip(keys,values)))"
   ]
  },
  {
   "cell_type": "markdown",
   "id": "4f5f37c4",
   "metadata": {},
   "source": [
    "# Case 4"
   ]
  },
  {
   "cell_type": "markdown",
   "id": "efaf1ef2",
   "metadata": {},
   "source": [
    "- By using Dictionary comprehension"
   ]
  },
  {
   "cell_type": "code",
   "execution_count": 30,
   "id": "a2d8db53",
   "metadata": {},
   "outputs": [
    {
     "name": "stdout",
     "output_type": "stream",
     "text": [
      "{1: 1, 2: 4, 3: 9, 4: 16, 5: 25}\n"
     ]
    }
   ],
   "source": [
    "# {key:value for loop}\n",
    "\n",
    "d={}\n",
    "for i in range(1,6):\n",
    "    d[i]=i**2\n",
    "\n",
    "print(d)"
   ]
  },
  {
   "cell_type": "markdown",
   "id": "48e6a492",
   "metadata": {},
   "source": [
    "- Using Dictionary comprehension"
   ]
  },
  {
   "cell_type": "code",
   "execution_count": 41,
   "id": "60c987ee",
   "metadata": {},
   "outputs": [
    {
     "name": "stdout",
     "output_type": "stream",
     "text": [
      "{1: 1, 2: 4, 3: 9, 4: 16, 5: 25}\n",
      "{1: 1, 3: 9, 5: 25, 7: 49, 9: 81}\n",
      "{1: 1, 2: 4, 3: 27, 4: 16, 5: 125, 6: 36, 7: 343, 8: 64, 9: 729}\n"
     ]
    }
   ],
   "source": [
    "# {key:value for loop}\n",
    "# {key:value for loop if condition}\n",
    "# {ternary operator for loop}\n",
    "\n",
    "\n",
    "d={i:i**2 for i in range(1,6)}\n",
    "\n",
    "print(d)\n",
    "\n",
    "d= {i:i**2 for i in range(1,11) if i%2}\n",
    "print(d)\n",
    "\n",
    "lst={i:i**2 if i%2==0 else i**3 for i in range(1,10)}\n",
    "print(lst)"
   ]
  },
  {
   "cell_type": "code",
   "execution_count": 38,
   "id": "7c8149a6",
   "metadata": {},
   "outputs": [
    {
     "name": "stdout",
     "output_type": "stream",
     "text": [
      "{'p': 'P', 'y': 'Y', 't': 'T', 'h': 'H', 'o': 'O', 'n': 'N'}\n"
     ]
    }
   ],
   "source": [
    "name='python'\n",
    "\n",
    "d={i:i.upper() for i in name}\n",
    "print(d)"
   ]
  },
  {
   "cell_type": "markdown",
   "id": "df889e2c",
   "metadata": {},
   "source": [
    "# Dictionary comprehension "
   ]
  },
  {
   "cell_type": "code",
   "execution_count": 43,
   "id": "1a6073f0",
   "metadata": {},
   "outputs": [
    {
     "name": "stdout",
     "output_type": "stream",
     "text": [
      "{1: 1, 2: 4, 3: 27, 4: 16, 5: 125, 6: 36, 7: 343, 8: 64, 9: 729}\n"
     ]
    }
   ],
   "source": [
    "d={i:i**2 if i%2==0 else i**3 for i in range(1,10)}\n",
    "print(d)"
   ]
  },
  {
   "cell_type": "markdown",
   "id": "078c55e9",
   "metadata": {},
   "source": [
    "# Dictionary methods\n"
   ]
  },
  {
   "cell_type": "code",
   "execution_count": 1,
   "id": "112475ea",
   "metadata": {},
   "outputs": [
    {
     "name": "stdout",
     "output_type": "stream",
     "text": [
      "['__class__', '__class_getitem__', '__contains__', '__delattr__', '__delitem__', '__dir__', '__doc__', '__eq__', '__format__', '__ge__', '__getattribute__', '__getitem__', '__getstate__', '__gt__', '__hash__', '__init__', '__init_subclass__', '__ior__', '__iter__', '__le__', '__len__', '__lt__', '__ne__', '__new__', '__or__', '__reduce__', '__reduce_ex__', '__repr__', '__reversed__', '__ror__', '__setattr__', '__setitem__', '__sizeof__', '__str__', '__subclasshook__', 'clear', 'copy', 'fromkeys', 'get', 'items', 'keys', 'pop', 'popitem', 'setdefault', 'update', 'values']\n"
     ]
    }
   ],
   "source": [
    "print(dir(dict))"
   ]
  },
  {
   "cell_type": "markdown",
   "id": "afc7cf46",
   "metadata": {},
   "source": [
    "## keys()"
   ]
  },
  {
   "cell_type": "code",
   "execution_count": 3,
   "id": "68d81eeb",
   "metadata": {},
   "outputs": [
    {
     "name": "stdout",
     "output_type": "stream",
     "text": [
      "{'emp_name': 'Rudra Pratap', 'emp_id': 111, 'emp_city': 'Pune', 'emp_designation': 'Manager'}\n",
      "dict_keys(['emp_name', 'emp_id', 'emp_city', 'emp_designation'])\n"
     ]
    }
   ],
   "source": [
    "emp ={'emp_name':'Rudra Pratap',\n",
    "      'emp_id': 111,\n",
    "     'emp_city':'Pune',\n",
    "     'emp_designation':'Manager'}\n",
    "\n",
    "print(emp)\n",
    "print(emp.keys())"
   ]
  },
  {
   "cell_type": "code",
   "execution_count": 4,
   "id": "af8f4a01",
   "metadata": {},
   "outputs": [
    {
     "name": "stdout",
     "output_type": "stream",
     "text": [
      "Employee 2 Name: Jane Smith\n",
      "Employee 2 Position: Data Scientist\n",
      "Employee 2 Email: jane.smith@example.com\n"
     ]
    }
   ],
   "source": [
    "employees = {\n",
    "    'employee1': {\n",
    "        'name': 'John Doe',\n",
    "        'position': 'Software Engineer',\n",
    "        'salary': 75000,\n",
    "        'contact': {\n",
    "            'email': 'john.doe@example.com',\n",
    "            'phone': '555-1234'\n",
    "        }\n",
    "    },\n",
    "    'employee2': {\n",
    "        'name': 'Jane Smith',\n",
    "        'position': 'Data Scientist',\n",
    "        'salary': 80000,\n",
    "        'contact': {\n",
    "            'email': 'jane.smith@example.com',\n",
    "            'phone': '555-5678'\n",
    "        }\n",
    "    },\n",
    "    'employee3': {\n",
    "        'name': 'Bob Johnson',\n",
    "        'position': 'UX Designer',\n",
    "        'salary': 70000,\n",
    "        'contact': {\n",
    "            'email': 'bob.johnson@example.com',\n",
    "            'phone': '555-9876'\n",
    "        }\n",
    "    }\n",
    "}\n",
    "\n",
    "# Accessing information for employee2\n",
    "print(\"Employee 2 Name:\", employees['employee2']['name'])\n",
    "print(\"Employee 2 Position:\", employees['employee2']['position'])\n",
    "print(\"Employee 2 Email:\", employees['employee2']['contact']['email'])"
   ]
  },
  {
   "cell_type": "code",
   "execution_count": 9,
   "id": "e0a26003",
   "metadata": {},
   "outputs": [
    {
     "name": "stdout",
     "output_type": "stream",
     "text": [
      "dict_keys(['name', 'position', 'salary', 'contact'])\n",
      "dict_keys(['name', 'position', 'salary', 'contact'])\n",
      "dict_keys(['name', 'position', 'salary', 'contact'])\n",
      "name\n",
      "position\n",
      "salary\n",
      "contact\n",
      "name\n",
      "position\n",
      "salary\n",
      "contact\n",
      "name\n",
      "position\n",
      "salary\n",
      "contact\n"
     ]
    }
   ],
   "source": [
    "for i in employees:\n",
    "    print(employees[i].keys())\n",
    "    \n",
    "    \n",
    "for i in employees:\n",
    "    for j in employees[i]:\n",
    "        print(j)    "
   ]
  },
  {
   "cell_type": "markdown",
   "id": "4f90694b",
   "metadata": {},
   "source": [
    "# Values()"
   ]
  },
  {
   "cell_type": "code",
   "execution_count": 10,
   "id": "48f2ffed",
   "metadata": {},
   "outputs": [
    {
     "name": "stdout",
     "output_type": "stream",
     "text": [
      "{'emp_name': 'Rudra Pratap', 'emp_id': 111, 'emp_city': 'Pune', 'emp_designation': 'Manager'}\n",
      "dict_values(['Rudra Pratap', 111, 'Pune', 'Manager'])\n"
     ]
    }
   ],
   "source": [
    "emp ={'emp_name':'Rudra Pratap',\n",
    "      'emp_id': 111,\n",
    "     'emp_city':'Pune',\n",
    "     'emp_designation':'Manager'}\n",
    "\n",
    "print(emp)\n",
    "print(emp.values())"
   ]
  },
  {
   "cell_type": "markdown",
   "id": "57113a5b",
   "metadata": {},
   "source": [
    "# items()"
   ]
  },
  {
   "cell_type": "code",
   "execution_count": 15,
   "id": "03764aee",
   "metadata": {},
   "outputs": [
    {
     "name": "stdout",
     "output_type": "stream",
     "text": [
      "dict_items([('emp_name', 'Rudra Pratap'), ('emp_id', 111), ('emp_city', 'Pune'), ('emp_designation', 'Manager')])\n"
     ]
    }
   ],
   "source": [
    "# It returns a  dict_items object that contains a list of tuples\n",
    "# Each tuple contains two elements. The first element is the key and the second element is the value\n",
    "\n",
    "emp ={'emp_name':'Rudra Pratap',\n",
    "      'emp_id': 111,\n",
    "      'emp_city':'Pune',\n",
    "      'emp_designation':'Manager'}\n",
    "print(emp.items())\n"
   ]
  },
  {
   "cell_type": "code",
   "execution_count": 19,
   "id": "d97d0b83",
   "metadata": {},
   "outputs": [
    {
     "name": "stdout",
     "output_type": "stream",
     "text": [
      "emp_name->Rudra Pratap\n",
      "emp_id->111\n",
      "emp_city->Pune\n",
      "emp_designation->Manager\n"
     ]
    }
   ],
   "source": [
    "for i,j in emp.items():\n",
    "     print(i,j,sep='->')   "
   ]
  },
  {
   "cell_type": "code",
   "execution_count": 30,
   "id": "5001e787",
   "metadata": {},
   "outputs": [
    {
     "name": "stdout",
     "output_type": "stream",
     "text": [
      "name ->John Doe\n",
      "position ->Software Engineer\n",
      "salary ->75000\n",
      "contact ->{'email': 'john.doe@example.com', 'phone': '555-1234'}\n",
      "\n",
      "name ->Jane Smith\n",
      "position ->Data Scientist\n",
      "salary ->80000\n",
      "contact ->{'email': 'jane.smith@example.com', 'phone': '555-5678'}\n",
      "\n",
      "name ->Bob Johnson\n",
      "position ->UX Designer\n",
      "salary ->70000\n",
      "contact ->{'email': 'bob.johnson@example.com', 'phone': '555-9876'}\n",
      "\n"
     ]
    }
   ],
   "source": [
    "for i ,j in employees.items():\n",
    "    for x,y in j.items():\n",
    "        print(x,y,sep=' ->')\n",
    "    print()       "
   ]
  },
  {
   "cell_type": "markdown",
   "id": "a404b046",
   "metadata": {},
   "source": [
    "# update()"
   ]
  },
  {
   "cell_type": "markdown",
   "id": "a02550fc",
   "metadata": {},
   "source": [
    "- It updates the element of one dictionary to another"
   ]
  },
  {
   "cell_type": "code",
   "execution_count": 34,
   "id": "d40d4242",
   "metadata": {},
   "outputs": [
    {
     "name": "stdout",
     "output_type": "stream",
     "text": [
      "{'Name': 'Nikhil', 'ID': 101, 'Age': 25, 'City': 'Pune'}\n"
     ]
    }
   ],
   "source": [
    "emp_1 = {'Name':'Nikhil', 'ID':101}\n",
    "emp_2 = {'Age':25 , 'City':'Pune'}\n",
    "\n",
    "emp_1.update(emp_2)\n",
    "print(emp_1)"
   ]
  },
  {
   "cell_type": "code",
   "execution_count": 35,
   "id": "0bcd1192",
   "metadata": {},
   "outputs": [
    {
     "name": "stdout",
     "output_type": "stream",
     "text": [
      "{1: 100, 2: 200}\n"
     ]
    }
   ],
   "source": [
    "a={1:100}\n",
    "a.update({2:200})\n",
    "print(a)"
   ]
  },
  {
   "cell_type": "code",
   "execution_count": 37,
   "id": "39ce6953",
   "metadata": {},
   "outputs": [
    {
     "name": "stdout",
     "output_type": "stream",
     "text": [
      "{1: 1, 2: 4, 3: 9, 4: 16, 5: 25, 6: 36, 7: 49, 8: 64, 9: 81, 10: 100}\n"
     ]
    }
   ],
   "source": [
    "nums = {}\n",
    "\n",
    "for i in range(1,11):\n",
    "    nums.update({i:i**2})\n",
    "\n",
    "print(nums)    \n",
    "    "
   ]
  },
  {
   "cell_type": "markdown",
   "id": "51793357",
   "metadata": {},
   "source": [
    "# get()"
   ]
  },
  {
   "cell_type": "code",
   "execution_count": 39,
   "id": "165dae18",
   "metadata": {},
   "outputs": [
    {
     "name": "stdout",
     "output_type": "stream",
     "text": [
      "dict_items([('emp_name', 'Rudra Pratap'), ('emp_id', 111), ('emp_city', 'Pune'), ('emp_designation', 'Manager')])\n",
      "Rudra Pratap\n"
     ]
    }
   ],
   "source": [
    "emp ={'emp_name':'Rudra Pratap',\n",
    "      'emp_id': 111,\n",
    "      'emp_city':'Pune',\n",
    "      'emp_designation':'Manager'}\n",
    "\n",
    "\n",
    "print(emp.get('emp_name'))"
   ]
  },
  {
   "cell_type": "markdown",
   "id": "214cb9d7",
   "metadata": {},
   "source": [
    "# set_default()"
   ]
  },
  {
   "cell_type": "markdown",
   "id": "e91bd552",
   "metadata": {},
   "source": [
    "- It takes a key as an argument\n",
    "- It returns the value at the perticular key\n",
    "- If the key id invalid then it creates the key and assign it to None\n",
    "- We can pass key and value bith then it creates a key:value pair for an invalid key"
   ]
  },
  {
   "cell_type": "code",
   "execution_count": 40,
   "id": "4b4cf3ed",
   "metadata": {},
   "outputs": [
    {
     "data": {
      "text/plain": [
       "{'emp_name': 'Rudra Pratap',\n",
       " 'emp_id': 111,\n",
       " 'emp_city': 'Pune',\n",
       " 'emp_designation': 'Manager'}"
      ]
     },
     "execution_count": 40,
     "metadata": {},
     "output_type": "execute_result"
    }
   ],
   "source": [
    "emp"
   ]
  },
  {
   "cell_type": "code",
   "execution_count": 46,
   "id": "66a9edbd",
   "metadata": {},
   "outputs": [
    {
     "name": "stdout",
     "output_type": "stream",
     "text": [
      "Rudra Pratap\n",
      "Rudra Pratap\n",
      "Rudra Pratap\n"
     ]
    }
   ],
   "source": [
    "print(emp.setdefault('emp_name'))\n",
    "print(emp.get('emp_name'))\n",
    "print(emp['emp_name'])"
   ]
  },
  {
   "cell_type": "code",
   "execution_count": 47,
   "id": "f81d28a1",
   "metadata": {},
   "outputs": [
    {
     "name": "stdout",
     "output_type": "stream",
     "text": [
      "None\n"
     ]
    }
   ],
   "source": [
    "print(emp.setdefault('emp_phone'))"
   ]
  },
  {
   "cell_type": "code",
   "execution_count": 48,
   "id": "2bb8bf02",
   "metadata": {},
   "outputs": [
    {
     "data": {
      "text/plain": [
       "{'emp_name': 'Rudra Pratap',\n",
       " 'emp_id': 111,\n",
       " 'emp_city': 'Pune',\n",
       " 'emp_designation': 'Manager',\n",
       " 'emp_phone': None}"
      ]
     },
     "execution_count": 48,
     "metadata": {},
     "output_type": "execute_result"
    }
   ],
   "source": [
    "emp"
   ]
  },
  {
   "cell_type": "code",
   "execution_count": 49,
   "id": "289adedb",
   "metadata": {},
   "outputs": [
    {
     "name": "stdout",
     "output_type": "stream",
     "text": [
      "HSR Layout\n"
     ]
    },
    {
     "data": {
      "text/plain": [
       "{'emp_name': 'Rudra Pratap',\n",
       " 'emp_id': 111,\n",
       " 'emp_city': 'Pune',\n",
       " 'emp_designation': 'Manager',\n",
       " 'emp_phone': None,\n",
       " 'emp_address': 'HSR Layout'}"
      ]
     },
     "execution_count": 49,
     "metadata": {},
     "output_type": "execute_result"
    }
   ],
   "source": [
    "print(emp.setdefault('emp_address','HSR Layout'))\n",
    "\n",
    "emp"
   ]
  },
  {
   "cell_type": "markdown",
   "id": "426691d1",
   "metadata": {},
   "source": [
    "# pop()"
   ]
  },
  {
   "cell_type": "code",
   "execution_count": 50,
   "id": "e34d0f2f",
   "metadata": {},
   "outputs": [
    {
     "name": "stdout",
     "output_type": "stream",
     "text": [
      "None\n"
     ]
    },
    {
     "data": {
      "text/plain": [
       "{'emp_name': 'Rudra Pratap',\n",
       " 'emp_id': 111,\n",
       " 'emp_city': 'Pune',\n",
       " 'emp_designation': 'Manager',\n",
       " 'emp_address': 'HSR Layout'}"
      ]
     },
     "execution_count": 50,
     "metadata": {},
     "output_type": "execute_result"
    }
   ],
   "source": [
    "print(emp.pop('emp_phone'))\n",
    "emp"
   ]
  },
  {
   "cell_type": "markdown",
   "id": "e994069a",
   "metadata": {},
   "source": [
    "# popitem()"
   ]
  },
  {
   "cell_type": "code",
   "execution_count": 51,
   "id": "decfef37",
   "metadata": {},
   "outputs": [
    {
     "data": {
      "text/plain": [
       "{'emp_name': 'Rudra Pratap',\n",
       " 'emp_id': 111,\n",
       " 'emp_city': 'Pune',\n",
       " 'emp_designation': 'Manager',\n",
       " 'emp_address': 'HSR Layout'}"
      ]
     },
     "execution_count": 51,
     "metadata": {},
     "output_type": "execute_result"
    }
   ],
   "source": [
    "#  It removes the last key:value from the dictionary\n",
    "# it returns tuple\n",
    "emp"
   ]
  },
  {
   "cell_type": "code",
   "execution_count": 52,
   "id": "25fa7f08",
   "metadata": {},
   "outputs": [
    {
     "data": {
      "text/plain": [
       "{'emp_name': 'Rudra Pratap',\n",
       " 'emp_id': 111,\n",
       " 'emp_city': 'Pune',\n",
       " 'emp_designation': 'Manager'}"
      ]
     },
     "execution_count": 52,
     "metadata": {},
     "output_type": "execute_result"
    }
   ],
   "source": [
    "emp.popitem()\n",
    "emp"
   ]
  },
  {
   "cell_type": "markdown",
   "id": "f96fe174",
   "metadata": {},
   "source": [
    "# fromkeys()\n"
   ]
  },
  {
   "cell_type": "markdown",
   "id": "70fbfc07",
   "metadata": {},
   "source": [
    "- It takes one iterable and one value as an argument\n",
    "- It maps the value to the elements of that iterable\n",
    "- It is used when we want to map single value to multiple keys"
   ]
  },
  {
   "cell_type": "code",
   "execution_count": 1,
   "id": "981217df",
   "metadata": {},
   "outputs": [
    {
     "name": "stdout",
     "output_type": "stream",
     "text": [
      "{101: 'Pune', 102: 'Pune', 203: 'Pune', 104: 'Pune', 105: 'Pune', 106: 'Pune', 107: 'Pune', 108: 'Pune'}\n"
     ]
    }
   ],
   "source": [
    "codes = [101,102,203,104,105,106,107,108]\n",
    "\n",
    "city = 'Pune'\n",
    "\n",
    "d = {}\n",
    "\n",
    "for i in codes:\n",
    "    d[i] = city\n",
    "    \n",
    "print(d)    \n",
    "    \n",
    "    "
   ]
  },
  {
   "cell_type": "code",
   "execution_count": 2,
   "id": "f4a1e7af",
   "metadata": {},
   "outputs": [
    {
     "data": {
      "text/plain": [
       "{101: 'Pune',\n",
       " 102: 'Pune',\n",
       " 203: 'Pune',\n",
       " 104: 'Pune',\n",
       " 105: 'Pune',\n",
       " 106: 'Pune',\n",
       " 107: 'Pune',\n",
       " 108: 'Pune'}"
      ]
     },
     "execution_count": 2,
     "metadata": {},
     "output_type": "execute_result"
    }
   ],
   "source": [
    "dict.fromkeys(codes,city)"
   ]
  },
  {
   "cell_type": "markdown",
   "id": "78ba96d2",
   "metadata": {},
   "source": [
    "# clear()"
   ]
  },
  {
   "cell_type": "code",
   "execution_count": 4,
   "id": "179c40f3",
   "metadata": {},
   "outputs": [
    {
     "name": "stdout",
     "output_type": "stream",
     "text": [
      "{101: 'Pune', 102: 'Pune', 203: 'Pune', 104: 'Pune', 105: 'Pune', 106: 'Pune', 107: 'Pune', 108: 'Pune'}\n",
      "{}\n"
     ]
    }
   ],
   "source": [
    "codes = [101,102,203,104,105,106,107,108]\n",
    "\n",
    "city = 'Pune'\n",
    "\n",
    "d = {}\n",
    "\n",
    "for i in codes:\n",
    "    d[i] = city\n",
    "    \n",
    "print(d)    \n",
    "d.clear()   \n",
    "print(d)  "
   ]
  },
  {
   "cell_type": "markdown",
   "id": "cb19aad2",
   "metadata": {},
   "source": [
    "# copy()"
   ]
  },
  {
   "cell_type": "markdown",
   "id": "b1b19135",
   "metadata": {},
   "source": [
    "- It copies all the element from a dictionary and return new directory"
   ]
  },
  {
   "cell_type": "code",
   "execution_count": 5,
   "id": "c671bad9",
   "metadata": {},
   "outputs": [
    {
     "name": "stdout",
     "output_type": "stream",
     "text": [
      "{'Name': 'Girish', 'Age': 28, 'Code': 101, 'company': 'TCS'}\n",
      "{'Name': 'Girish', 'Age': 28, 'Code': 101, 'company': 'TCS'}\n"
     ]
    }
   ],
   "source": [
    "emp = {'Name':'Girish', 'Age':28, 'Code':101,'company':'TCS'}\n",
    "\n",
    "new_emp=emp\n",
    "\n",
    "print(emp)\n",
    "print(new_emp)"
   ]
  },
  {
   "cell_type": "code",
   "execution_count": 7,
   "id": "5fedf07c",
   "metadata": {},
   "outputs": [
    {
     "name": "stdout",
     "output_type": "stream",
     "text": [
      "{'Name': 'Shiva', 'Age': 28, 'Code': 101, 'company': 'TCS'}\n",
      "{'Name': 'Shiva', 'Age': 28, 'Code': 101, 'company': 'TCS'}\n",
      "3090529582272\n",
      "3090529582272\n"
     ]
    }
   ],
   "source": [
    "emp['Name']='Shiva'\n",
    "print(emp)\n",
    "print(new_emp)\n",
    "\n",
    "print(id(emp))\n",
    "print(id(new_emp))"
   ]
  },
  {
   "cell_type": "code",
   "execution_count": 9,
   "id": "40135a29",
   "metadata": {},
   "outputs": [
    {
     "name": "stdout",
     "output_type": "stream",
     "text": [
      "{'Name': 'Shiva', 'Age': 28, 'Code': 101, 'company': 'TCS'}\n",
      "{'Name': 'Girish', 'Age': 28, 'Code': 101, 'company': 'TCS'}\n",
      "3090529695936\n",
      "3090529692544\n"
     ]
    }
   ],
   "source": [
    "emp = {'Name':'Girish', 'Age':28, 'Code':101,'company':'TCS'}\n",
    "new_emp=emp.copy()\n",
    "emp['Name']='Shiva'\n",
    "print(emp)\n",
    "print(new_emp)\n",
    "print(id(emp))\n",
    "print(id(new_emp))"
   ]
  },
  {
   "cell_type": "markdown",
   "id": "00c8fc9f",
   "metadata": {},
   "source": [
    "# Dictionary Keys"
   ]
  },
  {
   "cell_type": "markdown",
   "id": "b2cddf66",
   "metadata": {},
   "source": [
    "- Dictionary key should be hashable item\n",
    "\n"
   ]
  },
  {
   "cell_type": "code",
   "execution_count": 10,
   "id": "97e8fb35",
   "metadata": {},
   "outputs": [],
   "source": [
    "# Hashable - int, floar, string , tuple, frozenset, String\n",
    "# Unhashable - list, dictionary, set"
   ]
  },
  {
   "cell_type": "code",
   "execution_count": 12,
   "id": "4e3fb65b",
   "metadata": {},
   "outputs": [
    {
     "name": "stdout",
     "output_type": "stream",
     "text": [
      "1583927719768367744\n"
     ]
    },
    {
     "ename": "TypeError",
     "evalue": "unhashable type: 'list'",
     "output_type": "error",
     "traceback": [
      "\u001b[1;31m---------------------------------------------------------------------------\u001b[0m",
      "\u001b[1;31mTypeError\u001b[0m                                 Traceback (most recent call last)",
      "Cell \u001b[1;32mIn[12], line 5\u001b[0m\n\u001b[0;32m      2\u001b[0m \u001b[38;5;28mprint\u001b[39m(\u001b[38;5;28mhash\u001b[39m(a))\n\u001b[0;32m      4\u001b[0m lst \u001b[38;5;241m=\u001b[39m [\u001b[38;5;241m1\u001b[39m,\u001b[38;5;241m2\u001b[39m,\u001b[38;5;241m3\u001b[39m,\u001b[38;5;241m4\u001b[39m]\n\u001b[1;32m----> 5\u001b[0m \u001b[38;5;28mprint\u001b[39m(\u001b[38;5;28mhash\u001b[39m(lst))\n",
      "\u001b[1;31mTypeError\u001b[0m: unhashable type: 'list'"
     ]
    }
   ],
   "source": [
    "a= \"Kannada\"\n",
    "print(hash(a))\n",
    "\n",
    "lst = [1,2,3,4]\n",
    "# print(hash(lst))"
   ]
  },
  {
   "cell_type": "code",
   "execution_count": null,
   "id": "b363cc62",
   "metadata": {},
   "outputs": [],
   "source": []
  }
 ],
 "metadata": {
  "kernelspec": {
   "display_name": "Python 3 (ipykernel)",
   "language": "python",
   "name": "python3"
  },
  "language_info": {
   "codemirror_mode": {
    "name": "ipython",
    "version": 3
   },
   "file_extension": ".py",
   "mimetype": "text/x-python",
   "name": "python",
   "nbconvert_exporter": "python",
   "pygments_lexer": "ipython3",
   "version": "3.11.3"
  }
 },
 "nbformat": 4,
 "nbformat_minor": 5
}
