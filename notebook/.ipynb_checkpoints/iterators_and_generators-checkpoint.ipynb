{
 "cells": [
  {
   "cell_type": "code",
   "execution_count": 1,
   "id": "b89cb5b7",
   "metadata": {},
   "outputs": [],
   "source": [
    "# Iterable\n",
    "# Iterator\n",
    "# Generator"
   ]
  },
  {
   "cell_type": "markdown",
   "id": "e215e089",
   "metadata": {},
   "source": [
    "# Iterable"
   ]
  },
  {
   "cell_type": "markdown",
   "id": "7377e6a0",
   "metadata": {},
   "source": [
    "- String, List, Tuple, Dictionary, Set, FrozenSet, Range, Bytes, Bytearray\n",
    "- Any object that has __iter__ method defined in its class\n",
    "- Any object that we can apply for loop is iterable"
   ]
  },
  {
   "cell_type": "code",
   "execution_count": 3,
   "id": "7775994e",
   "metadata": {},
   "outputs": [
    {
     "name": "stdout",
     "output_type": "stream",
     "text": [
      "['__add__', '__class__', '__contains__', '__delattr__', '__dir__', '__doc__', '__eq__', '__format__', '__ge__', '__getattribute__', '__getitem__', '__getnewargs__', '__getstate__', '__gt__', '__hash__', '__init__', '__init_subclass__', '__iter__', '__le__', '__len__', '__lt__', '__mod__', '__mul__', '__ne__', '__new__', '__reduce__', '__reduce_ex__', '__repr__', '__rmod__', '__rmul__', '__setattr__', '__sizeof__', '__str__', '__subclasshook__', 'capitalize', 'casefold', 'center', 'count', 'encode', 'endswith', 'expandtabs', 'find', 'format', 'format_map', 'index', 'isalnum', 'isalpha', 'isascii', 'isdecimal', 'isdigit', 'isidentifier', 'islower', 'isnumeric', 'isprintable', 'isspace', 'istitle', 'isupper', 'join', 'ljust', 'lower', 'lstrip', 'maketrans', 'partition', 'removeprefix', 'removesuffix', 'replace', 'rfind', 'rindex', 'rjust', 'rpartition', 'rsplit', 'rstrip', 'split', 'splitlines', 'startswith', 'strip', 'swapcase', 'title', 'translate', 'upper', 'zfill']\n"
     ]
    }
   ],
   "source": [
    "a= 'Python'\n",
    "print(dir(a))"
   ]
  },
  {
   "cell_type": "code",
   "execution_count": 4,
   "id": "60ad173a",
   "metadata": {},
   "outputs": [],
   "source": [
    "# Iterable -> Iterator -> From the iterator we can fetch the element one by one\n",
    "\n",
    "# We should convert Iterable to Iterator then we can fetch element from it"
   ]
  },
  {
   "cell_type": "markdown",
   "id": "c5492fe2",
   "metadata": {},
   "source": [
    "# Iterator"
   ]
  },
  {
   "cell_type": "markdown",
   "id": "7a5342b8",
   "metadata": {},
   "source": [
    "- The object that has _iter__ and _next__ methods defined in its class it is iterator object\n",
    "- example - enumerator, zip, filter, map etc"
   ]
  },
  {
   "cell_type": "code",
   "execution_count": 6,
   "id": "845d4b53",
   "metadata": {},
   "outputs": [
    {
     "name": "stdout",
     "output_type": "stream",
     "text": [
      "['__class__', '__class_getitem__', '__delattr__', '__dir__', '__doc__', '__eq__', '__format__', '__ge__', '__getattribute__', '__getstate__', '__gt__', '__hash__', '__init__', '__init_subclass__', '__iter__', '__le__', '__lt__', '__ne__', '__new__', '__next__', '__reduce__', '__reduce_ex__', '__repr__', '__setattr__', '__sizeof__', '__str__', '__subclasshook__']\n"
     ]
    }
   ],
   "source": [
    "print(dir(enumerate))"
   ]
  },
  {
   "cell_type": "code",
   "execution_count": 7,
   "id": "ae4da989",
   "metadata": {},
   "outputs": [
    {
     "name": "stdout",
     "output_type": "stream",
     "text": [
      "['__class__', '__delattr__', '__dir__', '__doc__', '__eq__', '__format__', '__ge__', '__getattribute__', '__getstate__', '__gt__', '__hash__', '__init__', '__init_subclass__', '__iter__', '__le__', '__lt__', '__ne__', '__new__', '__next__', '__reduce__', '__reduce_ex__', '__repr__', '__setattr__', '__setstate__', '__sizeof__', '__str__', '__subclasshook__']\n"
     ]
    }
   ],
   "source": [
    "print(dir(zip))"
   ]
  },
  {
   "cell_type": "code",
   "execution_count": 8,
   "id": "869b5f74",
   "metadata": {},
   "outputs": [],
   "source": [
    "# __iter__ - > iterable\n",
    "# __iter__ and __next__ -> Iterator"
   ]
  },
  {
   "cell_type": "markdown",
   "id": "ab858cfa",
   "metadata": {},
   "source": [
    "- Convert iterable into an iterator\n",
    "- Fetch elements from iterator one by one"
   ]
  },
  {
   "cell_type": "markdown",
   "id": "a3408220",
   "metadata": {},
   "source": [
    "# iter()"
   ]
  },
  {
   "cell_type": "markdown",
   "id": "e0f4927a",
   "metadata": {},
   "source": [
    "- It converts an iterable into an iterator object"
   ]
  },
  {
   "cell_type": "code",
   "execution_count": 9,
   "id": "e246ec1a",
   "metadata": {},
   "outputs": [
    {
     "name": "stdout",
     "output_type": "stream",
     "text": [
      "<str_ascii_iterator object at 0x000001D79E24C8B0>\n"
     ]
    }
   ],
   "source": [
    "a = 'Python'\n",
    "b=iter(a)\n",
    "print(b)"
   ]
  },
  {
   "cell_type": "markdown",
   "id": "04e64ad9",
   "metadata": {},
   "source": [
    "# next()"
   ]
  },
  {
   "cell_type": "markdown",
   "id": "1233ac1f",
   "metadata": {},
   "source": [
    "- It always returns the next calue from an ietrator object"
   ]
  },
  {
   "cell_type": "code",
   "execution_count": 13,
   "id": "df0e59aa",
   "metadata": {},
   "outputs": [
    {
     "data": {
      "text/plain": [
       "'h'"
      ]
     },
     "execution_count": 13,
     "metadata": {},
     "output_type": "execute_result"
    }
   ],
   "source": [
    "# next(iterator)\n",
    "next(b)"
   ]
  },
  {
   "cell_type": "code",
   "execution_count": null,
   "id": "0e1678e6",
   "metadata": {},
   "outputs": [],
   "source": []
  },
  {
   "cell_type": "markdown",
   "id": "cd0bce02",
   "metadata": {},
   "source": [
    "# How for loops workds in two steps"
   ]
  },
  {
   "cell_type": "markdown",
   "id": "87b8f32c",
   "metadata": {},
   "source": [
    "- It converts the iterable into iterator object\n",
    "- It calls the next() on the iterator util its length is exahusted"
   ]
  },
  {
   "cell_type": "code",
   "execution_count": 4,
   "id": "73b8f486",
   "metadata": {},
   "outputs": [
    {
     "name": "stdout",
     "output_type": "stream",
     "text": [
      "P\n"
     ]
    }
   ],
   "source": [
    "a = 'Python'\n",
    "\n",
    "b=iter(a)\n",
    "i=next(b)\n",
    "print(i)"
   ]
  },
  {
   "cell_type": "code",
   "execution_count": 6,
   "id": "f27cea04",
   "metadata": {},
   "outputs": [
    {
     "name": "stdout",
     "output_type": "stream",
     "text": [
      "10\n"
     ]
    }
   ],
   "source": [
    "lst =[10,20,30,40,50,60,70,80,90,100]\n",
    "x=iter(lst)\n",
    "\n",
    "i= next(x)\n",
    "print(i)"
   ]
  },
  {
   "cell_type": "code",
   "execution_count": 8,
   "id": "b2cd708b",
   "metadata": {},
   "outputs": [
    {
     "name": "stdout",
     "output_type": "stream",
     "text": [
      "30\n"
     ]
    }
   ],
   "source": [
    "i= next(x)\n",
    "print(i)"
   ]
  },
  {
   "cell_type": "markdown",
   "id": "41a58fbc",
   "metadata": {},
   "source": [
    "# Creating a user defined iterator objects"
   ]
  },
  {
   "cell_type": "markdown",
   "id": "4a2cfa99",
   "metadata": {},
   "source": [
    "- Create an iterator class\n",
    "- Create a geenrator"
   ]
  },
  {
   "cell_type": "markdown",
   "id": "225273d4",
   "metadata": {},
   "source": [
    "\n",
    "# Generator"
   ]
  },
  {
   "cell_type": "markdown",
   "id": "7de605a5",
   "metadata": {},
   "source": [
    "- A generator is the method to create an iterator object\n",
    "- Generator is a user defined iterator object"
   ]
  },
  {
   "cell_type": "markdown",
   "id": "081f6070",
   "metadata": {},
   "source": [
    "# How to create a generator"
   ]
  },
  {
   "cell_type": "markdown",
   "id": "24b81990",
   "metadata": {},
   "source": [
    "- Tuple comprehension\n",
    "- Generator function"
   ]
  },
  {
   "cell_type": "markdown",
   "id": "f7de6a57",
   "metadata": {},
   "source": [
    "# Tuple Comprehension"
   ]
  },
  {
   "cell_type": "markdown",
   "id": "ba4923fb",
   "metadata": {},
   "source": [
    "- (for loop) Tuple comprehension\n",
    "- Value for i in iterable\n",
    "- List comprehension returns list but Tuple comprehension returns generator"
   ]
  },
  {
   "cell_type": "code",
   "execution_count": 9,
   "id": "599bb08a",
   "metadata": {},
   "outputs": [
    {
     "data": {
      "text/plain": [
       "[1, 2, 3, 4, 5, 6, 7, 8, 9, 10]"
      ]
     },
     "execution_count": 9,
     "metadata": {},
     "output_type": "execute_result"
    }
   ],
   "source": [
    "[i for i in range(1,11)]\n"
   ]
  },
  {
   "cell_type": "code",
   "execution_count": 12,
   "id": "6817edf7",
   "metadata": {},
   "outputs": [],
   "source": [
    "t=(i for i in range(1,11))"
   ]
  },
  {
   "cell_type": "code",
   "execution_count": 13,
   "id": "8c144aac",
   "metadata": {},
   "outputs": [
    {
     "name": "stdout",
     "output_type": "stream",
     "text": [
      "['__class__', '__del__', '__delattr__', '__dir__', '__doc__', '__eq__', '__format__', '__ge__', '__getattribute__', '__getstate__', '__gt__', '__hash__', '__init__', '__init_subclass__', '__iter__', '__le__', '__lt__', '__name__', '__ne__', '__new__', '__next__', '__qualname__', '__reduce__', '__reduce_ex__', '__repr__', '__setattr__', '__sizeof__', '__str__', '__subclasshook__', 'close', 'gi_code', 'gi_frame', 'gi_running', 'gi_suspended', 'gi_yieldfrom', 'send', 'throw']\n"
     ]
    }
   ],
   "source": [
    "print(dir(t))"
   ]
  },
  {
   "cell_type": "markdown",
   "id": "92de739a",
   "metadata": {},
   "source": [
    "# What is use of Generator"
   ]
  },
  {
   "cell_type": "markdown",
   "id": "fc207c9b",
   "metadata": {},
   "source": [
    "- It is used for memory efficient operations\n",
    "- Generators stores only one value at a time in the memory\n",
    "- As soon as we get the next value from a generator then previous value is gone"
   ]
  },
  {
   "cell_type": "code",
   "execution_count": 16,
   "id": "d281899a",
   "metadata": {},
   "outputs": [
    {
     "name": "stdout",
     "output_type": "stream",
     "text": [
      "800984\n"
     ]
    }
   ],
   "source": [
    "import sys\n",
    "lst = [i for i in range (1,100000)]\n",
    "print(sys.getsizeof(lst))"
   ]
  },
  {
   "cell_type": "code",
   "execution_count": 17,
   "id": "8b389188",
   "metadata": {},
   "outputs": [
    {
     "name": "stdout",
     "output_type": "stream",
     "text": [
      "200\n"
     ]
    }
   ],
   "source": [
    "lst = (i for i in range (1,100000))\n",
    "print(sys.getsizeof(lst))"
   ]
  }
 ],
 "metadata": {
  "kernelspec": {
   "display_name": "Python 3 (ipykernel)",
   "language": "python",
   "name": "python3"
  },
  "language_info": {
   "codemirror_mode": {
    "name": "ipython",
    "version": 3
   },
   "file_extension": ".py",
   "mimetype": "text/x-python",
   "name": "python",
   "nbconvert_exporter": "python",
   "pygments_lexer": "ipython3",
   "version": "3.11.3"
  }
 },
 "nbformat": 4,
 "nbformat_minor": 5
}
