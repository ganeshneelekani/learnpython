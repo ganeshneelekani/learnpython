{
 "cells": [
  {
   "cell_type": "markdown",
   "id": "5e6f6433",
   "metadata": {},
   "source": [
    "# String, Boolean, NoneType\n"
   ]
  },
  {
   "cell_type": "code",
   "execution_count": 1,
   "id": "84fb3136",
   "metadata": {},
   "outputs": [],
   "source": [
    "# Anything you represnt between as str or  '' or \" \" is string\n",
    "\n",
    "# multiple line comment can be expressed by\n",
    "\n",
    "\"\"\"\n",
    "Multiple\n",
    "Line\n",
    "Comment\n",
    "\"\"\"\n",
    "\n",
    "True\n",
    "\n",
    "None\n"
   ]
  },
  {
   "cell_type": "markdown",
   "id": "e229ca55",
   "metadata": {},
   "source": [
    "# Derived datatypes"
   ]
  },
  {
   "cell_type": "markdown",
   "id": "c0f57af2",
   "metadata": {},
   "source": [
    "## List"
   ]
  },
  {
   "cell_type": "code",
   "execution_count": 2,
   "id": "128c9962",
   "metadata": {},
   "outputs": [
    {
     "name": "stdout",
     "output_type": "stream",
     "text": [
      "[10, 20, {'c': '10', 'b': '20'}, None, True] <class 'list'>\n"
     ]
    }
   ],
   "source": [
    "# Represented in a square bracket\n",
    "\n",
    "a = [10, 20 ,{\"c\":\"10\", \"b\":\"20\"}, None, True]\n",
    "\n",
    "print(a, type(a))"
   ]
  },
  {
   "cell_type": "markdown",
   "id": "098e55ad",
   "metadata": {},
   "source": [
    "# Tuple"
   ]
  },
  {
   "cell_type": "code",
   "execution_count": 3,
   "id": "20b4016d",
   "metadata": {},
   "outputs": [],
   "source": [
    "# Tuple is defined in parathesis\n",
    "# List is mutable and tuple is immutable"
   ]
  },
  {
   "cell_type": "code",
   "execution_count": 4,
   "id": "b70085cb",
   "metadata": {},
   "outputs": [
    {
     "name": "stdout",
     "output_type": "stream",
     "text": [
      "(10, 20, {'c': '10', 'b': '20'}, None, True) <class 'tuple'>\n"
     ]
    }
   ],
   "source": [
    "a = (10, 20 ,{\"c\":\"10\", \"b\":\"20\"}, None, True)\n",
    "print(a, type(a))\n"
   ]
  },
  {
   "cell_type": "markdown",
   "id": "3151609a",
   "metadata": {},
   "source": [
    "# Dictionary - Dict"
   ]
  },
  {
   "cell_type": "code",
   "execution_count": 5,
   "id": "b56ecb21",
   "metadata": {},
   "outputs": [
    {
     "name": "stdout",
     "output_type": "stream",
     "text": [
      "{10: 5, 6: 7} <class 'dict'>\n"
     ]
    }
   ],
   "source": [
    "# collection of ke and value pairs separated by : and defined inside {}\n",
    "\n",
    "a = {10:5 ,6:7}\n",
    "print(a, type(a))\n"
   ]
  },
  {
   "cell_type": "code",
   "execution_count": 6,
   "id": "1d7afbf1",
   "metadata": {},
   "outputs": [
    {
     "name": "stdout",
     "output_type": "stream",
     "text": [
      "dict_keys([10, 6])\n",
      "dict_values([5, 7])\n",
      "5\n"
     ]
    }
   ],
   "source": [
    "print(a.keys())\n",
    "print(a.values())\n",
    "print(a[10])"
   ]
  },
  {
   "cell_type": "markdown",
   "id": "ed17394a",
   "metadata": {},
   "source": [
    "# Set"
   ]
  },
  {
   "cell_type": "code",
   "execution_count": 7,
   "id": "e71d0c7c",
   "metadata": {},
   "outputs": [
    {
     "name": "stdout",
     "output_type": "stream",
     "text": [
      "{50, 20, 40, 10, 30} <class 'set'>\n"
     ]
    }
   ],
   "source": [
    "# Any value separated by comma and defined inside {}\n",
    "a = {10,20,30,40,50}\n",
    "print(a ,type(a))"
   ]
  },
  {
   "cell_type": "markdown",
   "id": "babc98c2",
   "metadata": {},
   "source": [
    "# Frozenset"
   ]
  },
  {
   "cell_type": "code",
   "execution_count": 8,
   "id": "dce5e9d2",
   "metadata": {},
   "outputs": [
    {
     "name": "stdout",
     "output_type": "stream",
     "text": [
      "Pythonnn <class 'str'>\n",
      "frozenset({'y', 't', 'h', 'o', 'n', 'P'}) <class 'frozenset'>\n",
      "frozenset({40, 10, 50, 20, 60, 30}) <class 'frozenset'>\n"
     ]
    }
   ],
   "source": [
    "# When we keep an iterable inside the frozenset() then it is frozenset\n",
    "# A frozenset is a container type that can conatin multiple elements\n",
    "# As similar to set it does not provide duplicate values\n",
    "\n",
    "a = \"Pythonnn\"\n",
    "print(a, type(a))\n",
    "\n",
    "f = frozenset(a)\n",
    "print(f, type(f))\n",
    "\n",
    "lst = [10, 10, 20, 20, 30, 10, 10 ,40, 50, 60, 50, 60]\n",
    "flst = frozenset(lst)\n",
    "print(flst, type(flst))"
   ]
  },
  {
   "cell_type": "markdown",
   "id": "7930ae49",
   "metadata": {},
   "source": [
    "# Set vs Frozenset"
   ]
  },
  {
   "cell_type": "code",
   "execution_count": 9,
   "id": "ef90970e",
   "metadata": {},
   "outputs": [],
   "source": [
    "# Set is mutable and FrozenSet is immutale"
   ]
  },
  {
   "cell_type": "markdown",
   "id": "84e12adf",
   "metadata": {},
   "source": [
    "# range()"
   ]
  },
  {
   "cell_type": "code",
   "execution_count": 10,
   "id": "e2ac4b4d",
   "metadata": {},
   "outputs": [],
   "source": [
    "# range(start,stop,step)\n",
    "# range(start,stop)\n",
    "\n",
    "for i in range(-4,3,-1):\n",
    "    print(i)"
   ]
  },
  {
   "cell_type": "markdown",
   "id": "3b302ecb",
   "metadata": {},
   "source": [
    "# List"
   ]
  },
  {
   "cell_type": "code",
   "execution_count": 11,
   "id": "b22ba195",
   "metadata": {},
   "outputs": [],
   "source": [
    "# Anything defined inside []\n",
    "# A list can contain multiple elements\n",
    "# Each element in a list inseparated by comma\n",
    "# List can contain heterogeneous and duplicate elements"
   ]
  },
  {
   "cell_type": "code",
   "execution_count": 12,
   "id": "a96513e3",
   "metadata": {},
   "outputs": [
    {
     "name": "stdout",
     "output_type": "stream",
     "text": [
      "[10, 20, 30, 40] <class 'list'>\n"
     ]
    }
   ],
   "source": [
    "lst = [10,20,30,40]\n",
    "print(lst, type(lst))"
   ]
  },
  {
   "cell_type": "markdown",
   "id": "77b32a62",
   "metadata": {},
   "source": [
    "# Operations on list"
   ]
  },
  {
   "cell_type": "code",
   "execution_count": 13,
   "id": "884cb7aa",
   "metadata": {},
   "outputs": [],
   "source": [
    "# Concatination\n",
    "# Repetation\n",
    "# Lenth\n",
    "# Indexing and Slicing"
   ]
  },
  {
   "cell_type": "markdown",
   "id": "872bc50c",
   "metadata": {},
   "source": [
    "# Concatination\n"
   ]
  },
  {
   "cell_type": "code",
   "execution_count": 14,
   "id": "42270d8e",
   "metadata": {},
   "outputs": [
    {
     "name": "stdout",
     "output_type": "stream",
     "text": [
      "[1, 2, 3, 4, 5, 6]\n",
      "HelloWorld\n"
     ]
    }
   ],
   "source": [
    "# List can be concated only with the list  ele it will give type error\n",
    "# + operator is used to concatinate two list\n",
    "# join is used to concatinate elemets in a list\n",
    "\n",
    "a = [1, 2, 3]+ [4 ,5 , 6]\n",
    "print(a)\n",
    "\n",
    "words = [\"Hello\", \"World\"]\n",
    "result = \"\".join(words)\n",
    "print(result)"
   ]
  },
  {
   "cell_type": "markdown",
   "id": "e49c6a78",
   "metadata": {},
   "source": [
    "# Repetation"
   ]
  },
  {
   "cell_type": "code",
   "execution_count": 15,
   "id": "546f0381",
   "metadata": {},
   "outputs": [
    {
     "name": "stdout",
     "output_type": "stream",
     "text": [
      "[10, 20, 30, 40, 50, 10, 20, 30, 40, 50, 10, 20, 30, 40, 50, 10, 20, 30, 40, 50, 10, 20, 30, 40, 50]\n"
     ]
    }
   ],
   "source": [
    "# * operator is used for repeat a list\n",
    "# lst * number of repetations\n",
    "\n",
    "lst = [10, 20, 30, 40, 50]\n",
    "print(lst*5)"
   ]
  },
  {
   "cell_type": "markdown",
   "id": "5e830489",
   "metadata": {},
   "source": [
    "# Length"
   ]
  },
  {
   "cell_type": "code",
   "execution_count": 16,
   "id": "d3daa792",
   "metadata": {},
   "outputs": [
    {
     "name": "stdout",
     "output_type": "stream",
     "text": [
      "5\n"
     ]
    }
   ],
   "source": [
    "\n",
    "lst = [10, 20, 30, 40, 50]\n",
    "print(len(lst))"
   ]
  },
  {
   "cell_type": "markdown",
   "id": "a6c4a1c1",
   "metadata": {},
   "source": [
    "# Indexing\n"
   ]
  },
  {
   "cell_type": "code",
   "execution_count": 17,
   "id": "7f761e27",
   "metadata": {},
   "outputs": [
    {
     "name": "stdout",
     "output_type": "stream",
     "text": [
      "20\n",
      "50\n"
     ]
    }
   ],
   "source": [
    "lst = [10, 20, 30, 40, 50]\n",
    "print(lst[1])\n",
    "print(lst[-1])"
   ]
  },
  {
   "cell_type": "markdown",
   "id": "72fbb409",
   "metadata": {},
   "source": [
    "# Slicing"
   ]
  },
  {
   "cell_type": "code",
   "execution_count": 18,
   "id": "508873a1",
   "metadata": {},
   "outputs": [
    {
     "name": "stdout",
     "output_type": "stream",
     "text": [
      "[10, 20, 30]\n",
      "[]\n",
      "[10, 20, 30, 40, 50]\n",
      "[10, 40]\n",
      "[10, 20, 30, 40, 50]\n",
      "[10, 20, 30, 40, 50]\n",
      "[10, 20, 30, 40, 50]\n",
      "[10, 20, 30, 40, 50]\n",
      "[10, 20, 30, 40, 50]\n"
     ]
    }
   ],
   "source": [
    "# Fetching a sublist from the list is known as slicing\n",
    "# lst[Start_index : Stop_index: Step]\n",
    "# Stop size can be excluded\n",
    "# step_size is 1 by default\n",
    "\n",
    "lst = [10, 20, 30, 40, 50]\n",
    "print(lst[0:3:1])\n",
    "print(lst[0:3:-1])\n",
    "print(lst[0::1])\n",
    "print(lst[::3])\n",
    "print(lst[::])\n",
    "print(lst[0:len(lst):1])\n",
    "print(lst[0:len(lst)])\n",
    "print(lst[:len(lst):])\n",
    "print(lst[0::])"
   ]
  },
  {
   "cell_type": "code",
   "execution_count": 19,
   "id": "16c94bf9",
   "metadata": {},
   "outputs": [
    {
     "name": "stdout",
     "output_type": "stream",
     "text": [
      "[50, 40, 30, 20, 10]\n",
      "[50, 40, 30, 20, 10]\n",
      "[50, 40, 30, 20, 10]\n",
      "[50, 40, 30, 20, 10]\n"
     ]
    }
   ],
   "source": [
    "# revesing the list\n",
    "print(lst[len(lst)+1: :-1])\n",
    "print(lst[-1:-(len(lst)+1):-1])\n",
    "print(lst[-1::-1])\n",
    "print(lst[::-1])"
   ]
  },
  {
   "cell_type": "code",
   "execution_count": 20,
   "id": "6831f6f4",
   "metadata": {},
   "outputs": [
    {
     "name": "stdout",
     "output_type": "stream",
     "text": [
      "['__add__', '__class__', '__class_getitem__', '__contains__', '__delattr__', '__delitem__', '__dir__', '__doc__', '__eq__', '__format__', '__ge__', '__getattribute__', '__getitem__', '__getstate__', '__gt__', '__hash__', '__iadd__', '__imul__', '__init__', '__init_subclass__', '__iter__', '__le__', '__len__', '__lt__', '__mul__', '__ne__', '__new__', '__reduce__', '__reduce_ex__', '__repr__', '__reversed__', '__rmul__', '__setattr__', '__setitem__', '__sizeof__', '__str__', '__subclasshook__', 'append', 'clear', 'copy', 'count', 'extend', 'index', 'insert', 'pop', 'remove', 'reverse', 'sort']\n"
     ]
    }
   ],
   "source": [
    "print(dir(lst))"
   ]
  },
  {
   "cell_type": "markdown",
   "id": "58117d87",
   "metadata": {},
   "source": [
    "# List Methods\n",
    "\n",
    "    "
   ]
  },
  {
   "cell_type": "code",
   "execution_count": 21,
   "id": "f476fc81",
   "metadata": {},
   "outputs": [],
   "source": [
    "#'append', 'clear', 'copy', 'count', 'extend', 'index', 'insert', 'pop', 'remove', 'reverse', 'sort'"
   ]
  },
  {
   "cell_type": "markdown",
   "id": "fff7785a",
   "metadata": {},
   "source": [
    "## append()\n",
    "\n"
   ]
  },
  {
   "cell_type": "code",
   "execution_count": 22,
   "id": "a1f073b0",
   "metadata": {},
   "outputs": [
    {
     "name": "stdout",
     "output_type": "stream",
     "text": [
      "None\n",
      "None\n",
      "[10, 20, 30, 40, 50, 60, [13, 45, 56, 78]]\n",
      "1434336485952\n",
      "140733730417392\n"
     ]
    }
   ],
   "source": [
    "# Appends the value at the end of list\n",
    "lst = [10, 20, 30, 40, 50]\n",
    "b = lst.append(60)\n",
    "print(lst.append([13, 45, 56, 78]))\n",
    "print(b)\n",
    "print(lst)\n",
    "print(id(lst))\n",
    "print(id(b))"
   ]
  },
  {
   "cell_type": "markdown",
   "id": "36e49978",
   "metadata": {},
   "source": [
    "## extend()\n"
   ]
  },
  {
   "cell_type": "code",
   "execution_count": 23,
   "id": "df563775",
   "metadata": {},
   "outputs": [
    {
     "name": "stdout",
     "output_type": "stream",
     "text": [
      "[10, 20, 30, 40, 50, 'p', 'y', 't', 'h', 'o', 'n', 1, 3, 4, 5, 6, 6, 7]\n"
     ]
    }
   ],
   "source": [
    "# It takes an iterable as the argument and adds the elemet of the iterable of list one by one\n",
    "# list.extend(iterable)\n",
    "\n",
    "lst = [10, 20, 30, 40, 50]\n",
    "lst.extend('python')\n",
    "lst.extend([1,3,4 ,5,6,6,7])\n",
    "print(lst)"
   ]
  },
  {
   "cell_type": "markdown",
   "id": "2d2546dc",
   "metadata": {},
   "source": [
    "# append vs extend\n"
   ]
  },
  {
   "cell_type": "code",
   "execution_count": 24,
   "id": "07498291",
   "metadata": {},
   "outputs": [
    {
     "name": "stdout",
     "output_type": "stream",
     "text": [
      "[10, 20, 30, 40, 50, 'Python']\n",
      "[10, 20, 30, 40, 50, 'P', 'y', 't', 'h', 'o', 'n']\n"
     ]
    }
   ],
   "source": [
    "lst1= [10, 20, 30, 40, 50]\n",
    "lst2= [10, 20, 30, 40, 50]\n",
    "\n",
    "lst1.append('Python')\n",
    "lst2.extend('Python')\n",
    "\n",
    "print(lst1)\n",
    "print(lst2)"
   ]
  },
  {
   "cell_type": "markdown",
   "id": "5b1c7c28",
   "metadata": {},
   "source": [
    "# Count()\n"
   ]
  },
  {
   "cell_type": "code",
   "execution_count": 25,
   "id": "4bf46bb6",
   "metadata": {},
   "outputs": [
    {
     "name": "stdout",
     "output_type": "stream",
     "text": [
      "[10, 20, 30, 40, 50, 10, 10]\n",
      "0\n",
      "3\n"
     ]
    }
   ],
   "source": [
    "# Gives the number of occurance of the element in a list\n",
    "\n",
    "lst= [10, 20, 30, 40, 50,10,10]\n",
    "print(lst)\n",
    "\n",
    "print(lst.count(100))\n",
    "print(lst.count(10))"
   ]
  },
  {
   "cell_type": "markdown",
   "id": "0c2d3908",
   "metadata": {},
   "source": [
    "# index()"
   ]
  },
  {
   "cell_type": "code",
   "execution_count": 26,
   "id": "62a03976",
   "metadata": {},
   "outputs": [
    {
     "name": "stdout",
     "output_type": "stream",
     "text": [
      "0\n",
      "8\n",
      "0\n",
      "5\n",
      "7\n",
      "5\n"
     ]
    }
   ],
   "source": [
    "# It returns the index of the first occurance of the specified elemet from left to right\n",
    "# If elemet is not found then it raises the value error\n",
    "\n",
    "lst = [10,20,30,40,50,10,20,50,90]\n",
    "print(lst.index(10))\n",
    "print(lst.index(90))\n",
    "print(lst.index(10))\n",
    "print(lst.index(10,2))\n",
    "print(lst.index(50,5))\n",
    "print(lst.index(10,2,6))\n",
    "\n",
    "# print(lst.index(100)) - Gives the value error"
   ]
  },
  {
   "cell_type": "markdown",
   "id": "eff711ee",
   "metadata": {},
   "source": [
    "# pop()\n"
   ]
  },
  {
   "cell_type": "code",
   "execution_count": 27,
   "id": "044d52ad",
   "metadata": {},
   "outputs": [
    {
     "name": "stdout",
     "output_type": "stream",
     "text": [
      "[10, 20, 30, 40, 50, 10, 20, 50, 90]\n",
      "40\n",
      "[10, 20, 30, 50, 10, 20, 50, 90]\n",
      "90\n",
      "[10, 20, 30, 50, 10, 20, 50]\n"
     ]
    }
   ],
   "source": [
    "# Returns the  element available at the specified index of the list and removes from it\n",
    "# By default it returns and removes last element from the list\n",
    "# lst.pop(index)\n",
    "\n",
    "lst = [10,20,30,40,50,10,20,50,90]\n",
    "\n",
    "print(lst)\n",
    "print(lst.pop(3))\n",
    "print(lst)\n",
    "\n",
    "x = lst.pop()\n",
    "print(x)\n",
    "print(lst)\n",
    "\n",
    "\n",
    "# x = lst.pop(67) - pop index out of range exception\n",
    "# print(x)\n",
    "# print(lst)"
   ]
  },
  {
   "cell_type": "markdown",
   "id": "7202920e",
   "metadata": {},
   "source": [
    "# remove()"
   ]
  },
  {
   "cell_type": "code",
   "execution_count": 28,
   "id": "5efc9bdc",
   "metadata": {},
   "outputs": [
    {
     "name": "stdout",
     "output_type": "stream",
     "text": [
      "[True, False, True, 'Python', False]\n",
      "[True, True, 'Python', False]\n",
      "[True, True, 'Python']\n"
     ]
    }
   ],
   "source": [
    "# It removes perticular element in the list\n",
    "# It does not return the value\n",
    "# if the eleemnt is not found then it raises value error\n",
    "\n",
    "\n",
    "lst = [True, False, 50, True, 'Python', False]\n",
    "lst.remove(50)\n",
    "print(lst)\n",
    "\n",
    "# lst.remove(100) - Gives an error\n",
    "\n",
    "lst.remove(0) \n",
    "# removes the false value\n",
    "print(lst)\n",
    "\n",
    "lst.remove(0) \n",
    "print(lst)\n",
    "\n",
    "# lst.remove(0) - Gives the error since it removed all False value\n",
    "# print(lst)"
   ]
  },
  {
   "cell_type": "markdown",
   "id": "11f0d732",
   "metadata": {},
   "source": [
    "# insert()"
   ]
  },
  {
   "cell_type": "code",
   "execution_count": 4,
   "id": "33e720e8",
   "metadata": {},
   "outputs": [
    {
     "name": "stdout",
     "output_type": "stream",
     "text": [
      "[10, 20, 30, 40, 50, 60]\n",
      "[10, 20, True, 30, 40, 50, 60, 80, True]\n"
     ]
    }
   ],
   "source": [
    "# It inserts an element at a perticular index in a list\n",
    "# The existing element on the specified index will shift to the right\n",
    "\n",
    "lst = [10,20,30,40,50,60]\n",
    "print(lst)\n",
    "\n",
    "lst.insert(2,True)\n",
    "\n",
    "\n",
    "lst.insert(200,True)\n",
    "\n",
    "print(lst)\n",
    "\n",
    "lst.insert(-1,80)\n",
    "\n",
    "print(lst)"
   ]
  },
  {
   "cell_type": "code",
   "execution_count": null,
   "id": "cb979a7d",
   "metadata": {},
   "outputs": [],
   "source": []
  }
 ],
 "metadata": {
  "kernelspec": {
   "display_name": "Python 3 (ipykernel)",
   "language": "python",
   "name": "python3"
  },
  "language_info": {
   "codemirror_mode": {
    "name": "ipython",
    "version": 3
   },
   "file_extension": ".py",
   "mimetype": "text/x-python",
   "name": "python",
   "nbconvert_exporter": "python",
   "pygments_lexer": "ipython3",
   "version": "3.11.3"
  }
 },
 "nbformat": 4,
 "nbformat_minor": 5
}
