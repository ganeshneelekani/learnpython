{
 "cells": [
  {
   "cell_type": "markdown",
   "id": "605fb87b",
   "metadata": {},
   "source": [
    "# String methods"
   ]
  },
  {
   "cell_type": "code",
   "execution_count": 6,
   "id": "7e114e23",
   "metadata": {},
   "outputs": [
    {
     "name": "stdout",
     "output_type": "stream",
     "text": [
      "['__add__', '__class__', '__contains__', '__delattr__', '__dir__', '__doc__', '__eq__', '__format__', '__ge__', '__getattribute__', '__getitem__', '__getnewargs__', '__getstate__', '__gt__', '__hash__', '__init__', '__init_subclass__', '__iter__', '__le__', '__len__', '__lt__', '__mod__', '__mul__', '__ne__', '__new__', '__reduce__', '__reduce_ex__', '__repr__', '__rmod__', '__rmul__', '__setattr__', '__sizeof__', '__str__', '__subclasshook__', 'capitalize', 'casefold', 'center', 'count', 'encode', 'endswith', 'expandtabs', 'find', 'format', 'format_map', 'index', 'isalnum', 'isalpha', 'isascii', 'isdecimal', 'isdigit', 'isidentifier', 'islower', 'isnumeric', 'isprintable', 'isspace', 'istitle', 'isupper', 'join', 'ljust', 'lower', 'lstrip', 'maketrans', 'partition', 'removeprefix', 'removesuffix', 'replace', 'rfind', 'rindex', 'rjust', 'rpartition', 'rsplit', 'rstrip', 'split', 'splitlines', 'startswith', 'strip', 'swapcase', 'title', 'translate', 'upper', 'zfill']\n"
     ]
    }
   ],
   "source": [
    "print(dir(str))"
   ]
  },
  {
   "cell_type": "code",
   "execution_count": 8,
   "id": "d2ad0c1b",
   "metadata": {},
   "outputs": [
    {
     "name": "stdout",
     "output_type": "stream",
     "text": [
      "['__class__', '__delattr__', '__dict__', '__dir__', '__doc__', '__eq__', '__format__', '__ge__', '__getattribute__', '__getstate__', '__gt__', '__hash__', '__init__', '__init_subclass__', '__le__', '__lt__', '__module__', '__ne__', '__new__', '__reduce__', '__reduce_ex__', '__repr__', '__setattr__', '__sizeof__', '__str__', '__subclasshook__', '__weakref__', '_init_', 'my_method']\n"
     ]
    }
   ],
   "source": [
    "class August:\n",
    "    def _init_(self):\n",
    "        print(\" I am a constructor\")\n",
    "    \n",
    "    def my_method(self):\n",
    "        print(\" custom method\")\n",
    "        \n",
    "s = August()\n",
    "\n",
    "print(dir(s))"
   ]
  },
  {
   "cell_type": "code",
   "execution_count": 9,
   "id": "353bfa51",
   "metadata": {},
   "outputs": [],
   "source": [
    "# Accessing a method can be done by dot operator"
   ]
  },
  {
   "cell_type": "markdown",
   "id": "061c9162",
   "metadata": {},
   "source": [
    "# replace()"
   ]
  },
  {
   "cell_type": "code",
   "execution_count": 2,
   "id": "4a2a0a8e",
   "metadata": {},
   "outputs": [
    {
     "data": {
      "text/plain": [
       "'pava'"
      ]
     },
     "execution_count": 2,
     "metadata": {},
     "output_type": "execute_result"
    }
   ],
   "source": [
    "\"java\".replace('j','p')\n"
   ]
  },
  {
   "cell_type": "markdown",
   "id": "a4b5ca38",
   "metadata": {},
   "source": [
    "# startwith()"
   ]
  },
  {
   "cell_type": "code",
   "execution_count": 4,
   "id": "2443fc61",
   "metadata": {},
   "outputs": [
    {
     "data": {
      "text/plain": [
       "True"
      ]
     },
     "execution_count": 4,
     "metadata": {},
     "output_type": "execute_result"
    }
   ],
   "source": [
    "\"python\".startswith('p')"
   ]
  },
  {
   "cell_type": "markdown",
   "id": "c1916d02",
   "metadata": {},
   "source": [
    "# endswith()"
   ]
  },
  {
   "cell_type": "code",
   "execution_count": 5,
   "id": "61214adf",
   "metadata": {},
   "outputs": [
    {
     "data": {
      "text/plain": [
       "True"
      ]
     },
     "execution_count": 5,
     "metadata": {},
     "output_type": "execute_result"
    }
   ],
   "source": [
    "\"python\".endswith('n')"
   ]
  },
  {
   "cell_type": "markdown",
   "id": "37db739e",
   "metadata": {},
   "source": [
    "# str.upper() and str.lower()\n"
   ]
  },
  {
   "cell_type": "code",
   "execution_count": 9,
   "id": "7454c9aa",
   "metadata": {},
   "outputs": [
    {
     "name": "stdout",
     "output_type": "stream",
     "text": [
      "HELLO, WORLD!\n",
      "hello, world!\n"
     ]
    }
   ],
   "source": [
    "text = \"Hello, World!\"\n",
    "upper_text = text.upper()  # Converts the string to uppercase\n",
    "lower_text = text.lower()  # Converts the string to lowercase\n",
    "print(upper_text)\n",
    "print(lower_text)"
   ]
  },
  {
   "cell_type": "markdown",
   "id": "43e8d15e",
   "metadata": {},
   "source": [
    "# str.strip()\n"
   ]
  },
  {
   "cell_type": "code",
   "execution_count": 12,
   "id": "7b7d2a7b",
   "metadata": {},
   "outputs": [
    {
     "name": "stdout",
     "output_type": "stream",
     "text": [
      "This is a string with whitespace.\n"
     ]
    }
   ],
   "source": [
    "text = \"  This is a string with whitespace.   \"\n",
    "stripped_text = text.strip()  \n",
    "print(stripped_text)"
   ]
  },
  {
   "cell_type": "markdown",
   "id": "dea17182",
   "metadata": {},
   "source": [
    "# str.split()"
   ]
  },
  {
   "cell_type": "code",
   "execution_count": 15,
   "id": "7b18e27a",
   "metadata": {},
   "outputs": [
    {
     "name": "stdout",
     "output_type": "stream",
     "text": [
      "['Hello', 'World!']\n"
     ]
    }
   ],
   "source": [
    "text = \"Hello, World!\"\n",
    "words = text.split(\", \")\n",
    "print(words)"
   ]
  },
  {
   "cell_type": "markdown",
   "id": "fcee621d",
   "metadata": {},
   "source": [
    "# str.join()"
   ]
  },
  {
   "cell_type": "code",
   "execution_count": 18,
   "id": "a7b361ba",
   "metadata": {},
   "outputs": [
    {
     "name": "stdout",
     "output_type": "stream",
     "text": [
      "Hello, World\n"
     ]
    }
   ],
   "source": [
    "words = [\"Hello\", \"World\"]\n",
    "text = \", \".join(words)  \n",
    "print(text)"
   ]
  },
  {
   "cell_type": "markdown",
   "id": "7163ac82",
   "metadata": {},
   "source": [
    "# str.find()\n"
   ]
  },
  {
   "cell_type": "code",
   "execution_count": 21,
   "id": "cbbea220",
   "metadata": {},
   "outputs": [
    {
     "name": "stdout",
     "output_type": "stream",
     "text": [
      "7\n"
     ]
    }
   ],
   "source": [
    "text = \"Hello, World!\"\n",
    "position = text.find(\"World\") \n",
    "print(position)"
   ]
  },
  {
   "cell_type": "markdown",
   "id": "c8dbbe5e",
   "metadata": {},
   "source": [
    "# str.replace()"
   ]
  },
  {
   "cell_type": "code",
   "execution_count": 23,
   "id": "e3c73e55",
   "metadata": {},
   "outputs": [
    {
     "name": "stdout",
     "output_type": "stream",
     "text": [
      "Hello, Python!\n"
     ]
    }
   ],
   "source": [
    "text = \"Hello, World!\"\n",
    "new_text = text.replace(\"World\", \"Python\") \n",
    "print(new_text)"
   ]
  },
  {
   "cell_type": "markdown",
   "id": "b06c1751",
   "metadata": {},
   "source": [
    "# str.startswith() and str.endswith()"
   ]
  },
  {
   "cell_type": "code",
   "execution_count": 24,
   "id": "900fd37f",
   "metadata": {},
   "outputs": [
    {
     "name": "stdout",
     "output_type": "stream",
     "text": [
      "True\n",
      "True\n"
     ]
    }
   ],
   "source": [
    "text = \"Hello, World!\"\n",
    "starts_with_hello = text.startswith(\"Hello\")  \n",
    "ends_with_world = text.endswith(\"World!\") \n",
    "print(starts_with_hello)\n",
    "print(ends_with_world)"
   ]
  },
  {
   "cell_type": "markdown",
   "id": "ef37eaf6",
   "metadata": {},
   "source": [
    "# str.count()"
   ]
  },
  {
   "cell_type": "code",
   "execution_count": 25,
   "id": "0d5771c5",
   "metadata": {},
   "outputs": [
    {
     "name": "stdout",
     "output_type": "stream",
     "text": [
      "3\n"
     ]
    }
   ],
   "source": [
    "text = \"Hello, Hello, Hello!\"\n",
    "count = text.count(\"Hello\")\n",
    "print(count)"
   ]
  },
  {
   "cell_type": "markdown",
   "id": "622e83f6",
   "metadata": {},
   "source": [
    "# str.isdigit() and str.isalpha()"
   ]
  },
  {
   "cell_type": "code",
   "execution_count": 26,
   "id": "230fbb1a",
   "metadata": {},
   "outputs": [
    {
     "name": "stdout",
     "output_type": "stream",
     "text": [
      "True\n",
      "True\n"
     ]
    }
   ],
   "source": [
    "num_str = \"123\"\n",
    "alpha_str = \"Hello\"\n",
    "is_digit = num_str.isdigit()  \n",
    "is_alpha = alpha_str.isalpha()  \n",
    "print(is_digit)\n",
    "print(is_alpha)"
   ]
  },
  {
   "cell_type": "markdown",
   "id": "c58f10a9",
   "metadata": {},
   "source": [
    "# str.capitalize()\n"
   ]
  },
  {
   "cell_type": "code",
   "execution_count": 27,
   "id": "bf3f8083",
   "metadata": {},
   "outputs": [
    {
     "name": "stdout",
     "output_type": "stream",
     "text": [
      "Hello, world!\n"
     ]
    }
   ],
   "source": [
    "text = \"hello, world!\"\n",
    "capitalized_text = text.capitalize()\n",
    "print(capitalized_text)"
   ]
  },
  {
   "cell_type": "markdown",
   "id": "837b5530",
   "metadata": {},
   "source": [
    "# str.zfill()\n"
   ]
  },
  {
   "cell_type": "code",
   "execution_count": 28,
   "id": "f7e5cda9",
   "metadata": {},
   "outputs": [
    {
     "name": "stdout",
     "output_type": "stream",
     "text": [
      "00042\n"
     ]
    }
   ],
   "source": [
    "number = \"42\"\n",
    "zero_padded_number = number.zfill(5)\n",
    "print(zero_padded_number)"
   ]
  },
  {
   "cell_type": "markdown",
   "id": "ac513692",
   "metadata": {},
   "source": [
    "# str.title()"
   ]
  },
  {
   "cell_type": "code",
   "execution_count": 29,
   "id": "0988bb04",
   "metadata": {},
   "outputs": [
    {
     "name": "stdout",
     "output_type": "stream",
     "text": [
      "This Is A Title\n"
     ]
    }
   ],
   "source": [
    "text = \"this is a title\"\n",
    "title_text = text.title()\n",
    "print(title_text)"
   ]
  },
  {
   "cell_type": "markdown",
   "id": "bd88a0db",
   "metadata": {},
   "source": [
    "# str.encode() and str.decode()"
   ]
  },
  {
   "cell_type": "code",
   "execution_count": 31,
   "id": "021564df",
   "metadata": {},
   "outputs": [
    {
     "name": "stdout",
     "output_type": "stream",
     "text": [
      "b'Hello, World!'\n",
      "Hello, World!\n"
     ]
    }
   ],
   "source": [
    "text = \"Hello, World!\"\n",
    "encoded_text = text.encode(encoding='utf-8') \n",
    "decoded_text = encoded_text.decode(encoding='utf-8')\n",
    "print(encoded_text)\n",
    "print(decoded_text)"
   ]
  },
  {
   "cell_type": "markdown",
   "id": "3994a757",
   "metadata": {},
   "source": [
    "# str.reverse()"
   ]
  },
  {
   "cell_type": "code",
   "execution_count": 34,
   "id": "6c79f519",
   "metadata": {},
   "outputs": [
    {
     "name": "stdout",
     "output_type": "stream",
     "text": [
      "nohtyP\n"
     ]
    }
   ],
   "source": [
    "text= \"Python\"[::-1]\n",
    "print(text)"
   ]
  },
  {
   "cell_type": "code",
   "execution_count": 1,
   "id": "a1c5c8bf",
   "metadata": {},
   "outputs": [
    {
     "name": "stdout",
     "output_type": "stream",
     "text": [
      "Hello! python\n",
      "Hlo yhn\n",
      "Hl tn\n",
      "nohtyp !olleH\n"
     ]
    }
   ],
   "source": [
    "text =\"Hello! python\"\n",
    "\n",
    "print(text[:len(text):1])\n",
    "print(text[:len(text):2])\n",
    "print(text[:len(text):3])\n",
    "print(text[:-(len(text)+1):-1])\n"
   ]
  },
  {
   "cell_type": "code",
   "execution_count": 2,
   "id": "44476acd",
   "metadata": {},
   "outputs": [
    {
     "name": "stdout",
     "output_type": "stream",
     "text": [
      "el,Wrd\n"
     ]
    }
   ],
   "source": [
    "my_string = \"Hello, World!\"\n",
    "new_string = \"J\" + my_string[1:]\n",
    "print( my_string[1::2])  "
   ]
  }
 ],
 "metadata": {
  "kernelspec": {
   "display_name": "Python 3 (ipykernel)",
   "language": "python",
   "name": "python3"
  },
  "language_info": {
   "codemirror_mode": {
    "name": "ipython",
    "version": 3
   },
   "file_extension": ".py",
   "mimetype": "text/x-python",
   "name": "python",
   "nbconvert_exporter": "python",
   "pygments_lexer": "ipython3",
   "version": "3.11.3"
  }
 },
 "nbformat": 4,
 "nbformat_minor": 5
}
