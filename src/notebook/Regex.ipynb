{
 "cells": [
  {
   "cell_type": "markdown",
   "id": "78b448c8",
   "metadata": {},
   "source": [
    "# Components"
   ]
  },
  {
   "cell_type": "markdown",
   "id": "692c16ab",
   "metadata": {},
   "source": [
    "- Pattern\n",
    "- Functions\n",
    "- Meta Characters\n",
    "- Special Regex Sequence\n",
    "- Quantifiers"
   ]
  },
  {
   "cell_type": "markdown",
   "id": "8a74d9be",
   "metadata": {},
   "source": [
    "# Pattern"
   ]
  },
  {
   "cell_type": "code",
   "execution_count": 1,
   "id": "473ccabf",
   "metadata": {},
   "outputs": [],
   "source": [
    "# Syntax - r'pattern'"
   ]
  },
  {
   "cell_type": "markdown",
   "id": "cbd1c25e",
   "metadata": {},
   "source": [
    "# Functions"
   ]
  },
  {
   "cell_type": "code",
   "execution_count": 2,
   "id": "bab747d4",
   "metadata": {},
   "outputs": [],
   "source": [
    "# match()\n",
    "# search()\n",
    "# findall()\n",
    "# finditer()\n",
    "# sub()\n",
    "# compile()\n",
    "# split()"
   ]
  },
  {
   "cell_type": "markdown",
   "id": "5db2392a",
   "metadata": {},
   "source": [
    "## match()"
   ]
  },
  {
   "cell_type": "markdown",
   "id": "04c4a958",
   "metadata": {},
   "source": [
    "- It matches the patern at the beginning of the string\n",
    "- If the pattern is found at the beginning of the string it tretuens match object\n",
    "- If the pattern is not found at the beginning of the string then it return None"
   ]
  },
  {
   "cell_type": "code",
   "execution_count": 3,
   "id": "4c30b4b6",
   "metadata": {},
   "outputs": [],
   "source": [
    "# Syntax - re.match(pattern,string)"
   ]
  },
  {
   "cell_type": "code",
   "execution_count": 10,
   "id": "c3b6e9d3",
   "metadata": {},
   "outputs": [],
   "source": [
    "import re"
   ]
  },
  {
   "cell_type": "code",
   "execution_count": 11,
   "id": "c7634231",
   "metadata": {},
   "outputs": [
    {
     "name": "stdout",
     "output_type": "stream",
     "text": [
      "<re.Match object; span=(0, 5), match='India'>\n"
     ]
    }
   ],
   "source": [
    "text= 'India is my contry'\n",
    "pat=r'India'\n",
    "\n",
    "x=re.match(pat,text)\n",
    "print(x)"
   ]
  },
  {
   "cell_type": "markdown",
   "id": "00cab2ce",
   "metadata": {},
   "source": [
    "# match object"
   ]
  },
  {
   "cell_type": "markdown",
   "id": "384e0281",
   "metadata": {},
   "source": [
    "- span - it is the tuple contains start and stop index of the pattern matched\n",
    "- match - It is the pattern that is matched"
   ]
  },
  {
   "cell_type": "code",
   "execution_count": 26,
   "id": "1ef7d955",
   "metadata": {},
   "outputs": [
    {
     "name": "stdout",
     "output_type": "stream",
     "text": [
      "<re.Match object; span=(0, 5), match='India'>\n"
     ]
    }
   ],
   "source": [
    "text= 'India is my contry'\n",
    "pat=r'India'\n",
    "\n",
    "x=re.match(pat,text)\n",
    "print(x)"
   ]
  },
  {
   "cell_type": "code",
   "execution_count": 27,
   "id": "fabb6816",
   "metadata": {},
   "outputs": [
    {
     "data": {
      "text/plain": [
       "'India'"
      ]
     },
     "execution_count": 27,
     "metadata": {},
     "output_type": "execute_result"
    }
   ],
   "source": [
    "x.group()"
   ]
  },
  {
   "cell_type": "code",
   "execution_count": 15,
   "id": "6ab274d5",
   "metadata": {},
   "outputs": [
    {
     "data": {
      "text/plain": [
       "(0, 5)"
      ]
     },
     "execution_count": 15,
     "metadata": {},
     "output_type": "execute_result"
    }
   ],
   "source": [
    "x.span()"
   ]
  },
  {
   "cell_type": "code",
   "execution_count": 17,
   "id": "fd4ec000",
   "metadata": {},
   "outputs": [
    {
     "name": "stdout",
     "output_type": "stream",
     "text": [
      "0\n",
      "5\n"
     ]
    }
   ],
   "source": [
    "print(x.start())\n",
    "print(x.end())"
   ]
  },
  {
   "cell_type": "markdown",
   "id": "03c4fe86",
   "metadata": {},
   "source": [
    "# search()"
   ]
  },
  {
   "cell_type": "markdown",
   "id": "2ee20c12",
   "metadata": {},
   "source": [
    "- It matches the fiest occurance of the pattern from left to right\n",
    "- If the pattern is matched then it returns the match object\n",
    "- If the pattern is not matched then it returns None."
   ]
  },
  {
   "cell_type": "code",
   "execution_count": 31,
   "id": "8ef5477d",
   "metadata": {},
   "outputs": [
    {
     "name": "stdout",
     "output_type": "stream",
     "text": [
      "<re.Match object; span=(10, 15), match='India'>\n"
     ]
    }
   ],
   "source": [
    "# re.search(pattern,string)\n",
    "\n",
    "text='I live in India. How about you? Have you ever been to India?'\n",
    "pat=r'India'\n",
    "x=re.search(pat,text)\n",
    "print(x)"
   ]
  },
  {
   "cell_type": "code",
   "execution_count": 30,
   "id": "b7c5a0a4",
   "metadata": {},
   "outputs": [
    {
     "data": {
      "text/plain": [
       "'India'"
      ]
     },
     "execution_count": 30,
     "metadata": {},
     "output_type": "execute_result"
    }
   ],
   "source": [
    "x.group()"
   ]
  },
  {
   "cell_type": "markdown",
   "id": "b64082be",
   "metadata": {},
   "source": [
    "# findall()"
   ]
  },
  {
   "cell_type": "markdown",
   "id": "f42963a6",
   "metadata": {},
   "source": [
    "- It matches all the occurances of the pattern and return list\n",
    "- If he pattern is not found then it returns an [] empty list\n",
    "\n"
   ]
  },
  {
   "cell_type": "code",
   "execution_count": 32,
   "id": "398b073d",
   "metadata": {},
   "outputs": [
    {
     "name": "stdout",
     "output_type": "stream",
     "text": [
      "['India', 'India']\n"
     ]
    }
   ],
   "source": [
    "# syntx - re.findall(pattern,string)\n",
    "\n",
    "text='I live in India. How about you? Have you ever been to India?'\n",
    "pat=r'India'\n",
    "x=re.findall(pat,text)\n",
    "print(x)"
   ]
  },
  {
   "cell_type": "markdown",
   "id": "2456fc3a",
   "metadata": {},
   "source": [
    "# finditer()"
   ]
  },
  {
   "cell_type": "markdown",
   "id": "f2d1a404",
   "metadata": {},
   "source": [
    "- It matches all the occurance of the pattern and returns iterator object\n",
    "- Each element inside the iterator object is match object\n",
    "- If the pattern is not found then it returns empty iterator object"
   ]
  },
  {
   "cell_type": "code",
   "execution_count": 38,
   "id": "11116751",
   "metadata": {},
   "outputs": [
    {
     "name": "stdout",
     "output_type": "stream",
     "text": [
      "<callable_iterator object at 0x000002A56F7584C0>\n",
      "<re.Match object; span=(10, 15), match='India'>\n",
      "<re.Match object; span=(54, 59), match='India'>\n"
     ]
    }
   ],
   "source": [
    "# syntx - re.finditer(pattern,string)\n",
    "\n",
    "text='I live in India. How about you? Have you ever been to India?'\n",
    "pat=r'India'\n",
    "x=re.finditer(pat,text)\n",
    "print(x)\n",
    "\n",
    "for i in x:\n",
    "    print(i)\n",
    "    \n",
    "    "
   ]
  },
  {
   "cell_type": "markdown",
   "id": "73475044",
   "metadata": {},
   "source": [
    "# Metacharacters"
   ]
  },
  {
   "cell_type": "markdown",
   "id": "5ffa1ad1",
   "metadata": {},
   "source": [
    "## [] -Set"
   ]
  },
  {
   "cell_type": "code",
   "execution_count": 39,
   "id": "d7633b6c",
   "metadata": {},
   "outputs": [],
   "source": [
    "# [A] - It will match all the A's one by one\n",
    "# [AB] - It will match all A's and all B's separated one by one\n",
    "# [A-Z] - It will match all the capital characters"
   ]
  },
  {
   "cell_type": "code",
   "execution_count": 53,
   "id": "19ec3d2a",
   "metadata": {},
   "outputs": [
    {
     "name": "stdout",
     "output_type": "stream",
     "text": [
      "<callable_iterator object at 0x000002A56F7616C0>\n",
      "<re.Match object; span=(0, 1), match='I'>\n",
      "<re.Match object; span=(10, 11), match='I'>\n",
      "<re.Match object; span=(11, 12), match='I'>\n",
      "<re.Match object; span=(12, 13), match='I'>\n",
      "<re.Match object; span=(13, 14), match='I'>\n",
      "<re.Match object; span=(14, 15), match='I'>\n",
      "<re.Match object; span=(58, 59), match='I'>\n",
      "<callable_iterator object at 0x000002A56F761420>\n",
      "<re.Match object; span=(0, 1), match='I'>\n",
      "<re.Match object; span=(10, 11), match='I'>\n",
      "<re.Match object; span=(11, 12), match='I'>\n",
      "<re.Match object; span=(12, 13), match='I'>\n",
      "<re.Match object; span=(13, 14), match='I'>\n",
      "<re.Match object; span=(14, 15), match='I'>\n",
      "<re.Match object; span=(58, 59), match='I'>\n",
      "['I', 'I', 'I', 'I', 'I', 'I', 'I']\n"
     ]
    }
   ],
   "source": [
    "text='I live in IIIIIndia. How about you? Have you ever been to India?'\n",
    "pat=r'[I]'\n",
    "x=re.finditer(pat,text)\n",
    "print(x)\n",
    "\n",
    "for i in x:\n",
    "    print(i)\n",
    "    \n",
    "    \n",
    "pat1=r'I'\n",
    "x=re.finditer(pat1,text)\n",
    "print(x)\n",
    "\n",
    "for i in x:\n",
    "    print(i)\n",
    "\n",
    "pat=r'[I]'\n",
    "x=re.findall(pat,text)\n",
    "print(x)\n",
    "\n"
   ]
  },
  {
   "cell_type": "markdown",
   "id": "4a48a8e0",
   "metadata": {},
   "source": [
    "# Dot (.)"
   ]
  },
  {
   "cell_type": "code",
   "execution_count": 54,
   "id": "b28d5af9",
   "metadata": {},
   "outputs": [
    {
     "name": "stdout",
     "output_type": "stream",
     "text": [
      "aab\n",
      "a1b\n",
      "a@b\n"
     ]
    }
   ],
   "source": [
    "import re\n",
    "\n",
    "pattern = r\"a.b\"\n",
    "text1 = \"aab\"\n",
    "text2 = \"a1b\"\n",
    "text3 = \"a@b\"\n",
    "\n",
    "match1 = re.search(pattern, text1)\n",
    "match2 = re.search(pattern, text2)\n",
    "match3 = re.search(pattern, text3)\n",
    "\n",
    "print(match1.group())  # Output: aab\n",
    "print(match2.group())  # Output: a1b\n",
    "print(match3.group())  # Output: a@b\n"
   ]
  },
  {
   "cell_type": "markdown",
   "id": "d728cfbc",
   "metadata": {},
   "source": [
    "# Caret (^) and Dollar ( $)"
   ]
  },
  {
   "cell_type": "code",
   "execution_count": 55,
   "id": "0e4e935f",
   "metadata": {},
   "outputs": [
    {
     "name": "stdout",
     "output_type": "stream",
     "text": [
      "abc\n",
      "xyz\n"
     ]
    }
   ],
   "source": [
    "import re\n",
    "\n",
    "pattern_start = r\"^abc\"\n",
    "pattern_end = r\"xyz$\"\n",
    "\n",
    "text1 = \"abcdef\"\n",
    "text2 = \"xyz123\"\n",
    "text3 = \"123xyz\"\n",
    "\n",
    "match_start = re.search(pattern_start, text1)\n",
    "match_end = re.search(pattern_end, text3)\n",
    "\n",
    "print(match_start.group() if match_start else \"No match\")  # Output: abc\n",
    "print(match_end.group() if match_end else \"No match\")      # Output: xyz\n"
   ]
  },
  {
   "cell_type": "code",
   "execution_count": 56,
   "id": "be065d58",
   "metadata": {},
   "outputs": [],
   "source": [
    "# . (Dot): Matches any character except a newline.\n",
    "\n",
    "# Example: a.b matches \"aab,\" \"a1b,\" \"a@b,\" etc.\n",
    "# ^ (Caret): Matches the start of a string.\n",
    "\n",
    "# Example: ^abc matches \"abc\" at the beginning of a string.\n",
    "# $ (Dollar): Matches the end of a string.\n",
    "\n",
    "# Example: xyz$ matches \"xyz\" at the end of a string.\n",
    "# * (Asterisk): Matches 0 or more occurrences of the preceding character or group.\n",
    "\n",
    "# Example: ab*c matches \"ac,\" \"abc,\" \"abbc,\" etc.\n",
    "# + (Plus): Matches 1 or more occurrences of the preceding character or group.\n",
    "\n",
    "# Example: ab+c matches \"abc,\" \"abbc,\" etc., but not \"ac.\"\n",
    "# ? (Question Mark): Matches 0 or 1 occurrence of the preceding character or group.\n",
    "\n",
    "# Example: ab?c matches \"ac\" and \"abc.\"\n",
    "# [] (Square Brackets): Defines a character class. Matches any one of the characters inside the brackets.\n",
    "\n",
    "# Example: [aeiou] matches any vowel.\n",
    "# | (Pipe): Acts like a logical OR. Matches either the pattern on the left or the pattern on the right.\n",
    "\n",
    "# Example: a|b matches either \"a\" or \"b.\"\n",
    "# () (Parentheses): Groups expressions together. Also used to capture matched groups.\n",
    "\n",
    "# Example: (ab)+ matches \"ab,\" \"abab,\" etc.\n",
    "# \\ (Backslash): Escapes a metacharacter, allowing you to match it as a literal character.\n",
    "\n",
    "# Example: a\\*b matches \"a*b#"
   ]
  },
  {
   "cell_type": "markdown",
   "id": "2c33708a",
   "metadata": {},
   "source": [
    "# Asterisk (*), Plus (+), and Question Mark (?)"
   ]
  },
  {
   "cell_type": "code",
   "execution_count": 57,
   "id": "9933a004",
   "metadata": {},
   "outputs": [
    {
     "name": "stdout",
     "output_type": "stream",
     "text": [
      "ac\n",
      "abc\n",
      "abbc\n",
      "abc\n",
      "abbc\n",
      "abc\n",
      "ac\n"
     ]
    },
    {
     "ename": "AttributeError",
     "evalue": "'NoneType' object has no attribute 'group'",
     "output_type": "error",
     "traceback": [
      "\u001b[1;31m---------------------------------------------------------------------------\u001b[0m",
      "\u001b[1;31mAttributeError\u001b[0m                            Traceback (most recent call last)",
      "Cell \u001b[1;32mIn[57], line 22\u001b[0m\n\u001b[0;32m     20\u001b[0m \u001b[38;5;28mprint\u001b[39m(re\u001b[38;5;241m.\u001b[39msearch(pattern_question, text2)\u001b[38;5;241m.\u001b[39mgroup())  \u001b[38;5;66;03m# Output: abc\u001b[39;00m\n\u001b[0;32m     21\u001b[0m \u001b[38;5;28mprint\u001b[39m(re\u001b[38;5;241m.\u001b[39msearch(pattern_question, text1)\u001b[38;5;241m.\u001b[39mgroup())  \u001b[38;5;66;03m# Output: ac\u001b[39;00m\n\u001b[1;32m---> 22\u001b[0m \u001b[38;5;28mprint\u001b[39m(re\u001b[38;5;241m.\u001b[39msearch(pattern_question, text4)\u001b[38;5;241m.\u001b[39mgroup())\n",
      "\u001b[1;31mAttributeError\u001b[0m: 'NoneType' object has no attribute 'group'"
     ]
    }
   ],
   "source": [
    "import re\n",
    "\n",
    "pattern_star = r\"ab*c\"\n",
    "pattern_plus = r\"ab+c\"\n",
    "pattern_question = r\"ab?c\"\n",
    "\n",
    "text1 = \"ac\"\n",
    "text2 = \"abc\"\n",
    "text3 = \"abbc\"\n",
    "text4 = \"ab\"\n",
    "\n",
    "print(re.search(pattern_star, text1).group())      # Output: ac\n",
    "print(re.search(pattern_star, text2).group())      # Output: abc\n",
    "print(re.search(pattern_star, text3).group())      # Output: abbc\n",
    "\n",
    "print(re.search(pattern_plus, text2).group())      # Output: abc\n",
    "print(re.search(pattern_plus, text3).group())      # Output: abbc\n",
    "# print(re.search(pattern_plus, text1).group())    # Error: NoneType has no attribute 'group'\n",
    "\n",
    "print(re.search(pattern_question, text2).group())  # Output: abc\n",
    "print(re.search(pattern_question, text1).group())  # Output: ac\n",
    "print(re.search(pattern_question, text4).group())  # Output: ab\n"
   ]
  },
  {
   "cell_type": "markdown",
   "id": "6e3a9444",
   "metadata": {},
   "source": [
    "# Pipe (|)"
   ]
  },
  {
   "cell_type": "code",
   "execution_count": 58,
   "id": "8bada924",
   "metadata": {},
   "outputs": [
    {
     "name": "stdout",
     "output_type": "stream",
     "text": [
      "a\n",
      "b\n"
     ]
    }
   ],
   "source": [
    "import re\n",
    "\n",
    "pattern = r\"a|b\"\n",
    "\n",
    "text1 = \"apple\"\n",
    "text2 = \"banana\"\n",
    "text3 = \"cherry\"\n",
    "\n",
    "print(re.search(pattern, text1).group())  # Output: a\n",
    "print(re.search(pattern, text2).group())  # Output: b\n",
    "# print(re.search(pattern, text3).group()) # Error: NoneType has no attribute 'group'\n"
   ]
  },
  {
   "cell_type": "markdown",
   "id": "f7bfc977",
   "metadata": {},
   "source": [
    "# Parentheses (())\n"
   ]
  },
  {
   "cell_type": "code",
   "execution_count": 59,
   "id": "78614ae3",
   "metadata": {},
   "outputs": [
    {
     "name": "stdout",
     "output_type": "stream",
     "text": [
      "ab\n",
      "abab\n"
     ]
    }
   ],
   "source": [
    "import re\n",
    "\n",
    "pattern = r\"(ab)+\"\n",
    "\n",
    "text1 = \"ab\"\n",
    "text2 = \"abab\"\n",
    "text3 = \"abc\"\n",
    "\n",
    "print(re.search(pattern, text1).group())  # Output: ab\n",
    "print(re.search(pattern, text2).group())  # Output: abab\n",
    "# print(re.search(pattern, text3).group()) # Error: NoneType has no attribute 'group'\n"
   ]
  },
  {
   "cell_type": "markdown",
   "id": "d146fb88",
   "metadata": {},
   "source": [
    "#  special sequence "
   ]
  },
  {
   "cell_type": "code",
   "execution_count": 61,
   "id": "b6e1a474",
   "metadata": {},
   "outputs": [],
   "source": [
    "# \\d: Matches any decimal digit (0-9).\n",
    "# \\D: Matches any non-digit character.\n",
    "# \\s: Matches any whitespace character (including space, tab, and newline).\n",
    "# \\S: Matches any non-whitespace character.\n",
    "# \\w: Matches any alphanumeric character (word character: letters, digits, and underscores).\n",
    "# \\W: Matches any non-alphanumeric character.\n",
    "# \\\\: Matches a literal backslash.    "
   ]
  },
  {
   "cell_type": "markdown",
   "id": "eae8bb56",
   "metadata": {},
   "source": [
    "# \\d"
   ]
  },
  {
   "cell_type": "code",
   "execution_count": 62,
   "id": "1c6735b4",
   "metadata": {},
   "outputs": [
    {
     "name": "stdout",
     "output_type": "stream",
     "text": [
      "123\n"
     ]
    }
   ],
   "source": [
    "#Matches any decimal digit (0-9).\n",
    "import re\n",
    "\n",
    "pattern = r\"\\d+\"\n",
    "text = \"123abc456\"\n",
    "\n",
    "match = re.search(pattern, text)\n",
    "print(match.group())  # Output: 123\n"
   ]
  },
  {
   "cell_type": "markdown",
   "id": "0e4edaf3",
   "metadata": {},
   "source": [
    "# \\D"
   ]
  },
  {
   "cell_type": "code",
   "execution_count": 63,
   "id": "24a72654",
   "metadata": {},
   "outputs": [
    {
     "name": "stdout",
     "output_type": "stream",
     "text": [
      "abc\n"
     ]
    }
   ],
   "source": [
    "#  Matches any non-digit character.\n",
    "\n",
    "import re\n",
    "\n",
    "pattern = r\"\\D+\"\n",
    "text = \"123abc456\"\n",
    "\n",
    "match = re.search(pattern, text)\n",
    "print(match.group())  # Output: abc\n"
   ]
  },
  {
   "cell_type": "markdown",
   "id": "ce4325e4",
   "metadata": {},
   "source": [
    "# \\s"
   ]
  },
  {
   "cell_type": "code",
   "execution_count": 64,
   "id": "b240f476",
   "metadata": {},
   "outputs": [
    {
     "name": "stdout",
     "output_type": "stream",
     "text": [
      "    \n"
     ]
    }
   ],
   "source": [
    "#  Matches any whitespace character (including space, tab, and newline).\n",
    "\n",
    "import re\n",
    "\n",
    "pattern = r\"\\s+\"\n",
    "text = \"hello    world\"\n",
    "\n",
    "match = re.search(pattern, text)\n",
    "print(match.group())  # Output: \"    \"\n"
   ]
  },
  {
   "cell_type": "markdown",
   "id": "83769506",
   "metadata": {},
   "source": [
    "# \\S"
   ]
  },
  {
   "cell_type": "code",
   "execution_count": 65,
   "id": "bf83601e",
   "metadata": {},
   "outputs": [
    {
     "name": "stdout",
     "output_type": "stream",
     "text": [
      "hello\n"
     ]
    }
   ],
   "source": [
    "#  Matches any non-whitespace character.\n",
    "\n",
    "import re\n",
    "\n",
    "pattern = r\"\\S+\"\n",
    "text = \"hello    world\"\n",
    "\n",
    "match = re.search(pattern, text)\n",
    "print(match.group())  # Output: \"hello\"\n"
   ]
  },
  {
   "cell_type": "markdown",
   "id": "bb56af2c",
   "metadata": {},
   "source": [
    "# \\w"
   ]
  },
  {
   "cell_type": "code",
   "execution_count": 66,
   "id": "49734832",
   "metadata": {},
   "outputs": [
    {
     "name": "stdout",
     "output_type": "stream",
     "text": [
      "hello_world123\n"
     ]
    }
   ],
   "source": [
    "# Matches any alphanumeric character (word character: letters, digits, and underscores).\n",
    "\n",
    "import re\n",
    "\n",
    "pattern = r\"\\w+\"\n",
    "text = \"hello_world123\"\n",
    "\n",
    "match = re.search(pattern, text)\n",
    "print(match.group())  # Output: hello_world123\n"
   ]
  },
  {
   "cell_type": "markdown",
   "id": "754cb1ad",
   "metadata": {},
   "source": [
    "# \\W"
   ]
  },
  {
   "cell_type": "code",
   "execution_count": 72,
   "id": "f771602d",
   "metadata": {},
   "outputs": [
    {
     "name": "stdout",
     "output_type": "stream",
     "text": [
      "No match found.\n"
     ]
    }
   ],
   "source": [
    "import re\n",
    "\n",
    "pattern = r\"\\W+\"\n",
    "text = \"hello_world123\"\n",
    "\n",
    "match = re.search(pattern, text)\n",
    "\n",
    "if match:\n",
    "    print(match.group())\n",
    "else:\n",
    "    print(\"No match found.\")\n"
   ]
  },
  {
   "cell_type": "markdown",
   "id": "799741e9",
   "metadata": {},
   "source": [
    "# \\\\"
   ]
  },
  {
   "cell_type": "code",
   "execution_count": 71,
   "id": "d03791cd",
   "metadata": {},
   "outputs": [
    {
     "name": "stdout",
     "output_type": "stream",
     "text": [
      "\\\n"
     ]
    }
   ],
   "source": [
    "# Matches a literal backslash. \\\\\n",
    "\n",
    "import re\n",
    "\n",
    "pattern = r\"\\\\\"\n",
    "text = \"A\\\\B\"\n",
    "\n",
    "match = re.search(pattern, text)\n",
    "print(match.group())  # Output: \\"
   ]
  },
  {
   "cell_type": "markdown",
   "id": "95aa97b1",
   "metadata": {},
   "source": [
    "# Quantifiers"
   ]
  },
  {
   "cell_type": "code",
   "execution_count": 73,
   "id": "243a2849",
   "metadata": {},
   "outputs": [],
   "source": [
    "# * (Asterisk): Matches 0 or more occurrences of the preceding character or group.\n",
    "\n",
    "# Example: ab*c matches \"ac,\" \"abc,\" \"abbc,\" etc.\n",
    "# + (Plus): Matches 1 or more occurrences of the preceding character or group.\n",
    "\n",
    "# Example: ab+c matches \"abc,\" \"abbc,\" etc., but not \"ac.\"\n",
    "# ? (Question Mark): Matches 0 or 1 occurrence of the preceding character or group.\n",
    "\n",
    "# Example: ab?c matches \"ac\" and \"abc.\"\n",
    "# {n}: Matches exactly n occurrences of the preceding character or group.\n",
    "\n",
    "# Example: a{3} matches \"aaa.\"\n",
    "# {n,}: Matches n or more occurrences of the preceding character or group.\n",
    "\n",
    "# Example: a{2,} matches \"aa,\" \"aaa,\" \"aaaa,\" etc.\n",
    "# {n,m}: Matches between n and m occurrences of the preceding character or group.\n",
    "\n",
    "# Example: a{2,4} matches \"aa,\" \"aaa,\" and \"aaaa.\""
   ]
  }
 ],
 "metadata": {
  "kernelspec": {
   "display_name": "Python 3 (ipykernel)",
   "language": "python",
   "name": "python3"
  },
  "language_info": {
   "codemirror_mode": {
    "name": "ipython",
    "version": 3
   },
   "file_extension": ".py",
   "mimetype": "text/x-python",
   "name": "python",
   "nbconvert_exporter": "python",
   "pygments_lexer": "ipython3",
   "version": "3.11.3"
  }
 },
 "nbformat": 4,
 "nbformat_minor": 5
}
