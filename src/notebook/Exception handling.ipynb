{
 "cells": [
  {
   "cell_type": "markdown",
   "id": "5998348e",
   "metadata": {},
   "source": [
    "# Types of error"
   ]
  },
  {
   "cell_type": "markdown",
   "id": "6f5c6d47",
   "metadata": {},
   "source": [
    "- Compile time errors\n",
    "- Run time errors\n"
   ]
  },
  {
   "cell_type": "markdown",
   "id": "6368af81",
   "metadata": {},
   "source": [
    "# Compile time errors"
   ]
  },
  {
   "cell_type": "markdown",
   "id": "a72cf443",
   "metadata": {},
   "source": [
    "- The errors that are caught by the compiler are compile time errors\n",
    "\n",
    "- Example\n",
    "- Syntex error\n",
    "- Indentation errors"
   ]
  },
  {
   "cell_type": "markdown",
   "id": "fd4bdc6e",
   "metadata": {},
   "source": [
    "# Run time errors\n"
   ]
  },
  {
   "cell_type": "markdown",
   "id": "ba4bcbcd",
   "metadata": {},
   "source": [
    "- Errors that caught by the interptrtor as run time error\n",
    "\n",
    "- Example\n",
    "- Type error\n",
    "- Value error\n",
    "- Index error\n",
    "- Devide by zero error"
   ]
  },
  {
   "cell_type": "markdown",
   "id": "71f0c620",
   "metadata": {},
   "source": [
    "# Exception"
   ]
  },
  {
   "cell_type": "markdown",
   "id": "8a89028e",
   "metadata": {},
   "source": [
    "- A run time error is known as exception\n",
    "- When an excepttion occurs then it disrupts the normal flow"
   ]
  },
  {
   "cell_type": "markdown",
   "id": "bba82597",
   "metadata": {},
   "source": [
    "# Exception handling"
   ]
  },
  {
   "cell_type": "markdown",
   "id": "ea0304a6",
   "metadata": {},
   "source": [
    "- try......except\n",
    "- try...... except....else\n",
    "- raise\n",
    "- finally"
   ]
  },
  {
   "cell_type": "markdown",
   "id": "227cc1bc",
   "metadata": {},
   "source": [
    "# try......except statement\n"
   ]
  },
  {
   "cell_type": "markdown",
   "id": "c46ca7ad",
   "metadata": {},
   "source": [
    "- try:\n",
    "    code_1\n",
    "    code_2\n",
    "- except:\n",
    "    code_3\n",
    "    code_4"
   ]
  },
  {
   "cell_type": "code",
   "execution_count": 3,
   "id": "36c7f662",
   "metadata": {},
   "outputs": [
    {
     "name": "stdout",
     "output_type": "stream",
     "text": [
      " Division is not possible\n"
     ]
    }
   ],
   "source": [
    "a=5\n",
    "b=0\n",
    "try:\n",
    "    c=a/b\n",
    "except:\n",
    "    print(\" Division is not possible\")"
   ]
  },
  {
   "cell_type": "code",
   "execution_count": 6,
   "id": "93d8c6c8",
   "metadata": {},
   "outputs": [
    {
     "name": "stdout",
     "output_type": "stream",
     "text": [
      "['ArithmeticError', 'AssertionError', 'AttributeError', 'BaseException', 'BaseExceptionGroup', 'BlockingIOError', 'BrokenPipeError', 'BufferError', 'BytesWarning', 'ChildProcessError', 'ConnectionAbortedError', 'ConnectionError', 'ConnectionRefusedError', 'ConnectionResetError', 'DeprecationWarning', 'EOFError', 'Ellipsis', 'EncodingWarning', 'EnvironmentError', 'Exception', 'ExceptionGroup', 'False', 'FileExistsError', 'FileNotFoundError', 'FloatingPointError', 'FutureWarning', 'GeneratorExit', 'IOError', 'ImportError', 'ImportWarning', 'IndentationError', 'IndexError', 'InterruptedError', 'IsADirectoryError', 'KeyError', 'KeyboardInterrupt', 'LookupError', 'MemoryError', 'ModuleNotFoundError', 'NameError', 'None', 'NotADirectoryError', 'NotImplemented', 'NotImplementedError', 'OSError', 'OverflowError', 'PendingDeprecationWarning', 'PermissionError', 'ProcessLookupError', 'RecursionError', 'ReferenceError', 'ResourceWarning', 'RuntimeError', 'RuntimeWarning', 'StopAsyncIteration', 'StopIteration', 'SyntaxError', 'SyntaxWarning', 'SystemError', 'SystemExit', 'TabError', 'TimeoutError', 'True', 'TypeError', 'UnboundLocalError', 'UnicodeDecodeError', 'UnicodeEncodeError', 'UnicodeError', 'UnicodeTranslateError', 'UnicodeWarning', 'UserWarning', 'ValueError', 'Warning', 'WindowsError', 'ZeroDivisionError', '__IPYTHON__', '__build_class__', '__debug__', '__doc__', '__import__', '__loader__', '__name__', '__package__', '__spec__', 'abs', 'aiter', 'all', 'anext', 'any', 'ascii', 'bin', 'bool', 'breakpoint', 'bytearray', 'bytes', 'callable', 'chr', 'classmethod', 'compile', 'complex', 'copyright', 'credits', 'delattr', 'dict', 'dir', 'display', 'divmod', 'enumerate', 'eval', 'exec', 'execfile', 'filter', 'float', 'format', 'frozenset', 'get_ipython', 'getattr', 'globals', 'hasattr', 'hash', 'help', 'hex', 'id', 'input', 'int', 'isinstance', 'issubclass', 'iter', 'len', 'license', 'list', 'locals', 'map', 'max', 'memoryview', 'min', 'next', 'object', 'oct', 'open', 'ord', 'pow', 'print', 'property', 'range', 'repr', 'reversed', 'round', 'runfile', 'set', 'setattr', 'slice', 'sorted', 'staticmethod', 'str', 'sum', 'super', 'tuple', 'type', 'vars', 'zip']\n"
     ]
    }
   ],
   "source": [
    "print(dir(__builtins__))"
   ]
  },
  {
   "cell_type": "code",
   "execution_count": 7,
   "id": "691b546e",
   "metadata": {},
   "outputs": [
    {
     "name": "stdout",
     "output_type": "stream",
     "text": [
      "division by zero\n"
     ]
    }
   ],
   "source": [
    "a=5\n",
    "b=0\n",
    "try:\n",
    "    c=a/b\n",
    "except Exception as x:\n",
    "    print(x)"
   ]
  },
  {
   "cell_type": "code",
   "execution_count": 2,
   "id": "9b0f1afe",
   "metadata": {},
   "outputs": [
    {
     "name": "stdout",
     "output_type": "stream",
     "text": [
      "division by zero\n"
     ]
    }
   ],
   "source": [
    "a=5\n",
    "b=0\n",
    "try:\n",
    "    c=a/b\n",
    "except ZeroDivisionError as x:\n",
    "    print(x)"
   ]
  },
  {
   "cell_type": "markdown",
   "id": "4f99b6cf",
   "metadata": {},
   "source": [
    "# try...... except....else\n"
   ]
  },
  {
   "cell_type": "code",
   "execution_count": 5,
   "id": "a9e94e93",
   "metadata": {},
   "outputs": [
    {
     "name": "stdout",
     "output_type": "stream",
     "text": [
      "5.0\n",
      "Hello\n"
     ]
    }
   ],
   "source": [
    "a=5\n",
    "b=1\n",
    "try:\n",
    "    c=a/b\n",
    "    print(c)\n",
    "except ZeroDivisionError as x:\n",
    "    print(x)\n",
    "else:\n",
    "    print(\"Hello\")"
   ]
  },
  {
   "cell_type": "markdown",
   "id": "f9fb0938",
   "metadata": {},
   "source": [
    "# raise"
   ]
  },
  {
   "cell_type": "code",
   "execution_count": 12,
   "id": "cb17ca61",
   "metadata": {},
   "outputs": [
    {
     "name": "stdout",
     "output_type": "stream",
     "text": [
      "Caught an instance of MyCustomError: This is a custom error message\n"
     ]
    }
   ],
   "source": [
    "class MyCustomError(Exception):\n",
    "    pass\n",
    "\n",
    "try:\n",
    "    a = 5\n",
    "    if a == 5:  # Added colon here\n",
    "        raise MyCustomError(\"This is a custom error message\")\n",
    "except MyCustomError as e:\n",
    "    print(f\"Caught an instance of MyCustomError: {e}\")\n",
    "except:\n",
    "    print(\"An unexpected error occurred\")"
   ]
  },
  {
   "cell_type": "code",
   "execution_count": 15,
   "id": "2e8808e1",
   "metadata": {},
   "outputs": [
    {
     "name": "stdout",
     "output_type": "stream",
     "text": [
      "Caught an exception: division by zero\n"
     ]
    }
   ],
   "source": [
    "def called_function():\n",
    "    try:\n",
    "        # Code that may raise an exception\n",
    "        x = 5 / 0  # This will raise a ZeroDivisionError\n",
    "    except ZeroDivisionError as e:\n",
    "        # Raise the exception to the calling function\n",
    "        raise e\n",
    "\n",
    "def calling_function():\n",
    "    try:\n",
    "        called_function()\n",
    "    except ZeroDivisionError as e:\n",
    "        # Handle the exception raised by the called function\n",
    "        print(f\"Caught an exception: {e}\")\n",
    "\n",
    "# Call the calling function\n",
    "calling_function()\n",
    "\n"
   ]
  },
  {
   "cell_type": "code",
   "execution_count": 16,
   "id": "b6c791fe",
   "metadata": {},
   "outputs": [
    {
     "ename": "IndentationError",
     "evalue": "expected an indented block after 'try' statement on line 1 (3524341579.py, line 4)",
     "output_type": "error",
     "traceback": [
      "\u001b[1;36m  Cell \u001b[1;32mIn[16], line 4\u001b[1;36m\u001b[0m\n\u001b[1;33m    except SomeException:\u001b[0m\n\u001b[1;37m    ^\u001b[0m\n\u001b[1;31mIndentationError\u001b[0m\u001b[1;31m:\u001b[0m expected an indented block after 'try' statement on line 1\n"
     ]
    }
   ],
   "source": [
    "try:\n",
    "    # Code that may raise an exception\n",
    "    # ...\n",
    "except SomeException:\n",
    "    # Code to handle the exception\n",
    "    # ...\n",
    "finally:\n",
    "    # Code that will be executed no matter what\n",
    "    # This block is often used for cleanup operations\n",
    "    # ..."
   ]
  }
 ],
 "metadata": {
  "kernelspec": {
   "display_name": "Python 3 (ipykernel)",
   "language": "python",
   "name": "python3"
  },
  "language_info": {
   "codemirror_mode": {
    "name": "ipython",
    "version": 3
   },
   "file_extension": ".py",
   "mimetype": "text/x-python",
   "name": "python",
   "nbconvert_exporter": "python",
   "pygments_lexer": "ipython3",
   "version": "3.11.3"
  }
 },
 "nbformat": 4,
 "nbformat_minor": 5
}
