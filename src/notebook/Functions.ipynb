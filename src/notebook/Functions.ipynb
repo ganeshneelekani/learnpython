{
 "cells": [
  {
   "cell_type": "markdown",
   "id": "7356124b",
   "metadata": {},
   "source": [
    "# Functions"
   ]
  },
  {
   "cell_type": "code",
   "execution_count": 1,
   "id": "358baff7",
   "metadata": {},
   "outputs": [
    {
     "name": "stdout",
     "output_type": "stream",
     "text": [
      "Calling add function\n"
     ]
    }
   ],
   "source": [
    "def add():\n",
    "    print(\"Calling add function\")\n",
    "    \n",
    "add()    "
   ]
  },
  {
   "cell_type": "markdown",
   "id": "72916a42",
   "metadata": {},
   "source": [
    "# Component of a function"
   ]
  },
  {
   "cell_type": "markdown",
   "id": "00f68ebd",
   "metadata": {},
   "source": [
    "- Function defination\n",
    "- Function call"
   ]
  },
  {
   "cell_type": "markdown",
   "id": "d69784d3",
   "metadata": {},
   "source": [
    "# Types of Functions"
   ]
  },
  {
   "cell_type": "markdown",
   "id": "d755e210",
   "metadata": {},
   "source": [
    "- Inbuilt functions\n",
    "- user defined functions"
   ]
  },
  {
   "cell_type": "code",
   "execution_count": 1,
   "id": "f2f017e6",
   "metadata": {},
   "outputs": [
    {
     "name": "stdout",
     "output_type": "stream",
     "text": [
      "11\n"
     ]
    }
   ],
   "source": [
    "def add(a,b):\n",
    "    c= a + b\n",
    "    print(c)\n",
    "    \n",
    "add(5,6)"
   ]
  },
  {
   "cell_type": "code",
   "execution_count": 2,
   "id": "d4523553",
   "metadata": {},
   "outputs": [
    {
     "name": "stdout",
     "output_type": "stream",
     "text": [
      "60\n"
     ]
    }
   ],
   "source": [
    "lst = [10,20,30,40,50]\n",
    "add(lst[0],lst[-1])"
   ]
  },
  {
   "cell_type": "code",
   "execution_count": 5,
   "id": "2c3d8451",
   "metadata": {},
   "outputs": [
    {
     "data": {
      "text/plain": [
       "'3.11.3 | packaged by Anaconda, Inc. | (main, Apr 19 2023, 23:46:34) [MSC v.1916 64 bit (AMD64)]'"
      ]
     },
     "execution_count": 5,
     "metadata": {},
     "output_type": "execute_result"
    }
   ],
   "source": [
    "import sys\n",
    "sys.version"
   ]
  },
  {
   "cell_type": "markdown",
   "id": "28dbc655",
   "metadata": {},
   "source": [
    "# Global variable and local variable\n"
   ]
  },
  {
   "cell_type": "code",
   "execution_count": 8,
   "id": "3fbdb781",
   "metadata": {},
   "outputs": [
    {
     "name": "stdout",
     "output_type": "stream",
     "text": [
      "5\n",
      "100\n"
     ]
    }
   ],
   "source": [
    "a= 5\n",
    "\n",
    "def test():\n",
    "    print(a)\n",
    "    \n",
    "def test1():\n",
    "    a=100\n",
    "    return a\n",
    "    \n",
    "test()    \n",
    "k=test1()\n",
    "print(k)"
   ]
  },
  {
   "cell_type": "markdown",
   "id": "af5d2b7e",
   "metadata": {},
   "source": [
    "# Types of arguments\n"
   ]
  },
  {
   "cell_type": "markdown",
   "id": "f3f7629b",
   "metadata": {},
   "source": [
    "# 1 Positional argument"
   ]
  },
  {
   "cell_type": "code",
   "execution_count": 9,
   "id": "60ecc0de",
   "metadata": {},
   "outputs": [
    {
     "name": "stdout",
     "output_type": "stream",
     "text": [
      "10\n",
      "20\n",
      "30\n"
     ]
    }
   ],
   "source": [
    "def test(a,b,c):\n",
    "    print(a)\n",
    "    print(b)\n",
    "    print(c)\n",
    "    \n",
    "test(10,20,30)    "
   ]
  },
  {
   "cell_type": "code",
   "execution_count": 10,
   "id": "2ebc2942",
   "metadata": {},
   "outputs": [
    {
     "name": "stdout",
     "output_type": "stream",
     "text": [
      "80\n",
      "45\n",
      "90\n"
     ]
    }
   ],
   "source": [
    "a=90\n",
    "b=80\n",
    "c=45\n",
    "\n",
    "test(b,c,a)"
   ]
  },
  {
   "cell_type": "markdown",
   "id": "a36f6951",
   "metadata": {},
   "source": [
    "# Default arguments"
   ]
  },
  {
   "cell_type": "markdown",
   "id": "b20d22a1",
   "metadata": {},
   "source": [
    "- When we assign some value to paramater inside the () of the function defination then it is known as default argument\n",
    "- If we do not pass any value for the default argumnet then it iakes the default value\n",
    "- If we pass some value to the defaukt argument then it takkes the value passed to it\n",
    "- The default arguments are placeed after the positional arguments"
   ]
  },
  {
   "cell_type": "code",
   "execution_count": 12,
   "id": "79b39fcf",
   "metadata": {},
   "outputs": [],
   "source": [
    "def fn_name(a,b,c=100):\n",
    "    code\n",
    "    code"
   ]
  },
  {
   "cell_type": "code",
   "execution_count": 17,
   "id": "e0903484",
   "metadata": {},
   "outputs": [
    {
     "name": "stdout",
     "output_type": "stream",
     "text": [
      "12\n",
      "107\n",
      "153\n"
     ]
    }
   ],
   "source": [
    "def test(a,b, c=100):\n",
    "    return a+b+c\n",
    "\n",
    "print(test(3,4,5))\n",
    "print(test(3,4))\n",
    "\n",
    "# def test(a,b=5, c):  Gives an error\n",
    "#     return a+b+c\n",
    "\n",
    "\n",
    "def test(a,b=50, c=100):\n",
    "    return a+b+c\n",
    "\n",
    "print(test(3))"
   ]
  },
  {
   "cell_type": "markdown",
   "id": "c754ddd8",
   "metadata": {},
   "source": [
    "# Keyword argument"
   ]
  },
  {
   "cell_type": "code",
   "execution_count": 23,
   "id": "8ba9ff0c",
   "metadata": {},
   "outputs": [
    {
     "name": "stdout",
     "output_type": "stream",
     "text": [
      "Alice is 30 years old and lives in USA.\n",
      "Alice is 30 years old and lives in USA.\n",
      "Alice is 30 years old and lives in USA.\n",
      "Alice is 30 years old and lives in USA.\n",
      "Alice is 30 years old and lives in India.\n"
     ]
    }
   ],
   "source": [
    "def describe_person(name, age, country):\n",
    "    print(f\"{name} is {age} years old and lives in {country}.\")\n",
    "\n",
    "describe_person(name=\"Alice\", age=30, country=\"USA\")\n",
    "describe_person(name=\"Alice\", country=\"USA\", age=30 )\n",
    "\n",
    "\n",
    "def describe_person(name, age, country=\"USA\"):\n",
    "    print(f\"{name} is {age} years old and lives in {country}.\")\n",
    "\n",
    "describe_person(name=\"Alice\", age=30)\n",
    "describe_person(name=\"Alice\", country=\"USA\", age=30 )\n",
    "describe_person(name=\"Alice\", age=30, country=\"India\")"
   ]
  },
  {
   "cell_type": "markdown",
   "id": "78a4663c",
   "metadata": {},
   "source": [
    "# Variable length arguments"
   ]
  },
  {
   "cell_type": "code",
   "execution_count": 27,
   "id": "bcb0ed93",
   "metadata": {},
   "outputs": [
    {
     "name": "stdout",
     "output_type": "stream",
     "text": [
      "abcd\n"
     ]
    }
   ],
   "source": [
    "def names(*a):\n",
    "    c = \"\"\n",
    "    for i in a:\n",
    "        c+=i\n",
    "    return c   \n",
    "\n",
    "print(names('a','b','c','d'))"
   ]
  },
  {
   "cell_type": "code",
   "execution_count": 29,
   "id": "5538793d",
   "metadata": {},
   "outputs": [
    {
     "name": "stdout",
     "output_type": "stream",
     "text": [
      "1\n",
      "3\n",
      "(4, 5, 6, 7, 8)\n"
     ]
    }
   ],
   "source": [
    "def test(a,b,*c):\n",
    "    print(a)\n",
    "    print(b)\n",
    "    print(c)\n",
    "    \n",
    "test(1,3,4,5,6,7,8)    "
   ]
  },
  {
   "cell_type": "markdown",
   "id": "0e633aa6",
   "metadata": {},
   "source": [
    "# Keyword variable length arguments"
   ]
  },
  {
   "cell_type": "markdown",
   "id": "e783531c",
   "metadata": {},
   "source": [
    "- When we do not know how many keyword arguments are then we use keword variable length arguments\n",
    "- It stores the value om the form of a dictionary"
   ]
  },
  {
   "cell_type": "code",
   "execution_count": 34,
   "id": "29b309f7",
   "metadata": {},
   "outputs": [
    {
     "name": "stdout",
     "output_type": "stream",
     "text": [
      "{'a': 10, 'b': 20, 'c': 30} <class 'dict'>\n",
      "1000\n",
      "{'a': 10, 'd': 20, 'c': 30} <class 'dict'>\n"
     ]
    }
   ],
   "source": [
    "def test(**a):\n",
    "    print(a, type(a))\n",
    "    \n",
    "test(a=10,b=20,c=30)    \n",
    "\n",
    "def test(b,**a):\n",
    "    print(b)\n",
    "    print(a, type(a))\n",
    "    \n",
    "test(1000,a=10,d=20,c=30) "
   ]
  },
  {
   "cell_type": "code",
   "execution_count": 35,
   "id": "1223d5db",
   "metadata": {},
   "outputs": [
    {
     "data": {
      "text/plain": [
       "dict_keys(['a', 'b', 'c'])"
      ]
     },
     "execution_count": 35,
     "metadata": {},
     "output_type": "execute_result"
    }
   ],
   "source": [
    "def test(**a):\n",
    "    return a.keys()\n",
    "\n",
    "test(a=10,b=20,c=30) "
   ]
  },
  {
   "cell_type": "markdown",
   "id": "4ba2248b",
   "metadata": {},
   "source": [
    "# Recursive function"
   ]
  },
  {
   "cell_type": "code",
   "execution_count": 36,
   "id": "cc809bc4",
   "metadata": {},
   "outputs": [],
   "source": [
    "def test():\n",
    "    test()"
   ]
  },
  {
   "cell_type": "markdown",
   "id": "f11400f4",
   "metadata": {},
   "source": [
    "# Anonymous function"
   ]
  },
  {
   "cell_type": "markdown",
   "id": "f37ab888",
   "metadata": {},
   "source": [
    "- lambda keyword is used to define anaonymous function"
   ]
  },
  {
   "cell_type": "code",
   "execution_count": 38,
   "id": "640172fe",
   "metadata": {},
   "outputs": [
    {
     "name": "stdout",
     "output_type": "stream",
     "text": [
      "11\n"
     ]
    }
   ],
   "source": [
    "# (lambda arguments:operation)\n",
    "\n",
    "a=(lambda a,b: a+b) (5,6)\n",
    "print(a)"
   ]
  },
  {
   "cell_type": "code",
   "execution_count": 39,
   "id": "c0688c35",
   "metadata": {},
   "outputs": [
    {
     "data": {
      "text/plain": [
       "9"
      ]
     },
     "execution_count": 39,
     "metadata": {},
     "output_type": "execute_result"
    }
   ],
   "source": [
    "add = lambda x,y:x+y\n",
    "\n",
    "add(4,5)"
   ]
  },
  {
   "cell_type": "code",
   "execution_count": 40,
   "id": "617c87bf",
   "metadata": {},
   "outputs": [],
   "source": [
    "sub = lambda x,y:x-y"
   ]
  },
  {
   "cell_type": "code",
   "execution_count": 41,
   "id": "03d630c6",
   "metadata": {},
   "outputs": [
    {
     "data": {
      "text/plain": [
       "'odd'"
      ]
     },
     "execution_count": 41,
     "metadata": {},
     "output_type": "execute_result"
    }
   ],
   "source": [
    "(lambda x:'even' if x%2==0 else 'odd') (5)"
   ]
  },
  {
   "cell_type": "code",
   "execution_count": 44,
   "id": "4352433e",
   "metadata": {},
   "outputs": [
    {
     "data": {
      "text/html": [
       "<div>\n",
       "<style scoped>\n",
       "    .dataframe tbody tr th:only-of-type {\n",
       "        vertical-align: middle;\n",
       "    }\n",
       "\n",
       "    .dataframe tbody tr th {\n",
       "        vertical-align: top;\n",
       "    }\n",
       "\n",
       "    .dataframe thead th {\n",
       "        text-align: right;\n",
       "    }\n",
       "</style>\n",
       "<table border=\"1\" class=\"dataframe\">\n",
       "  <thead>\n",
       "    <tr style=\"text-align: right;\">\n",
       "      <th></th>\n",
       "      <th>survived</th>\n",
       "      <th>pclass</th>\n",
       "      <th>sex</th>\n",
       "      <th>age</th>\n",
       "      <th>sibsp</th>\n",
       "      <th>parch</th>\n",
       "      <th>fare</th>\n",
       "      <th>embarked</th>\n",
       "      <th>class</th>\n",
       "      <th>who</th>\n",
       "      <th>adult_male</th>\n",
       "      <th>deck</th>\n",
       "      <th>embark_town</th>\n",
       "      <th>alive</th>\n",
       "      <th>alone</th>\n",
       "    </tr>\n",
       "  </thead>\n",
       "  <tbody>\n",
       "    <tr>\n",
       "      <th>0</th>\n",
       "      <td>0</td>\n",
       "      <td>3</td>\n",
       "      <td>male</td>\n",
       "      <td>22.0</td>\n",
       "      <td>1</td>\n",
       "      <td>0</td>\n",
       "      <td>7.2500</td>\n",
       "      <td>S</td>\n",
       "      <td>Third</td>\n",
       "      <td>man</td>\n",
       "      <td>True</td>\n",
       "      <td>NaN</td>\n",
       "      <td>Southampton</td>\n",
       "      <td>no</td>\n",
       "      <td>False</td>\n",
       "    </tr>\n",
       "    <tr>\n",
       "      <th>1</th>\n",
       "      <td>1</td>\n",
       "      <td>1</td>\n",
       "      <td>female</td>\n",
       "      <td>38.0</td>\n",
       "      <td>1</td>\n",
       "      <td>0</td>\n",
       "      <td>71.2833</td>\n",
       "      <td>C</td>\n",
       "      <td>First</td>\n",
       "      <td>woman</td>\n",
       "      <td>False</td>\n",
       "      <td>C</td>\n",
       "      <td>Cherbourg</td>\n",
       "      <td>yes</td>\n",
       "      <td>False</td>\n",
       "    </tr>\n",
       "    <tr>\n",
       "      <th>2</th>\n",
       "      <td>1</td>\n",
       "      <td>3</td>\n",
       "      <td>female</td>\n",
       "      <td>26.0</td>\n",
       "      <td>0</td>\n",
       "      <td>0</td>\n",
       "      <td>7.9250</td>\n",
       "      <td>S</td>\n",
       "      <td>Third</td>\n",
       "      <td>woman</td>\n",
       "      <td>False</td>\n",
       "      <td>NaN</td>\n",
       "      <td>Southampton</td>\n",
       "      <td>yes</td>\n",
       "      <td>True</td>\n",
       "    </tr>\n",
       "    <tr>\n",
       "      <th>3</th>\n",
       "      <td>1</td>\n",
       "      <td>1</td>\n",
       "      <td>female</td>\n",
       "      <td>35.0</td>\n",
       "      <td>1</td>\n",
       "      <td>0</td>\n",
       "      <td>53.1000</td>\n",
       "      <td>S</td>\n",
       "      <td>First</td>\n",
       "      <td>woman</td>\n",
       "      <td>False</td>\n",
       "      <td>C</td>\n",
       "      <td>Southampton</td>\n",
       "      <td>yes</td>\n",
       "      <td>False</td>\n",
       "    </tr>\n",
       "    <tr>\n",
       "      <th>4</th>\n",
       "      <td>0</td>\n",
       "      <td>3</td>\n",
       "      <td>male</td>\n",
       "      <td>35.0</td>\n",
       "      <td>0</td>\n",
       "      <td>0</td>\n",
       "      <td>8.0500</td>\n",
       "      <td>S</td>\n",
       "      <td>Third</td>\n",
       "      <td>man</td>\n",
       "      <td>True</td>\n",
       "      <td>NaN</td>\n",
       "      <td>Southampton</td>\n",
       "      <td>no</td>\n",
       "      <td>True</td>\n",
       "    </tr>\n",
       "    <tr>\n",
       "      <th>...</th>\n",
       "      <td>...</td>\n",
       "      <td>...</td>\n",
       "      <td>...</td>\n",
       "      <td>...</td>\n",
       "      <td>...</td>\n",
       "      <td>...</td>\n",
       "      <td>...</td>\n",
       "      <td>...</td>\n",
       "      <td>...</td>\n",
       "      <td>...</td>\n",
       "      <td>...</td>\n",
       "      <td>...</td>\n",
       "      <td>...</td>\n",
       "      <td>...</td>\n",
       "      <td>...</td>\n",
       "    </tr>\n",
       "    <tr>\n",
       "      <th>886</th>\n",
       "      <td>0</td>\n",
       "      <td>2</td>\n",
       "      <td>male</td>\n",
       "      <td>27.0</td>\n",
       "      <td>0</td>\n",
       "      <td>0</td>\n",
       "      <td>13.0000</td>\n",
       "      <td>S</td>\n",
       "      <td>Second</td>\n",
       "      <td>man</td>\n",
       "      <td>True</td>\n",
       "      <td>NaN</td>\n",
       "      <td>Southampton</td>\n",
       "      <td>no</td>\n",
       "      <td>True</td>\n",
       "    </tr>\n",
       "    <tr>\n",
       "      <th>887</th>\n",
       "      <td>1</td>\n",
       "      <td>1</td>\n",
       "      <td>female</td>\n",
       "      <td>19.0</td>\n",
       "      <td>0</td>\n",
       "      <td>0</td>\n",
       "      <td>30.0000</td>\n",
       "      <td>S</td>\n",
       "      <td>First</td>\n",
       "      <td>woman</td>\n",
       "      <td>False</td>\n",
       "      <td>B</td>\n",
       "      <td>Southampton</td>\n",
       "      <td>yes</td>\n",
       "      <td>True</td>\n",
       "    </tr>\n",
       "    <tr>\n",
       "      <th>888</th>\n",
       "      <td>0</td>\n",
       "      <td>3</td>\n",
       "      <td>female</td>\n",
       "      <td>NaN</td>\n",
       "      <td>1</td>\n",
       "      <td>2</td>\n",
       "      <td>23.4500</td>\n",
       "      <td>S</td>\n",
       "      <td>Third</td>\n",
       "      <td>woman</td>\n",
       "      <td>False</td>\n",
       "      <td>NaN</td>\n",
       "      <td>Southampton</td>\n",
       "      <td>no</td>\n",
       "      <td>False</td>\n",
       "    </tr>\n",
       "    <tr>\n",
       "      <th>889</th>\n",
       "      <td>1</td>\n",
       "      <td>1</td>\n",
       "      <td>male</td>\n",
       "      <td>26.0</td>\n",
       "      <td>0</td>\n",
       "      <td>0</td>\n",
       "      <td>30.0000</td>\n",
       "      <td>C</td>\n",
       "      <td>First</td>\n",
       "      <td>man</td>\n",
       "      <td>True</td>\n",
       "      <td>C</td>\n",
       "      <td>Cherbourg</td>\n",
       "      <td>yes</td>\n",
       "      <td>True</td>\n",
       "    </tr>\n",
       "    <tr>\n",
       "      <th>890</th>\n",
       "      <td>0</td>\n",
       "      <td>3</td>\n",
       "      <td>male</td>\n",
       "      <td>32.0</td>\n",
       "      <td>0</td>\n",
       "      <td>0</td>\n",
       "      <td>7.7500</td>\n",
       "      <td>Q</td>\n",
       "      <td>Third</td>\n",
       "      <td>man</td>\n",
       "      <td>True</td>\n",
       "      <td>NaN</td>\n",
       "      <td>Queenstown</td>\n",
       "      <td>no</td>\n",
       "      <td>True</td>\n",
       "    </tr>\n",
       "  </tbody>\n",
       "</table>\n",
       "<p>891 rows × 15 columns</p>\n",
       "</div>"
      ],
      "text/plain": [
       "     survived  pclass     sex   age  sibsp  parch     fare embarked   class  \\\n",
       "0           0       3    male  22.0      1      0   7.2500        S   Third   \n",
       "1           1       1  female  38.0      1      0  71.2833        C   First   \n",
       "2           1       3  female  26.0      0      0   7.9250        S   Third   \n",
       "3           1       1  female  35.0      1      0  53.1000        S   First   \n",
       "4           0       3    male  35.0      0      0   8.0500        S   Third   \n",
       "..        ...     ...     ...   ...    ...    ...      ...      ...     ...   \n",
       "886         0       2    male  27.0      0      0  13.0000        S  Second   \n",
       "887         1       1  female  19.0      0      0  30.0000        S   First   \n",
       "888         0       3  female   NaN      1      2  23.4500        S   Third   \n",
       "889         1       1    male  26.0      0      0  30.0000        C   First   \n",
       "890         0       3    male  32.0      0      0   7.7500        Q   Third   \n",
       "\n",
       "       who  adult_male deck  embark_town alive  alone  \n",
       "0      man        True  NaN  Southampton    no  False  \n",
       "1    woman       False    C    Cherbourg   yes  False  \n",
       "2    woman       False  NaN  Southampton   yes   True  \n",
       "3    woman       False    C  Southampton   yes  False  \n",
       "4      man        True  NaN  Southampton    no   True  \n",
       "..     ...         ...  ...          ...   ...    ...  \n",
       "886    man        True  NaN  Southampton    no   True  \n",
       "887  woman       False    B  Southampton   yes   True  \n",
       "888  woman       False  NaN  Southampton    no  False  \n",
       "889    man        True    C    Cherbourg   yes   True  \n",
       "890    man        True  NaN   Queenstown    no   True  \n",
       "\n",
       "[891 rows x 15 columns]"
      ]
     },
     "execution_count": 44,
     "metadata": {},
     "output_type": "execute_result"
    }
   ],
   "source": [
    "import seaborn as sns\n",
    "\n",
    "df=sns.load_dataset('titanic')\n",
    "df"
   ]
  },
  {
   "cell_type": "code",
   "execution_count": 47,
   "id": "fcdaf5af",
   "metadata": {},
   "outputs": [],
   "source": [
    "df['Who_New']=df.who.apply(lambda x:1 if x=='man' else 0)"
   ]
  },
  {
   "cell_type": "code",
   "execution_count": 48,
   "id": "dcd62b00",
   "metadata": {},
   "outputs": [
    {
     "data": {
      "text/html": [
       "<div>\n",
       "<style scoped>\n",
       "    .dataframe tbody tr th:only-of-type {\n",
       "        vertical-align: middle;\n",
       "    }\n",
       "\n",
       "    .dataframe tbody tr th {\n",
       "        vertical-align: top;\n",
       "    }\n",
       "\n",
       "    .dataframe thead th {\n",
       "        text-align: right;\n",
       "    }\n",
       "</style>\n",
       "<table border=\"1\" class=\"dataframe\">\n",
       "  <thead>\n",
       "    <tr style=\"text-align: right;\">\n",
       "      <th></th>\n",
       "      <th>who</th>\n",
       "      <th>Who_New</th>\n",
       "    </tr>\n",
       "  </thead>\n",
       "  <tbody>\n",
       "    <tr>\n",
       "      <th>0</th>\n",
       "      <td>man</td>\n",
       "      <td>1</td>\n",
       "    </tr>\n",
       "    <tr>\n",
       "      <th>1</th>\n",
       "      <td>woman</td>\n",
       "      <td>0</td>\n",
       "    </tr>\n",
       "    <tr>\n",
       "      <th>2</th>\n",
       "      <td>woman</td>\n",
       "      <td>0</td>\n",
       "    </tr>\n",
       "    <tr>\n",
       "      <th>3</th>\n",
       "      <td>woman</td>\n",
       "      <td>0</td>\n",
       "    </tr>\n",
       "    <tr>\n",
       "      <th>4</th>\n",
       "      <td>man</td>\n",
       "      <td>1</td>\n",
       "    </tr>\n",
       "    <tr>\n",
       "      <th>...</th>\n",
       "      <td>...</td>\n",
       "      <td>...</td>\n",
       "    </tr>\n",
       "    <tr>\n",
       "      <th>886</th>\n",
       "      <td>man</td>\n",
       "      <td>1</td>\n",
       "    </tr>\n",
       "    <tr>\n",
       "      <th>887</th>\n",
       "      <td>woman</td>\n",
       "      <td>0</td>\n",
       "    </tr>\n",
       "    <tr>\n",
       "      <th>888</th>\n",
       "      <td>woman</td>\n",
       "      <td>0</td>\n",
       "    </tr>\n",
       "    <tr>\n",
       "      <th>889</th>\n",
       "      <td>man</td>\n",
       "      <td>1</td>\n",
       "    </tr>\n",
       "    <tr>\n",
       "      <th>890</th>\n",
       "      <td>man</td>\n",
       "      <td>1</td>\n",
       "    </tr>\n",
       "  </tbody>\n",
       "</table>\n",
       "<p>891 rows × 2 columns</p>\n",
       "</div>"
      ],
      "text/plain": [
       "       who  Who_New\n",
       "0      man        1\n",
       "1    woman        0\n",
       "2    woman        0\n",
       "3    woman        0\n",
       "4      man        1\n",
       "..     ...      ...\n",
       "886    man        1\n",
       "887  woman        0\n",
       "888  woman        0\n",
       "889    man        1\n",
       "890    man        1\n",
       "\n",
       "[891 rows x 2 columns]"
      ]
     },
     "execution_count": 48,
     "metadata": {},
     "output_type": "execute_result"
    }
   ],
   "source": [
    "df[['who','Who_New']]"
   ]
  },
  {
   "cell_type": "code",
   "execution_count": 49,
   "id": "ff65edd2",
   "metadata": {},
   "outputs": [],
   "source": [
    "def convert(x):\n",
    "    if x=='man':\n",
    "        return 1\n",
    "    else:\n",
    "        return 0"
   ]
  },
  {
   "cell_type": "code",
   "execution_count": 50,
   "id": "985dab66",
   "metadata": {},
   "outputs": [
    {
     "data": {
      "text/plain": [
       "0"
      ]
     },
     "execution_count": 50,
     "metadata": {},
     "output_type": "execute_result"
    }
   ],
   "source": [
    "convert('Woman')"
   ]
  },
  {
   "cell_type": "code",
   "execution_count": 52,
   "id": "719979d0",
   "metadata": {},
   "outputs": [],
   "source": [
    "mx = lambda a,b,c:a if a>b and a>c else b if b>a and b>c else c"
   ]
  },
  {
   "cell_type": "code",
   "execution_count": 53,
   "id": "5ae6bf37",
   "metadata": {},
   "outputs": [
    {
     "data": {
      "text/plain": [
       "20"
      ]
     },
     "execution_count": 53,
     "metadata": {},
     "output_type": "execute_result"
    }
   ],
   "source": [
    "mx(18,20,3)"
   ]
  },
  {
   "cell_type": "markdown",
   "id": "68314c92",
   "metadata": {},
   "source": [
    "# filter()"
   ]
  },
  {
   "cell_type": "markdown",
   "id": "b515dd15",
   "metadata": {},
   "source": [
    "- It takes two argument. The first argument is a function and the second argument is an iterable\n",
    "- The function that we pass inside the filter() must have one argument only and a condition\n",
    "- It filter the value from iterable on the basic if some condition\n",
    "- It returns a filter object\n",
    "- To fetch the values from a filter object we have to typecase it to list or tuple or set or we can apply loop"
   ]
  },
  {
   "cell_type": "code",
   "execution_count": 1,
   "id": "96ee0f10",
   "metadata": {},
   "outputs": [],
   "source": [
    "# filter(function,iterable)\n",
    "# filter(lambda x:condition,iterable)"
   ]
  },
  {
   "cell_type": "code",
   "execution_count": 1,
   "id": "929cd284",
   "metadata": {},
   "outputs": [
    {
     "name": "stdout",
     "output_type": "stream",
     "text": [
      "[2, 4, 6, 8, 10]\n"
     ]
    }
   ],
   "source": [
    "# Fetch the even number from following list usinf filter \n",
    "\n",
    "lst = [1,2,3,4,5,6,7,8,9,10]\n",
    "\n",
    "a=list(filter(lambda x:x%2==0,lst))\n",
    "print(a)"
   ]
  },
  {
   "cell_type": "code",
   "execution_count": 3,
   "id": "70203efb",
   "metadata": {},
   "outputs": [
    {
     "data": {
      "text/plain": [
       "['m', 'l', 'r', 'n', 'n', 'g', 'P', 'y', 't', 'h', 'n']"
      ]
     },
     "execution_count": 3,
     "metadata": {},
     "output_type": "execute_result"
    }
   ],
   "source": [
    "# fETCH ALL THE CONSONANTS FROM THE FOLLOWING string\n",
    "my_str= 'I am learning Python'\n",
    "\n",
    "list(filter(lambda x:x not in 'AWIOUaeiou ',my_str))"
   ]
  },
  {
   "cell_type": "code",
   "execution_count": 7,
   "id": "3804c688",
   "metadata": {},
   "outputs": [],
   "source": [
    "def constants(x):\n",
    "    if x not in 'AEIOUaeiou ':\n",
    "        return x\n",
    "    else:\n",
    "        pass"
   ]
  },
  {
   "cell_type": "code",
   "execution_count": 8,
   "id": "fa5dcbf2",
   "metadata": {},
   "outputs": [
    {
     "data": {
      "text/plain": [
       "['m', 'l', 'r', 'n', 'n', 'g', 'P', 'y', 't', 'h', 'n']"
      ]
     },
     "execution_count": 8,
     "metadata": {},
     "output_type": "execute_result"
    }
   ],
   "source": [
    "list(filter(constants,my_str))"
   ]
  },
  {
   "cell_type": "markdown",
   "id": "9dac69a0",
   "metadata": {},
   "source": [
    "# map()"
   ]
  },
  {
   "cell_type": "markdown",
   "id": "d624af89",
   "metadata": {},
   "source": [
    "- Map takes two arguments. The first argument is a function and second argument is iterable\n",
    "- The function that we pass inside the map() should have only on eargument\n",
    "- The map() performs element by elements operation on the iterable and returns a map object\n",
    "- To fetch the values from the map object we have to type cast to list ,tuple etc or we can apply loop"
   ]
  },
  {
   "cell_type": "code",
   "execution_count": 9,
   "id": "3cdc8039",
   "metadata": {},
   "outputs": [],
   "source": [
    "# Syntax - map(function,iterable)\n",
    "# map (lambda x:operation,iterable)"
   ]
  },
  {
   "cell_type": "code",
   "execution_count": 4,
   "id": "abb013fb",
   "metadata": {},
   "outputs": [
    {
     "data": {
      "text/plain": [
       "[1, 4, 9, 16, 25, 36, 49, 64, 81, 100]"
      ]
     },
     "execution_count": 4,
     "metadata": {},
     "output_type": "execute_result"
    }
   ],
   "source": [
    "lst = [1,2,3,4,5,6,7,8,9,10]\n",
    "\n",
    "list(map(lambda x:x**2,lst))"
   ]
  },
  {
   "cell_type": "code",
   "execution_count": 15,
   "id": "5191773a",
   "metadata": {},
   "outputs": [
    {
     "data": {
      "text/plain": [
       "[1, 4, 27, 16, 125, 36, 343, 64, 729, 100]"
      ]
     },
     "execution_count": 15,
     "metadata": {},
     "output_type": "execute_result"
    }
   ],
   "source": [
    "list(map(lambda x:x**2 if x%2==0 else x**3,lst) )"
   ]
  },
  {
   "cell_type": "code",
   "execution_count": 6,
   "id": "0bc0d908",
   "metadata": {},
   "outputs": [],
   "source": [
    "def even(x):\n",
    "    if x%2==0:\n",
    "        return x\n",
    "    \n",
    "def odd(x):\n",
    "    if x%2!=0:\n",
    "        return x    "
   ]
  },
  {
   "cell_type": "code",
   "execution_count": 2,
   "id": "c6fde95e",
   "metadata": {},
   "outputs": [],
   "source": [
    "even(1)\n"
   ]
  },
  {
   "cell_type": "code",
   "execution_count": 8,
   "id": "11e4baad",
   "metadata": {},
   "outputs": [
    {
     "name": "stdout",
     "output_type": "stream",
     "text": [
      "[2, 4, 6, 8, 10]\n",
      "[1, 3, 5, 7, 9]\n"
     ]
    }
   ],
   "source": [
    "print(list(filter(even,lst)))\n",
    "print(list(filter(odd,lst)))"
   ]
  },
  {
   "cell_type": "code",
   "execution_count": 11,
   "id": "a1bc3dd8",
   "metadata": {},
   "outputs": [],
   "source": [
    "import pandas as pd"
   ]
  },
  {
   "cell_type": "code",
   "execution_count": 19,
   "id": "2ae7c668",
   "metadata": {},
   "outputs": [
    {
     "data": {
      "text/plain": [
       "[1, 4, 9, 16, 25, 36, 49, 64, 81, 100]"
      ]
     },
     "execution_count": 19,
     "metadata": {},
     "output_type": "execute_result"
    }
   ],
   "source": [
    "def square(x):\n",
    "    return x**2\n",
    "\n",
    "s=pd.Series([i for i in range(1,6)])\n",
    "list((map(square,lst)))"
   ]
  },
  {
   "cell_type": "markdown",
   "id": "3afa6d5b",
   "metadata": {},
   "source": [
    "# reduce()"
   ]
  },
  {
   "cell_type": "markdown",
   "id": "fdc4736d",
   "metadata": {},
   "source": [
    "- It is used to perform some aggregation operation on an iterable\n",
    "- Aggregation - Sum, Multiply, Division, Max, Min\n",
    "- It takes two arguments. The first is function and second is iterable\n",
    "- That function that we pass inside the reduce() shoulkd have the arguments\n",
    "- reduce() returns the value after aggregation\n"
   ]
  },
  {
   "cell_type": "code",
   "execution_count": 20,
   "id": "99cfa499",
   "metadata": {},
   "outputs": [
    {
     "name": "stdout",
     "output_type": "stream",
     "text": [
      "55\n"
     ]
    }
   ],
   "source": [
    "lst= [1,2,3,4,5,6,7,8,9,10]\n",
    "\n",
    "s = 0\n",
    "\n",
    "for i in lst:\n",
    "    s+=i\n",
    "print(s)    "
   ]
  },
  {
   "cell_type": "markdown",
   "id": "6e137b9e",
   "metadata": {},
   "source": [
    "# How to import reduce?"
   ]
  },
  {
   "cell_type": "code",
   "execution_count": 21,
   "id": "39ea3a96",
   "metadata": {},
   "outputs": [],
   "source": [
    "from functools import reduce"
   ]
  },
  {
   "cell_type": "code",
   "execution_count": 22,
   "id": "1b50880c",
   "metadata": {},
   "outputs": [],
   "source": [
    "# reduce(function,iterable)\n",
    "# reduce(lambda x,y:operation,iterable)"
   ]
  },
  {
   "cell_type": "code",
   "execution_count": 23,
   "id": "029f6a70",
   "metadata": {},
   "outputs": [],
   "source": [
    "lst =[1,2,3,4,5,6,7,8,9,10]"
   ]
  },
  {
   "cell_type": "code",
   "execution_count": 24,
   "id": "732c4ee5",
   "metadata": {},
   "outputs": [
    {
     "data": {
      "text/plain": [
       "55"
      ]
     },
     "execution_count": 24,
     "metadata": {},
     "output_type": "execute_result"
    }
   ],
   "source": [
    "reduce(lambda x,y:x+y,lst)"
   ]
  },
  {
   "cell_type": "code",
   "execution_count": 25,
   "id": "184a538e",
   "metadata": {},
   "outputs": [
    {
     "data": {
      "text/plain": [
       "11"
      ]
     },
     "execution_count": 25,
     "metadata": {},
     "output_type": "execute_result"
    }
   ],
   "source": [
    "def add(x,y):\n",
    "    return x+y\n",
    "\n",
    "add(5,6)"
   ]
  },
  {
   "cell_type": "code",
   "execution_count": 29,
   "id": "b3c31312",
   "metadata": {},
   "outputs": [
    {
     "name": "stdout",
     "output_type": "stream",
     "text": [
      "55\n"
     ]
    }
   ],
   "source": [
    "s=reduce(add,lst)\n",
    "print(s)"
   ]
  },
  {
   "cell_type": "code",
   "execution_count": 33,
   "id": "dba71871",
   "metadata": {},
   "outputs": [
    {
     "data": {
      "text/plain": [
       "46448640"
      ]
     },
     "execution_count": 33,
     "metadata": {},
     "output_type": "execute_result"
    }
   ],
   "source": [
    "lst=[8,2,3,6,4,7,9,5,32,4]\n",
    "reduce(lambda x,y:x,lst)\n",
    "reduce(lambda x,y:x*y,lst)"
   ]
  },
  {
   "cell_type": "markdown",
   "id": "0bea4525",
   "metadata": {},
   "source": [
    "# Modules"
   ]
  }
 ],
 "metadata": {
  "kernelspec": {
   "display_name": "Python 3 (ipykernel)",
   "language": "python",
   "name": "python3"
  },
  "language_info": {
   "codemirror_mode": {
    "name": "ipython",
    "version": 3
   },
   "file_extension": ".py",
   "mimetype": "text/x-python",
   "name": "python",
   "nbconvert_exporter": "python",
   "pygments_lexer": "ipython3",
   "version": "3.11.3"
  }
 },
 "nbformat": 4,
 "nbformat_minor": 5
}
