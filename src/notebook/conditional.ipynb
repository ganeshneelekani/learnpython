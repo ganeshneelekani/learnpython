{
 "cells": [
  {
   "cell_type": "markdown",
   "id": "3b24e8b5",
   "metadata": {},
   "source": [
    "# conditional statement"
   ]
  },
  {
   "cell_type": "code",
   "execution_count": 8,
   "id": "0490bbd6",
   "metadata": {},
   "outputs": [
    {
     "name": "stdout",
     "output_type": "stream",
     "text": [
      "Enter the first number20\n",
      "Enter the second number56\n",
      "Value20\n",
      "My name is John, I'm 36\n"
     ]
    }
   ],
   "source": [
    "a=int(input(\"Enter the first number\"))\n",
    "b=int(input(\"Enter the second number\"))\n",
    "if a < b:\n",
    "    print(f\"Value{a}\")\n",
    "    print(\"My name is {fname}, I'm {age}\".format(fname = \"John\", age = 36))\n",
    "else:    \n",
    "    print(f\"Value{b}\")"
   ]
  },
  {
   "cell_type": "markdown",
   "id": "605e8394",
   "metadata": {},
   "source": [
    "# if...elseif...else"
   ]
  },
  {
   "cell_type": "code",
   "execution_count": 13,
   "id": "b54c7b9c",
   "metadata": {},
   "outputs": [
    {
     "name": "stdout",
     "output_type": "stream",
     "text": [
      "Line 1\n"
     ]
    }
   ],
   "source": [
    "if 2<3 and 1<2:\n",
    "    print(\"Line 1\")\n",
    "elif 5<6:\n",
    "    print(\"Line 2\")\n",
    "else:\n",
    "    print(\"Line 3\")\n",
    " "
   ]
  },
  {
   "cell_type": "markdown",
   "id": "bcec540f",
   "metadata": {},
   "source": [
    "# Nested if... else statement\n"
   ]
  },
  {
   "cell_type": "code",
   "execution_count": 15,
   "id": "2d9d1dba",
   "metadata": {},
   "outputs": [
    {
     "name": "stdout",
     "output_type": "stream",
     "text": [
      "Line 1\n"
     ]
    }
   ],
   "source": [
    "if 1<2:\n",
    "    if 2<3:\n",
    "        print(\"Line 1\")\n",
    "    else:\n",
    "        print(\"Line 2\")\n",
    "else:\n",
    "    print(\"Line 3\")"
   ]
  },
  {
   "cell_type": "markdown",
   "id": "6e38fd1f",
   "metadata": {},
   "source": [
    "# Ternary operator"
   ]
  },
  {
   "cell_type": "code",
   "execution_count": 1,
   "id": "88e7fa31",
   "metadata": {},
   "outputs": [
    {
     "data": {
      "text/plain": [
       "125"
      ]
     },
     "execution_count": 1,
     "metadata": {},
     "output_type": "execute_result"
    }
   ],
   "source": [
    "# true_value if condition else false_value\n",
    "i=5\n",
    "\n",
    "i**2 if i%2==0 else i**3"
   ]
  },
  {
   "cell_type": "code",
   "execution_count": 5,
   "id": "9795c175",
   "metadata": {},
   "outputs": [
    {
     "name": "stdout",
     "output_type": "stream",
     "text": [
      "10\n"
     ]
    }
   ],
   "source": [
    "#Get maximum of three numbers using ternary operator\n",
    "\n",
    "a=10\n",
    "b=5\n",
    "c=2\n",
    "\n",
    "if a>b and a>c:\n",
    "    print(a)\n",
    "elif b>c and b>a:\n",
    "    print(b)\n",
    "else:\n",
    "    print(c)\n",
    "    \n",
    "# EXP_1 IF COND_1 ELSE EXP_2 IF COND_2 ELSE EXP_3    \n",
    "a if a>b and a>c else b if b>a and b<c else c"
   ]
  },
  {
   "cell_type": "code",
   "execution_count": null,
   "id": "17adaf8b",
   "metadata": {},
   "outputs": [],
   "source": []
  },
  {
   "cell_type": "code",
   "execution_count": null,
   "id": "26a5eae8",
   "metadata": {},
   "outputs": [],
   "source": []
  }
 ],
 "metadata": {
  "kernelspec": {
   "display_name": "Python 3 (ipykernel)",
   "language": "python",
   "name": "python3"
  },
  "language_info": {
   "codemirror_mode": {
    "name": "ipython",
    "version": 3
   },
   "file_extension": ".py",
   "mimetype": "text/x-python",
   "name": "python",
   "nbconvert_exporter": "python",
   "pygments_lexer": "ipython3",
   "version": "3.11.3"
  }
 },
 "nbformat": 4,
 "nbformat_minor": 5
}
