{
 "cells": [
  {
   "cell_type": "markdown",
   "id": "865bbda2",
   "metadata": {},
   "source": [
    "# Types of loop\n",
    "\n",
    "- ## for loop\n",
    "- ## while loop"
   ]
  },
  {
   "cell_type": "markdown",
   "id": "4bdc5bde",
   "metadata": {},
   "source": [
    "# for loop"
   ]
  },
  {
   "cell_type": "code",
   "execution_count": 2,
   "id": "35ed5e86",
   "metadata": {},
   "outputs": [
    {
     "name": "stdout",
     "output_type": "stream",
     "text": [
      "P\n",
      "y\n",
      "t\n",
      "h\n",
      "o\n",
      "n\n"
     ]
    }
   ],
   "source": [
    "for v in 'Python':\n",
    "    print(v)"
   ]
  },
  {
   "cell_type": "code",
   "execution_count": 3,
   "id": "148debf5",
   "metadata": {},
   "outputs": [
    {
     "name": "stdout",
     "output_type": "stream",
     "text": [
      "True\n",
      "Python\n",
      "50\n",
      "{1: 100, 2: 200}\n"
     ]
    }
   ],
   "source": [
    "# iterable - String, List, Tuple, Dictionary, Set, FrozenSet, Range\n",
    "\n",
    "lst = [True, 'Python', 50, {1:100, 2:200}]\n",
    "for x in lst:\n",
    "    print(x)"
   ]
  },
  {
   "cell_type": "code",
   "execution_count": 4,
   "id": "c00ed156",
   "metadata": {},
   "outputs": [
    {
     "name": "stdout",
     "output_type": "stream",
     "text": [
      "1\n",
      "2\n",
      "3\n",
      "4\n",
      "100\n",
      "200\n",
      "300\n",
      "400\n"
     ]
    }
   ],
   "source": [
    "dic = {1:100,2:200,3:300,4:400}\n",
    "\n",
    "for i in dic:\n",
    "    print(i)\n",
    "    \n",
    "for i in dic.values():\n",
    "    print(i)"
   ]
  },
  {
   "cell_type": "code",
   "execution_count": 5,
   "id": "49cced73",
   "metadata": {},
   "outputs": [
    {
     "name": "stdout",
     "output_type": "stream",
     "text": [
      "40\n",
      "Hello\n",
      "10\n",
      "20\n",
      "30\n"
     ]
    }
   ],
   "source": [
    "for i in frozenset([10,20,30,40,\"Hello\"]):\n",
    "    print(i)  "
   ]
  },
  {
   "cell_type": "code",
   "execution_count": 6,
   "id": "89d90cfe",
   "metadata": {},
   "outputs": [
    {
     "name": "stdout",
     "output_type": "stream",
     "text": [
      "0\n",
      "1\n",
      "2\n",
      "3\n",
      "4\n"
     ]
    }
   ],
   "source": [
    "for i in range(5):\n",
    "    print(i)"
   ]
  },
  {
   "cell_type": "code",
   "execution_count": 7,
   "id": "ac6e45d3",
   "metadata": {},
   "outputs": [
    {
     "name": "stdout",
     "output_type": "stream",
     "text": [
      "6\n"
     ]
    }
   ],
   "source": [
    "c=0\n",
    "for i in \"python\":\n",
    "    c+=1\n",
    "print(c)    "
   ]
  },
  {
   "cell_type": "code",
   "execution_count": 8,
   "id": "7d92ce58",
   "metadata": {},
   "outputs": [
    {
     "name": "stdout",
     "output_type": "stream",
     "text": [
      "n\n",
      "o\n",
      "h\n",
      "t\n",
      "y\n",
      "p\n"
     ]
    }
   ],
   "source": [
    "for i in \"python\"[::-1]:\n",
    "    print(i)\n"
   ]
  },
  {
   "cell_type": "markdown",
   "id": "610fc32f",
   "metadata": {},
   "source": [
    "# Nested loop"
   ]
  },
  {
   "cell_type": "code",
   "execution_count": 9,
   "id": "3c5bac67",
   "metadata": {},
   "outputs": [
    {
     "name": "stdout",
     "output_type": "stream",
     "text": [
      "1 2 3 \n",
      "\n",
      "4 5 6 \n",
      "\n",
      "7 8 9 \n",
      "\n"
     ]
    }
   ],
   "source": [
    "matrix = [\n",
    "    [1, 2, 3],\n",
    "    [4, 5, 6],\n",
    "    [7, 8, 9]\n",
    "]\n",
    "\n",
    "for row in matrix:\n",
    "    for element in row:\n",
    "        print(element, end=' ')\n",
    "    print('\\n')"
   ]
  },
  {
   "cell_type": "markdown",
   "id": "b6cdf820",
   "metadata": {},
   "source": [
    "# while loop\n"
   ]
  },
  {
   "cell_type": "code",
   "execution_count": 10,
   "id": "687bcef1",
   "metadata": {},
   "outputs": [],
   "source": [
    "# for loop works only with iterable only\n",
    "# Any iterable will have fixed length\n",
    "# for loop always have limited or fixed number of iteration\n",
    "# When we do not know number of iteration then forloop is not a choice"
   ]
  },
  {
   "cell_type": "code",
   "execution_count": 11,
   "id": "61992448",
   "metadata": {},
   "outputs": [
    {
     "name": "stdout",
     "output_type": "stream",
     "text": [
      "Count: 0\n",
      "Count: 1\n",
      "Count: 2\n",
      "Count: 3\n",
      "Count: 4\n"
     ]
    }
   ],
   "source": [
    "count = 0\n",
    "\n",
    "while count < 5:\n",
    "    print(\"Count:\", count)\n",
    "    count += 1"
   ]
  },
  {
   "cell_type": "markdown",
   "id": "4d42c5aa",
   "metadata": {},
   "source": [
    "# while break"
   ]
  },
  {
   "cell_type": "code",
   "execution_count": 13,
   "id": "e24572e9",
   "metadata": {},
   "outputs": [
    {
     "name": "stdout",
     "output_type": "stream",
     "text": [
      "Python\n"
     ]
    }
   ],
   "source": [
    "# break statement is used to break the while true condition\n",
    "\n",
    "while True:\n",
    "    print('Python')\n",
    "    break"
   ]
  },
  {
   "cell_type": "markdown",
   "id": "5e5ed6af",
   "metadata": {},
   "source": [
    "# while continue"
   ]
  },
  {
   "cell_type": "code",
   "execution_count": 14,
   "id": "9397de8d",
   "metadata": {},
   "outputs": [
    {
     "name": "stdout",
     "output_type": "stream",
     "text": [
      "Current number: 1\n",
      "Current number: 3\n",
      "Current number: 5\n",
      "Current number: 7\n",
      "Current number: 9\n"
     ]
    }
   ],
   "source": [
    "count = 0\n",
    "\n",
    "while count < 10:\n",
    "    count += 1\n",
    "\n",
    "    if count % 2 == 0:\n",
    "        continue\n",
    "\n",
    "    print(\"Current number:\", count)\n"
   ]
  }
 ],
 "metadata": {
  "kernelspec": {
   "display_name": "Python 3 (ipykernel)",
   "language": "python",
   "name": "python3"
  },
  "language_info": {
   "codemirror_mode": {
    "name": "ipython",
    "version": 3
   },
   "file_extension": ".py",
   "mimetype": "text/x-python",
   "name": "python",
   "nbconvert_exporter": "python",
   "pygments_lexer": "ipython3",
   "version": "3.11.3"
  }
 },
 "nbformat": 4,
 "nbformat_minor": 5
}
