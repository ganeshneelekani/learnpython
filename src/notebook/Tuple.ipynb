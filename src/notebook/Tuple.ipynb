{
 "cells": [
  {
   "cell_type": "markdown",
   "id": "70915b2c",
   "metadata": {},
   "source": [
    "# Tuple\n"
   ]
  },
  {
   "cell_type": "markdown",
   "id": "fffb8c49",
   "metadata": {},
   "source": [
    "- Anything inside the () is tuple\n",
    "- A tuple is a container type that can contain multiple element\n",
    "- A tuple can contain heterogeneous elements\n",
    "- A tuple can cobtain duplicate elements\n",
    "- A tuple is immutable in nature"
   ]
  },
  {
   "cell_type": "code",
   "execution_count": 1,
   "id": "7ab2d70e",
   "metadata": {},
   "outputs": [
    {
     "name": "stdout",
     "output_type": "stream",
     "text": [
      "(10, 20, 30, 40, 50, 60) <class 'tuple'>\n",
      "(4, 6.7, 3, 8, 'Hello', None, {1, 2, 3}, [10, 20, 30], {1: 100, 2: 200}) <class 'tuple'>\n"
     ]
    }
   ],
   "source": [
    "t= (10,20,30,40,50,60)\n",
    "print(t,type(t))\n",
    "\n",
    "t= (4,6.7, 3, 8, 'Hello', None, {1,2,3}, [10,20,30],{1:100,2:200})\n",
    "print(t,type(t))"
   ]
  },
  {
   "cell_type": "markdown",
   "id": "a2367ce0",
   "metadata": {},
   "source": [
    "# Operations on a tuple"
   ]
  },
  {
   "cell_type": "markdown",
   "id": "4c87def4",
   "metadata": {},
   "source": [
    "- Concatination\n",
    "- Repetition\n",
    "- Length\n",
    "- Indexing and Slicing\n"
   ]
  },
  {
   "cell_type": "markdown",
   "id": "dbed4443",
   "metadata": {},
   "source": [
    "# Concatination"
   ]
  },
  {
   "cell_type": "code",
   "execution_count": 2,
   "id": "73c86dca",
   "metadata": {},
   "outputs": [
    {
     "name": "stdout",
     "output_type": "stream",
     "text": [
      "(10, 20, 30, 40, 50, 60, 34, 67, 12, 89, 65)\n"
     ]
    }
   ],
   "source": [
    "t= (10,20,30,40,50,60) + (34,67,12,89,65)\n",
    "print(t)\n"
   ]
  },
  {
   "cell_type": "markdown",
   "id": "a8078cce",
   "metadata": {},
   "source": [
    "# Repetitions"
   ]
  },
  {
   "cell_type": "code",
   "execution_count": 3,
   "id": "fefa1763",
   "metadata": {},
   "outputs": [
    {
     "name": "stdout",
     "output_type": "stream",
     "text": [
      "(10, 23, 4, 56, 7, 889, 10, 23, 4, 56, 7, 889)\n"
     ]
    }
   ],
   "source": [
    "t=(10,23,4,56,7,889)*2\n",
    "print(t)"
   ]
  },
  {
   "cell_type": "markdown",
   "id": "91427a65",
   "metadata": {},
   "source": [
    "# Length"
   ]
  },
  {
   "cell_type": "code",
   "execution_count": 4,
   "id": "bcfd6b44",
   "metadata": {},
   "outputs": [
    {
     "name": "stdout",
     "output_type": "stream",
     "text": [
      "6\n"
     ]
    }
   ],
   "source": [
    "t=(10,23,4,56,7,889)\n",
    "print(len(t))"
   ]
  },
  {
   "cell_type": "markdown",
   "id": "b1eda027",
   "metadata": {},
   "source": [
    "# Indexing\n"
   ]
  },
  {
   "cell_type": "code",
   "execution_count": 5,
   "id": "c601bb9c",
   "metadata": {},
   "outputs": [
    {
     "name": "stdout",
     "output_type": "stream",
     "text": [
      "3\n",
      "{1: 100, 2: 200}\n",
      "3\n"
     ]
    }
   ],
   "source": [
    "t= (4,6.7, 3, 8, 'Hello', None, {1,2,3}, [10,20,[56,1,3,4,67]],{1:100,2:200})\n",
    "print(t[2])\n",
    "print(t[-1])\n",
    "# print(t[34])\n",
    "print(t[7][2][2])"
   ]
  },
  {
   "cell_type": "markdown",
   "id": "fe443de2",
   "metadata": {},
   "source": [
    "# Slicing"
   ]
  },
  {
   "cell_type": "code",
   "execution_count": 6,
   "id": "9cc2bacf",
   "metadata": {},
   "outputs": [
    {
     "name": "stdout",
     "output_type": "stream",
     "text": [
      "(3, 8)\n",
      "({1: 100, 2: 200}, [10, 20, [56, 1, 3, 4, 67]], {1, 2, 3}, None, 'Hello', 8, 3, 6.7, 4)\n",
      "(4, 6.7)\n"
     ]
    }
   ],
   "source": [
    "# t[start_index:stop_index:step_size]\n",
    "# Stop_index is excluded\n",
    "# By default the step size is +1\n",
    "\n",
    "print(t[2:4])\n",
    "print(t[::-1])\n",
    "print(t[:2:])"
   ]
  },
  {
   "cell_type": "markdown",
   "id": "201afe06",
   "metadata": {},
   "source": [
    "# Tuple is mmutable"
   ]
  },
  {
   "cell_type": "code",
   "execution_count": 7,
   "id": "fd77bb65",
   "metadata": {},
   "outputs": [
    {
     "name": "stdout",
     "output_type": "stream",
     "text": [
      "(1, 2, 3)\n"
     ]
    }
   ],
   "source": [
    "my_tuple = (1, 2, 3)\n",
    "print(my_tuple) \n",
    "# my_tuple[0] = 4"
   ]
  },
  {
   "cell_type": "markdown",
   "id": "32d3b38c",
   "metadata": {},
   "source": [
    "# How to create a tuple"
   ]
  },
  {
   "cell_type": "markdown",
   "id": "478b97f6",
   "metadata": {},
   "source": [
    "# Case 1"
   ]
  },
  {
   "cell_type": "code",
   "execution_count": 8,
   "id": "9e218f5b",
   "metadata": {},
   "outputs": [
    {
     "name": "stdout",
     "output_type": "stream",
     "text": [
      "(4, 6.7, 3, 8, 'Hello', None, {1, 2, 3}, [10, 20, [56, 1, 3, 4, 67]], {1: 100, 2: 200}) <class 'tuple'>\n"
     ]
    }
   ],
   "source": [
    "t= (4,6.7, 3, 8, 'Hello', None, {1,2,3}, [10,20,[56,1,3,4,67]],{1:100,2:200})\n",
    "print(t,type(t))"
   ]
  },
  {
   "cell_type": "markdown",
   "id": "9d749b51",
   "metadata": {},
   "source": [
    "# Case 2"
   ]
  },
  {
   "cell_type": "code",
   "execution_count": 9,
   "id": "df3d811d",
   "metadata": {},
   "outputs": [
    {
     "name": "stdout",
     "output_type": "stream",
     "text": [
      "('H', 'e', 'l', 'l', 'o', ' ', 'P', 'y', 't', 'h', 'o', 'n')\n",
      "(1, 2, 3, 4, 5, 6, 7, 6) <class 'tuple'>\n",
      "(1, 2) <class 'tuple'>\n",
      "('value1', 'value2', 'value3') <class 'tuple'>\n",
      "frozenset({True, 10, None, 20, 30})\n",
      "(True, 10, None, 20, 30) <class 'tuple'>\n"
     ]
    }
   ],
   "source": [
    "# By using the tuple()\n",
    "# tuple(iterable)\n",
    "\n",
    "mystr =\"Hello Python\"\n",
    "t1= tuple(mystr)\n",
    "print(t1)\n",
    "\n",
    "ltr= [1,2,3,4,5,6,7,6]\n",
    "t=tuple(ltr)\n",
    "print(t,type(t))\n",
    "\n",
    "se={1: 100, 2: 200}\n",
    "t=tuple(se)\n",
    "my_dict = {'key1': 'value1', 'key2': 'value2', 'key3': 'value3'}\n",
    "v=tuple(my_dict.values())\n",
    "print(t,type(t))\n",
    "print(v,type(v))\n",
    "\n",
    "f=frozenset([10,20,30,True,None])\n",
    "print(f)\n",
    "t=tuple(f)\n",
    "print(t,type(t))"
   ]
  },
  {
   "cell_type": "markdown",
   "id": "e930fa33",
   "metadata": {},
   "source": [
    "# Case 3"
   ]
  },
  {
   "cell_type": "code",
   "execution_count": 10,
   "id": "42cf11a4",
   "metadata": {},
   "outputs": [
    {
     "name": "stdout",
     "output_type": "stream",
     "text": [
      "1 <class 'int'>\n",
      "5.5 <class 'float'>\n",
      "Data <class 'str'>\n",
      "('Data',) <class 'tuple'>\n"
     ]
    }
   ],
   "source": [
    "# Creating a tuple of single element\n",
    "\n",
    "# Imp - When we pass a single value inside the () then it is not a tuple but value itseld\n",
    "\n",
    "t=(1)\n",
    "print(t,type(t))\n",
    "\n",
    "\n",
    "t=(5.5)\n",
    "print(t,type(t))\n",
    "\n",
    "t= ('Data')\n",
    "print(t,type(t))\n",
    "\n",
    "\n",
    "t= ('Data',) # Add the comma in it if it has single element, This behaviour is not in list or any other datattype\n",
    "print(t,type(t))"
   ]
  },
  {
   "cell_type": "markdown",
   "id": "ed520669",
   "metadata": {},
   "source": [
    "# Case 4"
   ]
  },
  {
   "cell_type": "code",
   "execution_count": 11,
   "id": "5feb6387",
   "metadata": {
    "scrolled": true
   },
   "outputs": [
    {
     "name": "stdout",
     "output_type": "stream",
     "text": [
      "20\n"
     ]
    }
   ],
   "source": [
    "# we can create a tuple without using () as well\n",
    "a=10\n",
    "a=20\n",
    "print(a)"
   ]
  },
  {
   "cell_type": "code",
   "execution_count": 12,
   "id": "66e514ef",
   "metadata": {},
   "outputs": [
    {
     "name": "stdout",
     "output_type": "stream",
     "text": [
      "(10, 20) <class 'tuple'>\n"
     ]
    }
   ],
   "source": [
    "a=10,20\n",
    "print(a,type(a))\n"
   ]
  },
  {
   "cell_type": "markdown",
   "id": "e694ddcf",
   "metadata": {},
   "source": [
    "# Packing and Unpacking"
   ]
  },
  {
   "cell_type": "markdown",
   "id": "3b3ce7bf",
   "metadata": {},
   "source": [
    "- Assining multiple values to a single variable is know as packing\n",
    "- Opposite of packing is unpacking\n",
    "- In python packing is supported by tuple\n",
    "- When we assign multiple values generated by , to a variable "
   ]
  },
  {
   "cell_type": "code",
   "execution_count": 13,
   "id": "03365d58",
   "metadata": {},
   "outputs": [
    {
     "name": "stdout",
     "output_type": "stream",
     "text": [
      "(True, 50, 67, 23, [1, 2, 3]) <class 'tuple'>\n"
     ]
    }
   ],
   "source": [
    "a = True,50,67,23,[1,2,3]\n",
    "print(a,type(a))"
   ]
  },
  {
   "cell_type": "code",
   "execution_count": 14,
   "id": "1eed4b26",
   "metadata": {},
   "outputs": [
    {
     "name": "stdout",
     "output_type": "stream",
     "text": [
      "('Roshan', 'Shiva', 'Gopal', 'Saif') <class 'tuple'>\n",
      "('Gopal', 25, 'Pune', 95000) <class 'tuple'>\n",
      "Gopal\n",
      "25\n",
      "Pune\n",
      "95000\n"
     ]
    }
   ],
   "source": [
    "names = 'Roshan','Shiva','Gopal','Saif'\n",
    "print(names, type(names))\n",
    "\n",
    "data =('Gopal',25,'Pune',95000)\n",
    "print(data,type(data))\n",
    "\n",
    "name,age,city,sal=data\n",
    "print(name)\n",
    "print(age)\n",
    "print(city)\n",
    "print(sal)"
   ]
  },
  {
   "cell_type": "code",
   "execution_count": 15,
   "id": "e75c684c",
   "metadata": {},
   "outputs": [],
   "source": [
    "# name,age,city=data too many values to unpack (expected 3)\n",
    "# name,age,city,sal,abc=data too many values to unpack (expected 3) =data too many values to unpack (expected 3)"
   ]
  },
  {
   "cell_type": "markdown",
   "id": "1abf2422",
   "metadata": {},
   "source": [
    "# Case 5"
   ]
  },
  {
   "cell_type": "code",
   "execution_count": 16,
   "id": "dbb72888",
   "metadata": {},
   "outputs": [
    {
     "name": "stdout",
     "output_type": "stream",
     "text": [
      "(2, 4, 6, 8, 10)\n",
      "(5, 6, 'data')\n"
     ]
    }
   ],
   "source": [
    "# By using loop\n",
    "\n",
    "# Create a tuple that has the even numbers from 1 to 10\n",
    "\n",
    "t=()\n",
    "\n",
    "for i in range(2,11,2):\n",
    "    t+=(i,)\n",
    "\n",
    "print(t)\n",
    "\n",
    "a= ()+(5,)+(6,)+('data',)\n",
    "print(a)"
   ]
  },
  {
   "cell_type": "markdown",
   "id": "cf12d378",
   "metadata": {},
   "source": [
    "# Case 6"
   ]
  },
  {
   "cell_type": "code",
   "execution_count": null,
   "id": "a486ecc0",
   "metadata": {},
   "outputs": [],
   "source": [
    "# By taking the input from user\n",
    "\n",
    "a = tuple(input('Enter some values -'))\n",
    "print(a)"
   ]
  },
  {
   "cell_type": "code",
   "execution_count": null,
   "id": "e14ecb52",
   "metadata": {},
   "outputs": [],
   "source": [
    "d= tuple('10,20,30,40,50')\n",
    "print(d)\n",
    "\n",
    "d= (tuple(eval('10,20,30,40,50')))\n",
    "print(d)"
   ]
  },
  {
   "cell_type": "markdown",
   "id": "b4c6e60d",
   "metadata": {},
   "source": [
    "# Tuple is immutable"
   ]
  },
  {
   "cell_type": "markdown",
   "id": "0926c2cd",
   "metadata": {},
   "source": [
    "- We can not modify the values once defined\n",
    "- Iterm assignement is not possible\n",
    "- Address changes before and after the assignement"
   ]
  },
  {
   "cell_type": "code",
   "execution_count": null,
   "id": "ef9d01b3",
   "metadata": {},
   "outputs": [],
   "source": [
    "t =(10,20,30,40,56)\n",
    "# t[0]=56   Cannot assigned\n",
    "\n",
    "t=(10,)\n",
    "print(t,id(t))\n",
    "\n",
    "t=(50,)\n",
    "print(t,id(t))"
   ]
  },
  {
   "cell_type": "markdown",
   "id": "b02cdc41",
   "metadata": {},
   "source": [
    "# Tuple Methods"
   ]
  },
  {
   "cell_type": "code",
   "execution_count": null,
   "id": "5b6666fc",
   "metadata": {},
   "outputs": [],
   "source": [
    "print(dir(tuple))"
   ]
  },
  {
   "cell_type": "code",
   "execution_count": null,
   "id": "533fcc6c",
   "metadata": {},
   "outputs": [],
   "source": [
    "#  'count', 'index'\n",
    "\n",
    "t=(10,23,45,67,86)\n",
    "print(t.count(45))"
   ]
  },
  {
   "cell_type": "code",
   "execution_count": null,
   "id": "168054a3",
   "metadata": {},
   "outputs": [],
   "source": [
    "t=(10,20,30,40,50,60,10,20,30,40,50,60)\n",
    "print(t.index(30))\n",
    "print(t.index(30,3))"
   ]
  },
  {
   "cell_type": "code",
   "execution_count": null,
   "id": "5a8691b6",
   "metadata": {},
   "outputs": [],
   "source": []
  }
 ],
 "metadata": {
  "kernelspec": {
   "display_name": "Python 3 (ipykernel)",
   "language": "python",
   "name": "python3"
  },
  "language_info": {
   "codemirror_mode": {
    "name": "ipython",
    "version": 3
   },
   "file_extension": ".py",
   "mimetype": "text/x-python",
   "name": "python",
   "nbconvert_exporter": "python",
   "pygments_lexer": "ipython3",
   "version": "3.11.3"
  }
 },
 "nbformat": 4,
 "nbformat_minor": 5
}
